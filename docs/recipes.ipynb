{
 "cells": [
  {
   "cell_type": "markdown",
   "id": "fb20d163",
   "metadata": {},
   "source": [
    "## Sharing Code Libraries Between Jupyter Notebooks"
   ]
  },
  {
   "cell_type": "code",
   "execution_count": null,
   "id": "c5dbcfe6",
   "metadata": {},
   "outputs": [],
   "source": [
    "%reload_ext autoreload\n",
    "%autoreload 2"
   ]
  },
  {
   "cell_type": "code",
   "execution_count": null,
   "id": "69eba0b5",
   "metadata": {},
   "outputs": [],
   "source": [
    "import parkit as pk"
   ]
  },
  {
   "cell_type": "code",
   "execution_count": null,
   "id": "882690fd",
   "metadata": {},
   "outputs": [],
   "source": [
    "# For this example, assume this code is executed in notebook 1.\n",
    "#\n",
    "# Create task. Add a metadata tag for the task's 'library'. We'll make the\n",
    "# task run synchronously by default.\n",
    "@pk.task(\n",
    "    name = 'mysum',\n",
    "    metadata = dict(library = 'math'),\n",
    "    default_sync = True\n",
    ")\n",
    "def __sum__(input: pk.Array):\n",
    "    return sum(input)"
   ]
  },
  {
   "cell_type": "code",
   "execution_count": null,
   "id": "14673281",
   "metadata": {},
   "outputs": [],
   "source": [
    "input = pk.Array()\n",
    "input.extend([1, 2, 3, 4, 5])\n",
    "pk.bind_task('mysum')(input)"
   ]
  },
  {
   "cell_type": "code",
   "execution_count": null,
   "id": "08fa078f",
   "metadata": {},
   "outputs": [],
   "source": [
    "# This code runs in notebook 2.\n",
    "#\n",
    "# Define a function that imports our pre-defined tasks and binds them\n",
    "# to symbols in the notebook's module.\n",
    "\n",
    "def import_library(name: str):\n",
    "    print('importing library', name)\n",
    "    for task in pk.Namespace('task'):\n",
    "        if 'library' in task.metadata and task.metadata['library'] == name:\n",
    "            if pk.bind_symbol(task.namespace, task.name, overwrite = True):\n",
    "                print('bound symbol:', task.name)"
   ]
  },
  {
   "cell_type": "code",
   "execution_count": null,
   "id": "15f86297",
   "metadata": {},
   "outputs": [],
   "source": [
    "import_library('math')"
   ]
  },
  {
   "cell_type": "code",
   "execution_count": null,
   "id": "7764a5e0",
   "metadata": {},
   "outputs": [],
   "source": [
    "input = pk.Array()\n",
    "input.extend([1, 2, 3, 4, 5])\n",
    "mysum(input)"
   ]
  },
  {
   "cell_type": "code",
   "execution_count": null,
   "id": "b3c576da",
   "metadata": {},
   "outputs": [],
   "source": [
    "# Go back to notebook 1.\n",
    "#\n",
    "# Let's change the default mode to run asynchronously.\n",
    "@pk.task(\n",
    "    name = 'mysum',\n",
    "    metadata = dict(library = 'math'),\n",
    "    default_sync = False\n",
    ")\n",
    "def __sum__(input: pk.Array):\n",
    "    return sum(input)"
   ]
  },
  {
   "cell_type": "code",
   "execution_count": null,
   "id": "e9867b7e",
   "metadata": {},
   "outputs": [],
   "source": [
    "# Back to notebook 2.\n",
    "input = pk.Array()\n",
    "input.extend([1, 2, 3, 4, 5])\n",
    "trace = mysum(input)\n",
    "pk.wait_until(lambda: trace.done)\n",
    "print(trace)"
   ]
  },
  {
   "cell_type": "code",
   "execution_count": null,
   "id": "327b20cc",
   "metadata": {},
   "outputs": [],
   "source": [
    "trace.result"
   ]
  },
  {
   "cell_type": "markdown",
   "id": "4272284a",
   "metadata": {},
   "source": [
    "## Zero-copy Access To Numpy Array in Shared Memory"
   ]
  },
  {
   "cell_type": "code",
   "execution_count": null,
   "id": "530a93ac",
   "metadata": {},
   "outputs": [],
   "source": [
    "# We'll extend Dict to support serialization of Numpy arrays without\n",
    "# pickling.\n",
    "import numpy as np\n",
    "\n",
    "class NumpyDict(pk.Dict):\n",
    "    \n",
    "    # This is called during the encoding phase and allows us to \n",
    "    # record metadata that we can use when decoding an object.\n",
    "    def get_metadata(self, value):\n",
    "        if isinstance(value, np.ndarray):\n",
    "            return dict(\n",
    "                shape = value.shape,\n",
    "                dtype = value.dtype\n",
    "            )\n",
    "        return None\n",
    "    \n",
    "    # If we have metadata we know its a Numpy array. Return a zerop-copy version\n",
    "    # if we are in an explicit transaction and we are passed a memoryview. Otherwise\n",
    "    # create an array with a copy of the data.\n",
    "    def decode_value(self, bytestring, metadata):\n",
    "        if metadata is None:\n",
    "            return super().decode_value(bytestring)\n",
    "        if self.is_transaction and isinstance(bytestring, memoryview):\n",
    "            return np.ndarray(metadata['shape'], metadata['dtype'], buffer = bytestring)\n",
    "        return np.ndarray(metadata['shape'], metadata['dtype'], buffer = bytearray(bytestring))\n",
    "\n",
    "    # If we have a numpy array, send back the bytes data, otherwise call the standard\n",
    "    # pickle encoder\n",
    "    def encode_value(self, value):\n",
    "        if isinstance(value, np.ndarray):\n",
    "            return value.data\n",
    "        return super().encode_value(value)"
   ]
  },
  {
   "cell_type": "code",
   "execution_count": null,
   "id": "e8ae08cd",
   "metadata": {},
   "outputs": [],
   "source": [
    "d = NumpyDict()"
   ]
  },
  {
   "cell_type": "code",
   "execution_count": null,
   "id": "db2b184e",
   "metadata": {},
   "outputs": [],
   "source": [
    "data = np.zeros((10, 10))"
   ]
  },
  {
   "cell_type": "code",
   "execution_count": null,
   "id": "6d97a972",
   "metadata": {},
   "outputs": [],
   "source": [
    "# We now have a dictionary with special (non-pickled) encoding for Numpy arrays.\n",
    "d['numpy'] = data\n",
    "d['other'] = [1, 2, 3]"
   ]
  },
  {
   "cell_type": "code",
   "execution_count": null,
   "id": "30ca7fe4",
   "metadata": {},
   "outputs": [],
   "source": [
    "# Standard pickle encoding\n",
    "d['other']"
   ]
  },
  {
   "cell_type": "code",
   "execution_count": null,
   "id": "7f56b65f",
   "metadata": {},
   "outputs": [],
   "source": [
    "# The array is a zero-copy version of the data stored in shared memory.\n",
    "with pk.snapshot(d.namespace):\n",
    "    array = d['numpy']\n",
    "    print(array)"
   ]
  },
  {
   "cell_type": "code",
   "execution_count": null,
   "id": "f5807f76",
   "metadata": {},
   "outputs": [],
   "source": [
    "# This code will throw an exception since the array is a read-only zero-copy\n",
    "# version.\n",
    "with pk.snapshot(d.namespace):\n",
    "    array = d['numpy']\n",
    "    array[0] = 1"
   ]
  },
  {
   "cell_type": "code",
   "execution_count": null,
   "id": "f7140383",
   "metadata": {},
   "outputs": [],
   "source": [
    "# We can get writable copy of the array by setting the zero_copy parameter to\n",
    "# False.\n",
    "with pk.snapshot(d.namespace, zero_copy = False):\n",
    "    array = d['numpy']\n",
    "    array[0] = 1"
   ]
  },
  {
   "cell_type": "code",
   "execution_count": null,
   "id": "2602a6d6",
   "metadata": {},
   "outputs": [],
   "source": [
    "# Retrieving the data in an implicit transaction will always return a writable\n",
    "# array with a copy of the data.\n",
    "array = d['numpy']\n",
    "array[0] = 1"
   ]
  }
 ],
 "metadata": {
  "kernelspec": {
   "display_name": "Python 3",
   "language": "python",
   "name": "python3"
  },
  "language_info": {
   "codemirror_mode": {
    "name": "ipython",
    "version": 3
   },
   "file_extension": ".py",
   "mimetype": "text/x-python",
   "name": "python",
   "nbconvert_exporter": "python",
   "pygments_lexer": "ipython3",
   "version": "3.8.3"
  }
 },
 "nbformat": 4,
 "nbformat_minor": 5
}
