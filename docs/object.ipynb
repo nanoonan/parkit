{
 "cells": [
  {
   "cell_type": "markdown",
   "id": "b5defa66",
   "metadata": {},
   "source": [
    "# Object\n",
    "Every class in *parkit* derives from *Object*. The *Object* class represents an object with persistent attributes. It's easy to sub-class *Object* to create custom persistent objects. An instance of *Object* is accessible from multiple processes. Access to the persistent attributes occurs in either an implicit or explicit transaction."
   ]
  },
  {
   "cell_type": "markdown",
   "id": "e403d180",
   "metadata": {},
   "source": [
    "## Example"
   ]
  },
  {
   "cell_type": "code",
   "execution_count": 2,
   "id": "c7b53788",
   "metadata": {},
   "outputs": [],
   "source": [
    "from parkit import Object\n",
    "\n",
    "# A simple example to demonstrate the difference between local and persistent \n",
    "# attributes.\n",
    "#\n",
    "# Here, local_counter acts like a typical object attribute and each instance \n",
    "# has its own local copy. The persistent_counter is shared among all instances \n",
    "# constructed with the same path identifier. These instances can be running in \n",
    "# difference processes. Access to the persistent_counter is always transactional.\n",
    "\n",
    "class MyObject(Object):\n",
    "    \n",
    "    local_counter = 0\n",
    "    \n",
    "    def __init__(self, path):\n",
    "        \n",
    "        # Important to call the super constructor first\n",
    "        super().__init__(path)\n",
    "        \n",
    "        # The attributes method is an iterator over each of the persistent \n",
    "        # attributes of an object. Important to have this test in the \n",
    "        # constructor, otherwise each new instance will reset the value of the \n",
    "        # persistent attribute.\n",
    "        if 'persistent_counter' not in self.attributes():\n",
    "            self.persistent_counter = 0\n",
    "    \n",
    "    def increment(self):\n",
    "        self.local_counter += 1\n",
    "        self.persistent_counter += 1\n",
    "        \n",
    "    def __str__(self):\n",
    "        return '{0}:{1} local_counter->{2} persistent_counter->{3}'.format(\n",
    "            self.path, id(self), self.local_counter, self.persistent_counter\n",
    "        )"
   ]
  },
  {
   "cell_type": "markdown",
   "id": "c81b3f83",
   "metadata": {},
   "source": [
    "## Objects Are Referenced By Paths"
   ]
  },
  {
   "cell_type": "code",
   "execution_count": 3,
   "id": "f03ed5ea",
   "metadata": {},
   "outputs": [],
   "source": [
    "obj1 = MyObject('example/obj')"
   ]
  },
  {
   "cell_type": "markdown",
   "id": "b7613b13",
   "metadata": {},
   "source": [
    "The identifier for this object is the path *example/obj*. Any instance constructed with that path will share the same state. The path is divided into a namespace and a name based on the path separator '/' (just like a directory tree on a filesystem). A namespace is a transactional context. "
   ]
  },
  {
   "cell_type": "code",
   "execution_count": 4,
   "id": "7c1ffc2d",
   "metadata": {},
   "outputs": [
    {
     "data": {
      "text/plain": [
       "('example/obj', 'example', 'obj')"
      ]
     },
     "execution_count": 4,
     "metadata": {},
     "output_type": "execute_result"
    }
   ],
   "source": [
    "obj1.path, obj1.namespace, obj1.name"
   ]
  },
  {
   "cell_type": "markdown",
   "id": "a12c7074",
   "metadata": {},
   "source": [
    "Use the *namespaces* function to list all current namespaces."
   ]
  },
  {
   "cell_type": "code",
   "execution_count": 5,
   "id": "bb46a9d8",
   "metadata": {},
   "outputs": [
    {
     "data": {
      "text/plain": [
       "['example']"
      ]
     },
     "execution_count": 5,
     "metadata": {},
     "output_type": "execute_result"
    }
   ],
   "source": [
    "from parkit import namespaces\n",
    "\n",
    "list(namespaces())"
   ]
  },
  {
   "cell_type": "markdown",
   "id": "f37e97c0",
   "metadata": {},
   "source": [
    "Use the *objects* function to list info about all objects in a namespace."
   ]
  },
  {
   "cell_type": "code",
   "execution_count": 6,
   "id": "bdf249e5",
   "metadata": {},
   "outputs": [
    {
     "data": {
      "text/plain": [
       "[('example/obj',\n",
       "  {'databases': [],\n",
       "   'versioned': True,\n",
       "   'created': '2021-05-25T15:48:17.632583',\n",
       "   'type': '__main__.MyObject',\n",
       "   'custom': {}})]"
      ]
     },
     "execution_count": 6,
     "metadata": {},
     "output_type": "execute_result"
    }
   ],
   "source": [
    "from parkit import objects\n",
    "\n",
    "list(objects('example'))"
   ]
  },
  {
   "cell_type": "markdown",
   "id": "7b40637b",
   "metadata": {},
   "source": [
    "## Objects of the Same Path Share the Same State"
   ]
  },
  {
   "cell_type": "code",
   "execution_count": 7,
   "id": "30667619",
   "metadata": {},
   "outputs": [],
   "source": [
    "obj2 = MyObject('example/obj')"
   ]
  },
  {
   "cell_type": "code",
   "execution_count": 8,
   "id": "2d13ca15",
   "metadata": {},
   "outputs": [
    {
     "data": {
      "text/plain": [
       "(2033004013744, 2033004013600)"
      ]
     },
     "execution_count": 8,
     "metadata": {},
     "output_type": "execute_result"
    }
   ],
   "source": [
    "# obj1 and obj2 are not the same Python objects\n",
    "id(obj1), id(obj2)"
   ]
  },
  {
   "cell_type": "code",
   "execution_count": 9,
   "id": "6547d5d9",
   "metadata": {},
   "outputs": [
    {
     "data": {
      "text/plain": [
       "('fadef5a2-e3ad-4017-99e3-99a81acd6573',\n",
       " 'fadef5a2-e3ad-4017-99e3-99a81acd6573')"
      ]
     },
     "execution_count": 9,
     "metadata": {},
     "output_type": "execute_result"
    }
   ],
   "source": [
    "# But they reference the same persistent state which at a low-level is \n",
    "# identified by a UUID.\n",
    "obj1.uuid, obj2.uuid"
   ]
  },
  {
   "cell_type": "code",
   "execution_count": 10,
   "id": "07552939",
   "metadata": {},
   "outputs": [],
   "source": [
    "# Update the obj1 counters, but not obj2\n",
    "obj1.increment()"
   ]
  },
  {
   "cell_type": "code",
   "execution_count": 11,
   "id": "240504d2",
   "metadata": {},
   "outputs": [
    {
     "name": "stdout",
     "output_type": "stream",
     "text": [
      "example/obj:2033004013744 local_counter->1 persistent_counter->1\n",
      "example/obj:2033004013600 local_counter->0 persistent_counter->1\n"
     ]
    }
   ],
   "source": [
    "# Note the peristent counter changed for both objects but the local \n",
    "# counter only changed for obj1\n",
    "print(obj1)\n",
    "print(obj2)"
   ]
  },
  {
   "cell_type": "markdown",
   "id": "9440d999",
   "metadata": {},
   "source": [
    "## Objects Can Have Versions"
   ]
  },
  {
   "cell_type": "markdown",
   "id": "6190eab6",
   "metadata": {},
   "source": [
    "Versioning is available for objects. If an object is versioned, the version is updated after each successfult transaction commit."
   ]
  },
  {
   "cell_type": "code",
   "execution_count": 12,
   "id": "1d4700d1",
   "metadata": {},
   "outputs": [
    {
     "data": {
      "text/plain": [
       "(True, 2)"
      ]
     },
     "execution_count": 12,
     "metadata": {},
     "output_type": "execute_result"
    }
   ],
   "source": [
    "obj1.versioned, obj1.version"
   ]
  },
  {
   "cell_type": "markdown",
   "id": "1ec0fb07",
   "metadata": {},
   "source": [
    "It's also possible to update the version manually."
   ]
  },
  {
   "cell_type": "code",
   "execution_count": 13,
   "id": "1487f886",
   "metadata": {},
   "outputs": [
    {
     "name": "stdout",
     "output_type": "stream",
     "text": [
      "2 3\n"
     ]
    }
   ],
   "source": [
    "version = obj1.version\n",
    "obj1.increment_version()\n",
    "print(version, obj1.version)"
   ]
  },
  {
   "cell_type": "markdown",
   "id": "46c8c292",
   "metadata": {},
   "source": [
    "## Objects Are Modified in Transactions\n",
    "An implicit transaction is started every time a persistent attribute is accessed. However, explicit transactions are also possible."
   ]
  },
  {
   "cell_type": "code",
   "execution_count": 14,
   "id": "612efe3e",
   "metadata": {},
   "outputs": [
    {
     "name": "stdout",
     "output_type": "stream",
     "text": [
      "example/obj:2033004013744 local_counter->2 persistent_counter->3\n",
      "example/obj:2033004013600 local_counter->1 persistent_counter->3\n"
     ]
    }
   ],
   "source": [
    "from parkit import transaction\n",
    "\n",
    "# Update obj1 and obj2 in the same explicit transaction.\n",
    "with transaction(obj1):\n",
    "    obj1.increment()\n",
    "    obj2.increment()\n",
    "    \n",
    "print(obj1) \n",
    "print(obj2)"
   ]
  },
  {
   "cell_type": "markdown",
   "id": "a644de80",
   "metadata": {},
   "source": [
    "Read-only transactions are also possible. The advantage of a read-only transaction is that readers never block, even if another process is modifying the object(s).\n",
    "\n",
    "Note we only have to pass one object to the context manager. Once a transaction is started, any object from the same namespace can be included. \n",
    "There is only one active write transaction in a namespace at any given time, but there can be many read transactions. \n",
    "Namespaces are useful for increasing write concurrency.\n",
    "\n",
    "Transactions can also nest, and its possible to access data in a transaction with zero-copy semantics."
   ]
  },
  {
   "cell_type": "code",
   "execution_count": 15,
   "id": "7383a87b",
   "metadata": {},
   "outputs": [
    {
     "name": "stdout",
     "output_type": "stream",
     "text": [
      "example/obj:2033004013744 local_counter->2 persistent_counter->3\n",
      "example/obj:2033004013600 local_counter->1 persistent_counter->3\n"
     ]
    }
   ],
   "source": [
    "from parkit import snapshot\n",
    "\n",
    "with snapshot(obj1):\n",
    "    print(obj1) \n",
    "    print(obj2)"
   ]
  },
  {
   "cell_type": "markdown",
   "id": "a92b5b2b",
   "metadata": {},
   "source": [
    "## Deleting Objects "
   ]
  },
  {
   "cell_type": "markdown",
   "id": "df8e1134",
   "metadata": {},
   "source": [
    "To permanently remove an object, use the *drop* method."
   ]
  },
  {
   "cell_type": "code",
   "execution_count": 16,
   "id": "4fac398a",
   "metadata": {},
   "outputs": [],
   "source": [
    "obj1.drop()\n",
    "obj2.drop()"
   ]
  },
  {
   "cell_type": "markdown",
   "id": "de31ac18",
   "metadata": {},
   "source": [
    "The *exists* property returns True or False depending on whether the underlying object state was dropped."
   ]
  },
  {
   "cell_type": "code",
   "execution_count": 17,
   "id": "f78a0071",
   "metadata": {},
   "outputs": [
    {
     "data": {
      "text/plain": [
       "False"
      ]
     },
     "execution_count": 17,
     "metadata": {},
     "output_type": "execute_result"
    }
   ],
   "source": [
    "obj1.exists"
   ]
  }
 ],
 "metadata": {
  "kernelspec": {
   "display_name": "Python 3",
   "language": "python",
   "name": "python3"
  },
  "language_info": {
   "codemirror_mode": {
    "name": "ipython",
    "version": 3
   },
   "file_extension": ".py",
   "mimetype": "text/x-python",
   "name": "python",
   "nbconvert_exporter": "python",
   "pygments_lexer": "ipython3",
   "version": "3.8.3"
  }
 },
 "nbformat": 4,
 "nbformat_minor": 5
}
