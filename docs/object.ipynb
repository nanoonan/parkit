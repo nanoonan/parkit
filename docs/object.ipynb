{
 "cells": [
  {
   "cell_type": "markdown",
   "id": "b5defa66",
   "metadata": {},
   "source": [
    "# Object\n",
    "Every class in *parkit* derives from Object. The Object class represents an object with persistent attributes. It's easy to sub-class Object to create custom persistent objects. An instance of Object is accessible from multiple processes. Access to the persistent attributes occurs in either an implicit or explicit transaction."
   ]
  },
  {
   "cell_type": "code",
   "execution_count": 3,
   "id": "c7b53788",
   "metadata": {},
   "outputs": [],
   "source": [
    "from parkit import Object\n",
    "\n",
    "# A simple example to demonstrate the difference between local and\n",
    "# persistent attributes.\n",
    "#\n",
    "# Here, local_counter acts like a standard class attribute and each\n",
    "# instance has its own local copy. The persistent_counter is shared\n",
    "# among all instances of the same path. These instances can be running\n",
    "# in difference processes. Access to the persistent_counter is always\n",
    "# transactional.\n",
    "\n",
    "class MyObject(Object):\n",
    "    \n",
    "    local_counter = 0\n",
    "    \n",
    "    def __init__(self, path):\n",
    "        # Important to call the super constructor first\n",
    "        super().__init__(path)\n",
    "        # The attributes method is an iterator over\n",
    "        # each of the persistent attributes of an object.\n",
    "        # Important to have this test in the constructor,\n",
    "        # otherwise each new instance will reset the value\n",
    "        # of the persistent attribute\n",
    "        if 'persistent_counter' not in self.attributes():\n",
    "            self.persistent_counter = 0\n",
    "    \n",
    "    def increment(self):\n",
    "        self.local_counter += 1\n",
    "        self.persistent_counter += 1\n",
    "        \n",
    "    def __str__(self):\n",
    "        return 'local: {0} persistent {1}'.format(\n",
    "            self.local_counter, self.persistent_counter\n",
    "        )"
   ]
  },
  {
   "cell_type": "markdown",
   "id": "c81b3f83",
   "metadata": {},
   "source": [
    "## Objects Are Referenced By Paths"
   ]
  },
  {
   "cell_type": "code",
   "execution_count": 4,
   "id": "f03ed5ea",
   "metadata": {},
   "outputs": [],
   "source": [
    "# Create an instance of MyObject\n",
    "obj1 = MyObject('example/obj')"
   ]
  },
  {
   "cell_type": "code",
   "execution_count": 5,
   "id": "7c1ffc2d",
   "metadata": {},
   "outputs": [
    {
     "data": {
      "text/plain": [
       "('example/obj', 'example', 'obj')"
      ]
     },
     "execution_count": 5,
     "metadata": {},
     "output_type": "execute_result"
    }
   ],
   "source": [
    "# The identifier for obj is the path example/obj1. Any instance\n",
    "# constructed with that path will share the same state. The path\n",
    "# is divided into the namespace example and name obj1. A namespace\n",
    "# is a transactional context. \n",
    "obj1.path, obj1.namespace, obj1.name"
   ]
  },
  {
   "cell_type": "code",
   "execution_count": 6,
   "id": "bb46a9d8",
   "metadata": {},
   "outputs": [
    {
     "data": {
      "text/plain": [
       "['example']"
      ]
     },
     "execution_count": 6,
     "metadata": {},
     "output_type": "execute_result"
    }
   ],
   "source": [
    "from parkit import namespaces\n",
    "# List all the namespaces\n",
    "list(namespaces())"
   ]
  },
  {
   "cell_type": "code",
   "execution_count": 7,
   "id": "bdf249e5",
   "metadata": {},
   "outputs": [
    {
     "data": {
      "text/plain": [
       "[('example/obj',\n",
       "  {'databases': [],\n",
       "   'versioned': True,\n",
       "   'created': '2021-05-23T09:54:17.469237',\n",
       "   'type': '__main__.MyObject',\n",
       "   'custom': {}})]"
      ]
     },
     "execution_count": 7,
     "metadata": {},
     "output_type": "execute_result"
    }
   ],
   "source": [
    "from parkit import objects\n",
    "# List all of the objects within a single namespace\n",
    "list(objects('example'))"
   ]
  },
  {
   "cell_type": "markdown",
   "id": "7b40637b",
   "metadata": {},
   "source": [
    "## Objects of the Same Path Share the Same State"
   ]
  },
  {
   "cell_type": "code",
   "execution_count": 8,
   "id": "30667619",
   "metadata": {},
   "outputs": [],
   "source": [
    "# Create another local instance using the same\n",
    "# path.\n",
    "obj2 = MyObject('example/obj')"
   ]
  },
  {
   "cell_type": "code",
   "execution_count": 9,
   "id": "2d13ca15",
   "metadata": {},
   "outputs": [
    {
     "data": {
      "text/plain": [
       "(2970709158352, 2970709159072)"
      ]
     },
     "execution_count": 9,
     "metadata": {},
     "output_type": "execute_result"
    }
   ],
   "source": [
    "# obj1 and obj2 are not the same Python objects\n",
    "id(obj1), id(obj2)"
   ]
  },
  {
   "cell_type": "code",
   "execution_count": 10,
   "id": "6547d5d9",
   "metadata": {},
   "outputs": [
    {
     "data": {
      "text/plain": [
       "('57b447c3-d79e-4ff5-8997-a87f6a296725',\n",
       " '57b447c3-d79e-4ff5-8997-a87f6a296725')"
      ]
     },
     "execution_count": 10,
     "metadata": {},
     "output_type": "execute_result"
    }
   ],
   "source": [
    "# But they reference the same persistent state\n",
    "# which at a low-level is identified by a UUID.\n",
    "obj1.uuid, obj2.uuid"
   ]
  },
  {
   "cell_type": "code",
   "execution_count": 11,
   "id": "07552939",
   "metadata": {},
   "outputs": [
    {
     "name": "stdout",
     "output_type": "stream",
     "text": [
      "local: 1 persistent 1 local: 0 persistent 1\n"
     ]
    }
   ],
   "source": [
    "# Update the obj1 counters, but not obj2\n",
    "obj1.increment()\n",
    "# Note the peristent counter changed for both objects\n",
    "# but the local counter only changed for obj1\n",
    "print(obj1, obj2)"
   ]
  },
  {
   "cell_type": "markdown",
   "id": "9440d999",
   "metadata": {},
   "source": [
    "## Objects Can Have Versions"
   ]
  },
  {
   "cell_type": "code",
   "execution_count": 12,
   "id": "1d4700d1",
   "metadata": {},
   "outputs": [
    {
     "data": {
      "text/plain": [
       "(True, 2)"
      ]
     },
     "execution_count": 12,
     "metadata": {},
     "output_type": "execute_result"
    }
   ],
   "source": [
    "# An object can be versioned. If it is, the version\n",
    "# is updated after every transaction that changes the\n",
    "# state commits.\n",
    "obj1.versioned, obj1.version"
   ]
  },
  {
   "cell_type": "code",
   "execution_count": 13,
   "id": "1487f886",
   "metadata": {},
   "outputs": [
    {
     "name": "stdout",
     "output_type": "stream",
     "text": [
      "2 3\n"
     ]
    }
   ],
   "source": [
    "# The version number can also be manually updated\n",
    "version = obj1.version\n",
    "obj1.increment_version()\n",
    "print(version, obj1.version)"
   ]
  },
  {
   "cell_type": "markdown",
   "id": "46c8c292",
   "metadata": {},
   "source": [
    "## Objects Are Modified in Transactions"
   ]
  },
  {
   "cell_type": "code",
   "execution_count": 14,
   "id": "612efe3e",
   "metadata": {},
   "outputs": [
    {
     "name": "stdout",
     "output_type": "stream",
     "text": [
      "local: 2 persistent 3 local: 1 persistent 3\n"
     ]
    }
   ],
   "source": [
    "# An implicit transaction every time a persistent attribute\n",
    "# is accessed. However, explicit transactions are also possible.\n",
    "from parkit import transaction\n",
    "\n",
    "# Update obj1 and obj2 in the same transaction.\n",
    "with transaction(obj1):\n",
    "    obj1.increment()\n",
    "    obj2.increment()\n",
    "    \n",
    "print(obj1, obj2)"
   ]
  },
  {
   "cell_type": "code",
   "execution_count": 15,
   "id": "7383a87b",
   "metadata": {},
   "outputs": [
    {
     "name": "stdout",
     "output_type": "stream",
     "text": [
      "local: 2 persistent 3 local: 1 persistent 3\n"
     ]
    }
   ],
   "source": [
    "# Read-only transactions are also possible. The \n",
    "# advantage of a read-only transaction is that \n",
    "# readers never block, even if another process is\n",
    "# modifying the object(s).\n",
    "from parkit import snapshot\n",
    "\n",
    "# Note we only have to pass one object to the context\n",
    "# manager. Once a transaction is started, any object\n",
    "# from the same namespace can be included. There is only\n",
    "# one active write transaction in a namespace at any given\n",
    "# time, but there can be many read transactions. Thus, \n",
    "# namespaces are used to increase write concurrency.\n",
    "with snapshot(obj1):\n",
    "    print(obj1, obj2)\n",
    "    \n",
    "# Transactions can also nest, and its possible to access \n",
    "# data in a transaction with zero-copy semantics."
   ]
  },
  {
   "cell_type": "markdown",
   "id": "a92b5b2b",
   "metadata": {},
   "source": [
    "## Deleting Objects "
   ]
  },
  {
   "cell_type": "code",
   "execution_count": 16,
   "id": "4fac398a",
   "metadata": {},
   "outputs": [],
   "source": [
    "# To permanently remove an object, use the drop()\n",
    "# method.\n",
    "obj1.drop()\n",
    "obj2.drop()"
   ]
  },
  {
   "cell_type": "code",
   "execution_count": 17,
   "id": "f78a0071",
   "metadata": {},
   "outputs": [
    {
     "data": {
      "text/plain": [
       "False"
      ]
     },
     "execution_count": 17,
     "metadata": {},
     "output_type": "execute_result"
    }
   ],
   "source": [
    "# Check the exists property to see if the object still\n",
    "# exists.\n",
    "obj1.exists"
   ]
  },
  {
   "cell_type": "code",
   "execution_count": 18,
   "id": "e69aa052",
   "metadata": {},
   "outputs": [
    {
     "ename": "ObjectNotFoundError",
     "evalue": "",
     "output_type": "error",
     "traceback": [
      "\u001b[1;31m---------------------------------------------------------------------------\u001b[0m",
      "\u001b[1;31mObjectNotFoundError\u001b[0m                       Traceback (most recent call last)",
      "\u001b[1;32m<ipython-input-18-442e108d1d2f>\u001b[0m in \u001b[0;36m<module>\u001b[1;34m\u001b[0m\n\u001b[0;32m      1\u001b[0m \u001b[1;31m# Future access with result in an ObjectNotFoundError\u001b[0m\u001b[1;33m\u001b[0m\u001b[1;33m\u001b[0m\u001b[1;33m\u001b[0m\u001b[0m\n\u001b[1;32m----> 2\u001b[1;33m \u001b[0mobj1\u001b[0m\u001b[1;33m.\u001b[0m\u001b[0mversion\u001b[0m\u001b[1;33m\u001b[0m\u001b[1;33m\u001b[0m\u001b[0m\n\u001b[0m",
      "\u001b[1;32m~\\Documents\\Github\\parkit\\parkit\\storage\\entity.py\u001b[0m in \u001b[0;36mversion\u001b[1;34m(self)\u001b[0m\n\u001b[0;32m    362\u001b[0m                 \u001b[0mtxn\u001b[0m\u001b[1;33m.\u001b[0m\u001b[0mcommit\u001b[0m\u001b[1;33m(\u001b[0m\u001b[1;33m)\u001b[0m\u001b[1;33m\u001b[0m\u001b[1;33m\u001b[0m\u001b[0m\n\u001b[0;32m    363\u001b[0m         \u001b[1;32mexcept\u001b[0m \u001b[0mBaseException\u001b[0m \u001b[1;32mas\u001b[0m \u001b[0mexc\u001b[0m\u001b[1;33m:\u001b[0m\u001b[1;33m\u001b[0m\u001b[1;33m\u001b[0m\u001b[0m\n\u001b[1;32m--> 364\u001b[1;33m             \u001b[0mself\u001b[0m\u001b[1;33m.\u001b[0m\u001b[0m__abort\u001b[0m\u001b[1;33m(\u001b[0m\u001b[0mexc\u001b[0m\u001b[1;33m,\u001b[0m \u001b[0mtxn\u001b[0m\u001b[1;33m,\u001b[0m \u001b[1;32mFalse\u001b[0m\u001b[1;33m)\u001b[0m\u001b[1;33m\u001b[0m\u001b[1;33m\u001b[0m\u001b[0m\n\u001b[0m\u001b[0;32m    365\u001b[0m         \u001b[1;32mfinally\u001b[0m\u001b[1;33m:\u001b[0m\u001b[1;33m\u001b[0m\u001b[1;33m\u001b[0m\u001b[0m\n\u001b[0;32m    366\u001b[0m             \u001b[1;32mif\u001b[0m \u001b[0mtxn\u001b[0m \u001b[1;32mand\u001b[0m \u001b[0mcursor\u001b[0m\u001b[1;33m:\u001b[0m\u001b[1;33m\u001b[0m\u001b[1;33m\u001b[0m\u001b[0m\n",
      "\u001b[1;32m~\\Documents\\Github\\parkit\\parkit\\storage\\entity.py\u001b[0m in \u001b[0;36m__abort\u001b[1;34m(self, exc_value, txn, check_exists)\u001b[0m\n\u001b[0;32m    231\u001b[0m         \u001b[1;32mif\u001b[0m \u001b[0misinstance\u001b[0m\u001b[1;33m(\u001b[0m\u001b[0mexc_value\u001b[0m\u001b[1;33m,\u001b[0m \u001b[0mlmdb\u001b[0m\u001b[1;33m.\u001b[0m\u001b[0mError\u001b[0m\u001b[1;33m)\u001b[0m\u001b[1;33m:\u001b[0m\u001b[1;33m\u001b[0m\u001b[1;33m\u001b[0m\u001b[0m\n\u001b[0;32m    232\u001b[0m             \u001b[1;32mraise\u001b[0m \u001b[0mTransactionError\u001b[0m\u001b[1;33m(\u001b[0m\u001b[1;33m)\u001b[0m \u001b[1;32mfrom\u001b[0m \u001b[0mexc_value\u001b[0m\u001b[1;33m\u001b[0m\u001b[1;33m\u001b[0m\u001b[0m\n\u001b[1;32m--> 233\u001b[1;33m         \u001b[1;32mraise\u001b[0m \u001b[0mexc_value\u001b[0m\u001b[1;33m\u001b[0m\u001b[1;33m\u001b[0m\u001b[0m\n\u001b[0m\u001b[0;32m    234\u001b[0m \u001b[1;33m\u001b[0m\u001b[0m\n\u001b[0;32m    235\u001b[0m     \u001b[1;33m@\u001b[0m\u001b[0mproperty\u001b[0m\u001b[1;33m\u001b[0m\u001b[1;33m\u001b[0m\u001b[0m\n",
      "\u001b[1;32m~\\Documents\\Github\\parkit\\parkit\\storage\\entity.py\u001b[0m in \u001b[0;36mversion\u001b[1;34m(self)\u001b[0m\n\u001b[0;32m    358\u001b[0m                 \u001b[0mversion\u001b[0m \u001b[1;33m=\u001b[0m \u001b[0mstruct\u001b[0m\u001b[1;33m.\u001b[0m\u001b[0munpack\u001b[0m\u001b[1;33m(\u001b[0m\u001b[1;34m'@N'\u001b[0m\u001b[1;33m,\u001b[0m \u001b[0mversion\u001b[0m\u001b[1;33m)\u001b[0m\u001b[1;33m[\u001b[0m\u001b[1;36m0\u001b[0m\u001b[1;33m]\u001b[0m\u001b[1;33m\u001b[0m\u001b[1;33m\u001b[0m\u001b[0m\n\u001b[0;32m    359\u001b[0m             \u001b[1;32melse\u001b[0m\u001b[1;33m:\u001b[0m\u001b[1;33m\u001b[0m\u001b[1;33m\u001b[0m\u001b[0m\n\u001b[1;32m--> 360\u001b[1;33m                 \u001b[1;32mraise\u001b[0m \u001b[0mObjectNotFoundError\u001b[0m\u001b[1;33m(\u001b[0m\u001b[1;33m)\u001b[0m\u001b[1;33m\u001b[0m\u001b[1;33m\u001b[0m\u001b[0m\n\u001b[0m\u001b[0;32m    361\u001b[0m             \u001b[1;32mif\u001b[0m \u001b[0mtxn\u001b[0m\u001b[1;33m:\u001b[0m\u001b[1;33m\u001b[0m\u001b[1;33m\u001b[0m\u001b[0m\n\u001b[0;32m    362\u001b[0m                 \u001b[0mtxn\u001b[0m\u001b[1;33m.\u001b[0m\u001b[0mcommit\u001b[0m\u001b[1;33m(\u001b[0m\u001b[1;33m)\u001b[0m\u001b[1;33m\u001b[0m\u001b[1;33m\u001b[0m\u001b[0m\n",
      "\u001b[1;31mObjectNotFoundError\u001b[0m: "
     ]
    }
   ],
   "source": [
    "# Future access with result in an ObjectNotFoundError\n",
    "obj1.version"
   ]
  },
  {
   "cell_type": "code",
   "execution_count": null,
   "id": "88c4205f",
   "metadata": {},
   "outputs": [],
   "source": []
  }
 ],
 "metadata": {
  "kernelspec": {
   "display_name": "Python 3",
   "language": "python",
   "name": "python3"
  },
  "language_info": {
   "codemirror_mode": {
    "name": "ipython",
    "version": 3
   },
   "file_extension": ".py",
   "mimetype": "text/x-python",
   "name": "python",
   "nbconvert_exporter": "python",
   "pygments_lexer": "ipython3",
   "version": "3.8.3"
  }
 },
 "nbformat": 4,
 "nbformat_minor": 5
}
