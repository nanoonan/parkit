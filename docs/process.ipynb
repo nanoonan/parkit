{
 "cells": [
  {
   "cell_type": "markdown",
   "id": "3613caff",
   "metadata": {},
   "source": [
    "# Process\n",
    "*parkit* provides a Process class with a similiar interface to the Python Process class in the *multiprocessing* package. One key difference is that the *parkit* process is a Unix-like daemon process and will stay running even if the parent process that launched it terminates. Another key difference is that a *parkit* process is a sub-class of Dict, so other processes can share data with the process object via the Dict iterface.\n",
    "\n",
    "Internally, the Process class manages a pool of processes, similar to a thread pool. When a process is started, it will run on the next available worker process in the pool. The pool size defaults to the maximum of 4 or reported number of CPUs. Users can change the pool size at any time. "
   ]
  },
  {
   "cell_type": "code",
   "execution_count": 1,
   "id": "cde548c0",
   "metadata": {},
   "outputs": [],
   "source": [
    "from parkit import (\n",
    "    Log,\n",
    "    Process\n",
    ")"
   ]
  },
  {
   "cell_type": "code",
   "execution_count": 2,
   "id": "4b40f485",
   "metadata": {},
   "outputs": [],
   "source": [
    "# Define a new Process class for this example. The process will generate\n",
    "# some values and write them to a shared log.\n",
    "class MyProcess(Process):\n",
    "    \n",
    "    def run(self):\n",
    "        log = self['results']\n",
    "        for i in range(5):\n",
    "            log.append(('iteration', i))\n",
    "        return True"
   ]
  },
  {
   "cell_type": "markdown",
   "id": "df5ea53d",
   "metadata": {},
   "source": [
    "## Process Management"
   ]
  },
  {
   "cell_type": "code",
   "execution_count": 23,
   "id": "2ee60b74",
   "metadata": {},
   "outputs": [
    {
     "data": {
      "text/plain": [
       "4"
      ]
     },
     "execution_count": 23,
     "metadata": {},
     "output_type": "execute_result"
    }
   ],
   "source": [
    "# Check the current pool size\n",
    "Process.get_pool_size()"
   ]
  },
  {
   "cell_type": "code",
   "execution_count": 41,
   "id": "92ff3bcf",
   "metadata": {},
   "outputs": [
    {
     "data": {
      "text/plain": [
       "4"
      ]
     },
     "execution_count": 41,
     "metadata": {},
     "output_type": "execute_result"
    }
   ],
   "source": [
    "# Set a new pool size\n",
    "Process.set_pool_size(4)\n",
    "Process.get_pool_size()"
   ]
  },
  {
   "cell_type": "code",
   "execution_count": 25,
   "id": "6093657b",
   "metadata": {},
   "outputs": [
    {
     "data": {
      "text/plain": [
       "[]"
      ]
     },
     "execution_count": 25,
     "metadata": {},
     "output_type": "execute_result"
    }
   ],
   "source": [
    "# Process state follows this state transition diagram\n",
    "# created -> submitted -> running -> [finished, failed, crashed]\n",
    "# State moves to 'submitted' when a process is started. A process ends in\n",
    "# one of three states: finished, failed, or crashed. Finished means the process\n",
    "# exited normally. Failed means the process exited with an exception, and\n",
    "# crashed means the process terminated abnormally.\n",
    "#\n",
    "# We can check for processes in any combination of states\n",
    "\n",
    "# Check for running processes\n",
    "list(Process.dir())"
   ]
  },
  {
   "cell_type": "code",
   "execution_count": 26,
   "id": "b2a0f4ac",
   "metadata": {},
   "outputs": [
    {
     "data": {
      "text/plain": [
       "[]"
      ]
     },
     "execution_count": 26,
     "metadata": {},
     "output_type": "execute_result"
    }
   ],
   "source": [
    "# Check for failed, finished, or crashed processes\n",
    "list(Process.dir(['finished', 'failed', 'crashed']))"
   ]
  },
  {
   "cell_type": "code",
   "execution_count": 27,
   "id": "9915db0c",
   "metadata": {},
   "outputs": [],
   "source": [
    "# Remove all processes in a certain state\n",
    "Process.clean(['failed', 'crashed'])"
   ]
  },
  {
   "cell_type": "code",
   "execution_count": 28,
   "id": "dcf53c8e",
   "metadata": {},
   "outputs": [],
   "source": [
    "# The process pool is automatically started when the first process is started.\n",
    "# Thereafter the pool will continue to run until the machine is reboot. The\n",
    "# killall method will shutdown the pool.\n",
    "Process.killall()"
   ]
  },
  {
   "cell_type": "markdown",
   "id": "82aa800b",
   "metadata": {},
   "source": [
    "## Process Example"
   ]
  },
  {
   "cell_type": "code",
   "execution_count": 29,
   "id": "65c3ca76",
   "metadata": {},
   "outputs": [],
   "source": [
    "# Create a shared log to hold the results \n",
    "log = Log('example/log')\n",
    "log.clear()"
   ]
  },
  {
   "cell_type": "code",
   "execution_count": 47,
   "id": "88882b46",
   "metadata": {},
   "outputs": [],
   "source": [
    "# Create and start some process instances. Each process\n",
    "# receives a reference to the shared log for results. \n",
    "procs = []\n",
    "for i in range(10):\n",
    "    p = MyProcess('process' + str(i))\n",
    "    p['results'] = log\n",
    "    p.start()\n",
    "    procs.append(p)"
   ]
  },
  {
   "cell_type": "code",
   "execution_count": 48,
   "id": "59881a39",
   "metadata": {},
   "outputs": [
    {
     "data": {
      "text/plain": [
       "[None, None, None, None, None, None, None, None, None, None]"
      ]
     },
     "execution_count": 48,
     "metadata": {},
     "output_type": "execute_result"
    }
   ],
   "source": [
    "# Wait for all of the processes to finish. If\n",
    "# the pool is already started, this should execute \n",
    "# immediately, which is one advantage of using a pool.\n",
    "[proc.join() for proc in procs]"
   ]
  },
  {
   "cell_type": "code",
   "execution_count": 49,
   "id": "791a53a2",
   "metadata": {},
   "outputs": [
    {
     "data": {
      "text/plain": [
       "200"
      ]
     },
     "execution_count": 49,
     "metadata": {},
     "output_type": "execute_result"
    }
   ],
   "source": [
    "# Verify there are 50 results in the log\n",
    "len(log)"
   ]
  },
  {
   "cell_type": "code",
   "execution_count": 19,
   "id": "4db9a9d4",
   "metadata": {},
   "outputs": [
    {
     "data": {
      "text/plain": [
       "[('iteration', 0),\n",
       " ('iteration', 1),\n",
       " ('iteration', 2),\n",
       " ('iteration', 3),\n",
       " ('iteration', 4),\n",
       " ('iteration', 0),\n",
       " ('iteration', 1),\n",
       " ('iteration', 2),\n",
       " ('iteration', 3),\n",
       " ('iteration', 4)]"
      ]
     },
     "execution_count": 19,
     "metadata": {},
     "output_type": "execute_result"
    }
   ],
   "source": [
    "# Print the first ten results\n",
    "list(log[0:10])"
   ]
  },
  {
   "cell_type": "code",
   "execution_count": 20,
   "id": "5ee23444",
   "metadata": {},
   "outputs": [
    {
     "name": "stdout",
     "output_type": "stream",
     "text": [
      "process0 finished True\n",
      "process9 finished True\n",
      "process2 finished True\n",
      "process5 finished True\n",
      "process6 finished True\n",
      "process1 finished True\n",
      "process4 finished True\n",
      "process7 finished True\n",
      "process8 finished True\n",
      "process3 finished True\n"
     ]
    }
   ],
   "source": [
    "# Go through the processes and check the return value and\n",
    "# final status\n",
    "for process in Process.dir(['finished', 'failed', 'crashed']):\n",
    "    print(process.name, process.status, process.result)"
   ]
  },
  {
   "cell_type": "code",
   "execution_count": 46,
   "id": "9cf634c9",
   "metadata": {},
   "outputs": [],
   "source": [
    "# Remove the processes\n",
    "Process.clean('finished')"
   ]
  },
  {
   "cell_type": "code",
   "execution_count": 11,
   "id": "b496ae44",
   "metadata": {},
   "outputs": [],
   "source": [
    "# Shutdown the pool to free resources\n",
    "Process.killall()"
   ]
  }
 ],
 "metadata": {
  "kernelspec": {
   "display_name": "Python 3",
   "language": "python",
   "name": "python3"
  },
  "language_info": {
   "codemirror_mode": {
    "name": "ipython",
    "version": 3
   },
   "file_extension": ".py",
   "mimetype": "text/x-python",
   "name": "python",
   "nbconvert_exporter": "python",
   "pygments_lexer": "ipython3",
   "version": "3.8.3"
  }
 },
 "nbformat": 4,
 "nbformat_minor": 5
}
