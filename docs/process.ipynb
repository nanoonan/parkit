{
 "cells": [
  {
   "cell_type": "markdown",
   "id": "3613caff",
   "metadata": {},
   "source": [
    "# Process\n",
    "*parkit* provides a *Process* class with a similiar interface to the [Process](https://docs.python.org/3/library/multiprocessing.html#multiprocessing.Process) class in the [multiprocessing](https://docs.python.org/3/library/multiprocessing.html) package. One key difference is that the *parkit* process is a Unix-like daemon process and will stay running even if the parent process that launched it terminates. Another key difference is that a *parkit* process is a sub-class of *Dict*, so other processes can share data with the process object via the *Dict* iterface.\n",
    "\n",
    "Internally, the *Process* class manages a pool of processes, similar to a thread pool. When a process is started, it will run on the next available worker process in the pool. The pool size defaults to the maximum of 4 or the reported number of CPUs. Users can change the pool size at any time. "
   ]
  },
  {
   "cell_type": "markdown",
   "id": "42fee5c6",
   "metadata": {},
   "source": [
    "## Basic Process Usage"
   ]
  },
  {
   "cell_type": "code",
   "execution_count": 4,
   "id": "cde548c0",
   "metadata": {},
   "outputs": [],
   "source": [
    "import logging\n",
    "\n",
    "from parkit import (\n",
    "    clean,\n",
    "    Process,\n",
    "    processes,\n",
    "    syslog\n",
    ")\n",
    "\n",
    "logger = logging.getLogger(__name__)"
   ]
  },
  {
   "cell_type": "markdown",
   "id": "9e2fe439",
   "metadata": {},
   "source": [
    "To create an anonymous process, just pass a target function and optional arguments and keyword arguments to *Process*. Call the *start* method to run the process."
   ]
  },
  {
   "cell_type": "code",
   "execution_count": 9,
   "id": "a893384a",
   "metadata": {},
   "outputs": [],
   "source": [
    "def do_something(arg):\n",
    "    logger.info('called do_something with {0}'.format(arg))\n",
    "    return 'result from do_something'\n",
    "\n",
    "Process(target = do_something, args = ('hello',)).start()"
   ]
  },
  {
   "cell_type": "code",
   "execution_count": 10,
   "id": "160a3ed5",
   "metadata": {},
   "outputs": [
    {
     "data": {
      "text/plain": [
       "'2021-05-25 14:54:29,024 INFO@__main__ : called do_something with hello'"
      ]
     },
     "execution_count": 10,
     "metadata": {},
     "output_type": "execute_result"
    }
   ],
   "source": [
    "# logger by default writes to syslog. Check last entry in syslog.\n",
    "syslog[-1]"
   ]
  },
  {
   "cell_type": "markdown",
   "id": "d4d0c5dd",
   "metadata": {},
   "source": [
    "The *processes* function returns an iterator over the process table. The process table contains every process instance."
   ]
  },
  {
   "cell_type": "code",
   "execution_count": 11,
   "id": "c66e7b48",
   "metadata": {},
   "outputs": [
    {
     "data": {
      "text/plain": [
       "[('process-653b7f0a-e842-41b8-8d19-3806ecf60b89',\n",
       "  0,\n",
       "  'result from do_something',\n",
       "  'finished')]"
      ]
     },
     "execution_count": 11,
     "metadata": {},
     "output_type": "execute_result"
    }
   ],
   "source": [
    "[(p.name, p.exitcode, p.result, p.status) for p in processes()]"
   ]
  },
  {
   "cell_type": "markdown",
   "id": "8dfa3d9f",
   "metadata": {},
   "source": [
    "Note the status is finished.  Process status follows this state transition diagram:\n",
    "\n",
    "    created -> submitted -> running -> (finished, failed, crashed)\n",
    "\n",
    "Status moves to submitted when a process is started. A process ends in\n",
    "one of three statuses: finished, failed, or crashed. Finished means the process\n",
    "exited normally. Failed means the process exited with an exception, and\n",
    "crashed means the process terminated abnormally."
   ]
  },
  {
   "cell_type": "markdown",
   "id": "7fb41912",
   "metadata": {},
   "source": [
    "The *clean* function removes processes from the process table. By default, *clean* removes all processes with status of finished, failed, or crashed."
   ]
  },
  {
   "cell_type": "code",
   "execution_count": 12,
   "id": "d669c478",
   "metadata": {},
   "outputs": [],
   "source": [
    "clean()"
   ]
  },
  {
   "cell_type": "code",
   "execution_count": 13,
   "id": "b866bb78",
   "metadata": {},
   "outputs": [
    {
     "data": {
      "text/plain": [
       "[]"
      ]
     },
     "execution_count": 13,
     "metadata": {},
     "output_type": "execute_result"
    }
   ],
   "source": [
    "[(p.name, p.exitcode, p.result, p.status) for p in processes()]"
   ]
  },
  {
   "cell_type": "markdown",
   "id": "b80d96fb",
   "metadata": {},
   "source": [
    "A process can also have an explicit path identifier."
   ]
  },
  {
   "cell_type": "code",
   "execution_count": 14,
   "id": "bc142f98",
   "metadata": {},
   "outputs": [],
   "source": [
    "Process('example/myprocess', target = do_something, args = ('hello',)).start()"
   ]
  },
  {
   "cell_type": "code",
   "execution_count": 15,
   "id": "0c1f3197",
   "metadata": {},
   "outputs": [
    {
     "data": {
      "text/plain": [
       "[('example/myprocess', 0, 'result from do_something', 'finished')]"
      ]
     },
     "execution_count": 15,
     "metadata": {},
     "output_type": "execute_result"
    }
   ],
   "source": [
    "[(p.name, p.exitcode, p.result, p.status) for p in processes()]"
   ]
  },
  {
   "cell_type": "code",
   "execution_count": 16,
   "id": "b968c261",
   "metadata": {},
   "outputs": [],
   "source": [
    "clean()"
   ]
  },
  {
   "cell_type": "markdown",
   "id": "26874113",
   "metadata": {},
   "source": [
    "## Custom Process Class"
   ]
  },
  {
   "cell_type": "markdown",
   "id": "ac25b7eb",
   "metadata": {},
   "source": [
    "You can also sub-class the *Process* class and override the *run* method."
   ]
  },
  {
   "cell_type": "code",
   "execution_count": 17,
   "id": "90e9d017",
   "metadata": {},
   "outputs": [],
   "source": [
    "from parkit import Log"
   ]
  },
  {
   "cell_type": "code",
   "execution_count": 18,
   "id": "4b40f485",
   "metadata": {},
   "outputs": [],
   "source": [
    "# Define a new Process class. The process will generate some values and \n",
    "# write them to a shared results log. The results log will be passed to\n",
    "# the process using the dictionary interface.\n",
    "class MyProcess(Process):\n",
    "    \n",
    "    def run(self):\n",
    "        log = self['results']\n",
    "        for i in range(5):\n",
    "            log.append(('iteration', i))\n",
    "        return True"
   ]
  },
  {
   "cell_type": "code",
   "execution_count": 19,
   "id": "8d705ade",
   "metadata": {},
   "outputs": [],
   "source": [
    "# Create a shared log to hold the results.\n",
    "log = Log('example/log')\n",
    "log.clear()"
   ]
  },
  {
   "cell_type": "code",
   "execution_count": 20,
   "id": "e142490d",
   "metadata": {},
   "outputs": [],
   "source": [
    "# Create and start ten process instances. Each process receives a reference \n",
    "# to the shared results log. \n",
    "procs = []\n",
    "for i in range(10):\n",
    "    p = MyProcess()\n",
    "    p['results'] = log\n",
    "    p.start()\n",
    "    procs.append(p)"
   ]
  },
  {
   "cell_type": "code",
   "execution_count": 21,
   "id": "2b768d7d",
   "metadata": {},
   "outputs": [
    {
     "data": {
      "text/plain": [
       "[None, None, None, None, None, None, None, None, None, None]"
      ]
     },
     "execution_count": 21,
     "metadata": {},
     "output_type": "execute_result"
    }
   ],
   "source": [
    "# Wait for all of the processes to finish. \n",
    "[p.join() for p in procs]"
   ]
  },
  {
   "cell_type": "code",
   "execution_count": 22,
   "id": "b545035c",
   "metadata": {},
   "outputs": [
    {
     "data": {
      "text/plain": [
       "50"
      ]
     },
     "execution_count": 22,
     "metadata": {},
     "output_type": "execute_result"
    }
   ],
   "source": [
    "# Verify there are 50 results in the log\n",
    "len(log)"
   ]
  },
  {
   "cell_type": "code",
   "execution_count": 23,
   "id": "ba1fbeb8",
   "metadata": {},
   "outputs": [
    {
     "data": {
      "text/plain": [
       "[('iteration', 0),\n",
       " ('iteration', 1),\n",
       " ('iteration', 2),\n",
       " ('iteration', 3),\n",
       " ('iteration', 4),\n",
       " ('iteration', 0),\n",
       " ('iteration', 1),\n",
       " ('iteration', 2),\n",
       " ('iteration', 3),\n",
       " ('iteration', 4)]"
      ]
     },
     "execution_count": 23,
     "metadata": {},
     "output_type": "execute_result"
    }
   ],
   "source": [
    "# Print the first ten results\n",
    "list(log[0:10])"
   ]
  },
  {
   "cell_type": "code",
   "execution_count": 24,
   "id": "f4f1afa7",
   "metadata": {},
   "outputs": [
    {
     "data": {
      "text/plain": [
       "[('process-541c7dd8-5f97-4b9e-96fc-b08884d430ac', 0, True, 'finished'),\n",
       " ('process-42e78473-78d6-4d39-8c92-e1e7cfdf3490', 0, True, 'finished'),\n",
       " ('process-7a4b8b4b-7aa6-4282-a0b7-cc15c3ded659', 0, True, 'finished'),\n",
       " ('process-7dd38446-521f-47fc-a501-2c4df6189f81', 0, True, 'finished'),\n",
       " ('process-728e4b95-4c08-4c20-bc54-6b947c71437c', 0, True, 'finished'),\n",
       " ('process-19c62544-0333-4ca3-bdef-2f52996b1491', 0, True, 'finished'),\n",
       " ('process-9894d3f1-3804-46eb-a030-c4d3ab2470de', 0, True, 'finished'),\n",
       " ('process-a9f1b3e0-d193-4f42-a65f-de388dbb6002', 0, True, 'finished'),\n",
       " ('process-4544ac66-d079-459e-858b-90d8e3bcf8f7', 0, True, 'finished'),\n",
       " ('process-fd97ae7b-cdae-400e-8d2e-8c5d28c6bb44', 0, True, 'finished')]"
      ]
     },
     "execution_count": 24,
     "metadata": {},
     "output_type": "execute_result"
    }
   ],
   "source": [
    "[(p.name, p.exitcode, p.result, p.status) for p in processes()]"
   ]
  },
  {
   "cell_type": "code",
   "execution_count": 25,
   "id": "36dd198a",
   "metadata": {},
   "outputs": [],
   "source": [
    "clean()"
   ]
  },
  {
   "cell_type": "markdown",
   "id": "df5ea53d",
   "metadata": {},
   "source": [
    "## Pool Management"
   ]
  },
  {
   "cell_type": "code",
   "execution_count": 26,
   "id": "d0af074d",
   "metadata": {},
   "outputs": [],
   "source": [
    "from parkit import (\n",
    "    get_pool_size,\n",
    "    killall,\n",
    "    set_pool_size\n",
    ")"
   ]
  },
  {
   "cell_type": "markdown",
   "id": "df69e4df",
   "metadata": {},
   "source": [
    "The process pool size is dynamic."
   ]
  },
  {
   "cell_type": "code",
   "execution_count": 27,
   "id": "2ee60b74",
   "metadata": {},
   "outputs": [
    {
     "data": {
      "text/plain": [
       "4"
      ]
     },
     "execution_count": 27,
     "metadata": {},
     "output_type": "execute_result"
    }
   ],
   "source": [
    "# Check the current pool size\n",
    "get_pool_size()"
   ]
  },
  {
   "cell_type": "code",
   "execution_count": 28,
   "id": "92ff3bcf",
   "metadata": {},
   "outputs": [
    {
     "data": {
      "text/plain": [
       "6"
      ]
     },
     "execution_count": 28,
     "metadata": {},
     "output_type": "execute_result"
    }
   ],
   "source": [
    "# Set a new pool size\n",
    "set_pool_size(6)\n",
    "get_pool_size()"
   ]
  },
  {
   "cell_type": "markdown",
   "id": "6fca43e3",
   "metadata": {},
   "source": [
    "The process pool is automatically started when the first process is started. Thereafter the pool will continue to run until the machine is rebooted. The *killall* function will shutdown the pool and release the pool resources. Processes running when *killall* is invoked are forcefully terminated and will report a crashed status. "
   ]
  },
  {
   "cell_type": "code",
   "execution_count": 29,
   "id": "dcf53c8e",
   "metadata": {},
   "outputs": [],
   "source": [
    "killall()"
   ]
  }
 ],
 "metadata": {
  "kernelspec": {
   "display_name": "Python 3",
   "language": "python",
   "name": "python3"
  },
  "language_info": {
   "codemirror_mode": {
    "name": "ipython",
    "version": 3
   },
   "file_extension": ".py",
   "mimetype": "text/x-python",
   "name": "python",
   "nbconvert_exporter": "python",
   "pygments_lexer": "ipython3",
   "version": "3.8.3"
  }
 },
 "nbformat": 4,
 "nbformat_minor": 5
}
