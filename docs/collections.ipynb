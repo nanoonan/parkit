{
 "cells": [
  {
   "cell_type": "markdown",
   "id": "9328a19c",
   "metadata": {},
   "source": [
    "# Collections\n",
    "The *parkit* collection classes are *Dict*, *Log*, and *Queue*. Generally, the classes adhere to the interfaces defined \n",
    "by Python's [Collections Abstract Base Classes](https://docs.python.org/3/library/collections.abc.html). *Dict*\n",
    "implements [MutableMapping](https://docs.python.org/3/library/collections.abc.html) and \n",
    "*Log* implements [Sequence](https://docs.python.org/3/library/collections.abc.html). *Queue*\n",
    "generally follows Python's [Queue](https://docs.python.org/3/library/queue.html#queue.Queue) interface.\n",
    "\n",
    "Every *parkit* collection is an *Object*, so all of the info from the previous section is relevant. \n",
    "\n",
    "Every operation defined on a collection class runs in a transaction. By default an implicit transaction is started, but explicit transactions are also supported. Note that when performing multiple operations on a collection, performance improves dramatically if all of the operations are wrapped in a single, explicit transaction.\n",
    "\n",
    "By default, pickle is used to store the data in a collection. It's possible to provide other encoding and decoding methods\n",
    "by sub-classing the relevant class."
   ]
  },
  {
   "cell_type": "markdown",
   "id": "0f0a6276",
   "metadata": {},
   "source": [
    "## Dict"
   ]
  },
  {
   "cell_type": "code",
   "execution_count": 3,
   "id": "5e2519d7",
   "metadata": {},
   "outputs": [],
   "source": [
    "from parkit import Dict"
   ]
  },
  {
   "cell_type": "code",
   "execution_count": 30,
   "id": "95b35487",
   "metadata": {},
   "outputs": [],
   "source": [
    "d1 = Dict('example/mydict')"
   ]
  },
  {
   "cell_type": "code",
   "execution_count": 31,
   "id": "6a547fc3",
   "metadata": {},
   "outputs": [
    {
     "data": {
      "text/plain": [
       "['key1', 'key2']"
      ]
     },
     "execution_count": 31,
     "metadata": {},
     "output_type": "execute_result"
    }
   ],
   "source": [
    "d1['key1'] = 'value1'\n",
    "d1['key2'] = 'value2'\n",
    "list(d1.keys())"
   ]
  },
  {
   "cell_type": "code",
   "execution_count": 32,
   "id": "4dce2ea9",
   "metadata": {},
   "outputs": [],
   "source": [
    "d1.clear()"
   ]
  },
  {
   "cell_type": "markdown",
   "id": "31907c8b",
   "metadata": {},
   "source": [
    "*Dict*, *Log*, and *Queue* sub-class *Object* and inherit its functionality."
   ]
  },
  {
   "cell_type": "code",
   "execution_count": 33,
   "id": "8a132204",
   "metadata": {},
   "outputs": [
    {
     "data": {
      "text/plain": [
       "'example/mydict'"
      ]
     },
     "execution_count": 33,
     "metadata": {},
     "output_type": "execute_result"
    }
   ],
   "source": [
    "d1.path"
   ]
  },
  {
   "cell_type": "code",
   "execution_count": 34,
   "id": "aa840db8",
   "metadata": {},
   "outputs": [
    {
     "data": {
      "text/plain": [
       "(True, 3)"
      ]
     },
     "execution_count": 34,
     "metadata": {},
     "output_type": "execute_result"
    }
   ],
   "source": [
    "d1.versioned, d1.version"
   ]
  },
  {
   "cell_type": "code",
   "execution_count": 35,
   "id": "5dc43554",
   "metadata": {},
   "outputs": [
    {
     "data": {
      "text/plain": [
       "{'databases': [['45d885f592ef4d1b534a201fe61a55c27620b523', {}]],\n",
       " 'versioned': True,\n",
       " 'created': '2021-05-25T16:24:55.708542',\n",
       " 'type': 'parkit.adapters.dict.Dict',\n",
       " 'custom': {}}"
      ]
     },
     "execution_count": 35,
     "metadata": {},
     "output_type": "execute_result"
    }
   ],
   "source": [
    "d1.descriptor"
   ]
  },
  {
   "cell_type": "code",
   "execution_count": 36,
   "id": "64cc69d6",
   "metadata": {},
   "outputs": [
    {
     "data": {
      "text/plain": [
       "'443121c2-751b-41dc-a0e2-75f86d0b4642'"
      ]
     },
     "execution_count": 36,
     "metadata": {},
     "output_type": "execute_result"
    }
   ],
   "source": [
    "d1.uuid"
   ]
  },
  {
   "cell_type": "code",
   "execution_count": 37,
   "id": "b6a739a5",
   "metadata": {},
   "outputs": [],
   "source": [
    "d1.my_attribute = 'a persistent attribute'"
   ]
  },
  {
   "cell_type": "code",
   "execution_count": 38,
   "id": "642d8833",
   "metadata": {},
   "outputs": [],
   "source": [
    "d2 = Dict('example/mydict')"
   ]
  },
  {
   "cell_type": "code",
   "execution_count": 39,
   "id": "efd287fb",
   "metadata": {},
   "outputs": [
    {
     "data": {
      "text/plain": [
       "'a persistent attribute'"
      ]
     },
     "execution_count": 39,
     "metadata": {},
     "output_type": "execute_result"
    }
   ],
   "source": [
    "d2.my_attribute"
   ]
  },
  {
   "cell_type": "code",
   "execution_count": 40,
   "id": "63beb964",
   "metadata": {},
   "outputs": [],
   "source": [
    "d1.drop()\n",
    "d2.drop()"
   ]
  },
  {
   "cell_type": "markdown",
   "id": "e61f2717",
   "metadata": {},
   "source": [
    "## Log"
   ]
  },
  {
   "cell_type": "code",
   "execution_count": 41,
   "id": "319ba6c2",
   "metadata": {},
   "outputs": [],
   "source": [
    "from parkit import Log"
   ]
  },
  {
   "cell_type": "code",
   "execution_count": 42,
   "id": "eec8c3c7",
   "metadata": {},
   "outputs": [],
   "source": [
    "log = Log('example/mylog')\n",
    "\n",
    "log.append(1)\n",
    "log.append(2)\n",
    "log.append(3)"
   ]
  },
  {
   "cell_type": "code",
   "execution_count": 43,
   "id": "b465913d",
   "metadata": {},
   "outputs": [
    {
     "data": {
      "text/plain": [
       "[1, 2, 3]"
      ]
     },
     "execution_count": 43,
     "metadata": {},
     "output_type": "execute_result"
    }
   ],
   "source": [
    "list(log)"
   ]
  },
  {
   "cell_type": "code",
   "execution_count": 44,
   "id": "52aef0a8",
   "metadata": {},
   "outputs": [
    {
     "data": {
      "text/plain": [
       "[1, 2]"
      ]
     },
     "execution_count": 44,
     "metadata": {},
     "output_type": "execute_result"
    }
   ],
   "source": [
    "list(log[0:2])"
   ]
  },
  {
   "cell_type": "code",
   "execution_count": 45,
   "id": "9c536eab",
   "metadata": {},
   "outputs": [],
   "source": [
    "log.drop()"
   ]
  },
  {
   "cell_type": "markdown",
   "id": "3c7d9618",
   "metadata": {},
   "source": [
    "## Queue"
   ]
  },
  {
   "cell_type": "code",
   "execution_count": 46,
   "id": "3d507c11",
   "metadata": {},
   "outputs": [],
   "source": [
    "from parkit import Queue"
   ]
  },
  {
   "cell_type": "code",
   "execution_count": 47,
   "id": "44bc3ab0",
   "metadata": {},
   "outputs": [],
   "source": [
    "queue = Queue('example/myqueue')\n",
    "\n",
    "queue.put_nowait(1)\n",
    "queue.put_nowait(2)"
   ]
  },
  {
   "cell_type": "code",
   "execution_count": 48,
   "id": "6ef707da",
   "metadata": {},
   "outputs": [
    {
     "name": "stdout",
     "output_type": "stream",
     "text": [
      "1\n",
      "2\n"
     ]
    }
   ],
   "source": [
    "for _ in range(len(queue)):\n",
    "    print(queue.get_nowait())"
   ]
  },
  {
   "cell_type": "code",
   "execution_count": 49,
   "id": "c6c87cb4",
   "metadata": {},
   "outputs": [],
   "source": [
    "queue.drop()"
   ]
  }
 ],
 "metadata": {
  "kernelspec": {
   "display_name": "Python 3",
   "language": "python",
   "name": "python3"
  },
  "language_info": {
   "codemirror_mode": {
    "name": "ipython",
    "version": 3
   },
   "file_extension": ".py",
   "mimetype": "text/x-python",
   "name": "python",
   "nbconvert_exporter": "python",
   "pygments_lexer": "ipython3",
   "version": "3.8.3"
  }
 },
 "nbformat": 4,
 "nbformat_minor": 5
}
