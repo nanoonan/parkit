{
 "cells": [
  {
   "cell_type": "markdown",
   "id": "9328a19c",
   "metadata": {},
   "source": [
    "# Collections\n",
    "The *parkit* collection classes are Dict, Log, and Queue. Generally, the classes adhere to the interfaces defined \n",
    "by Python's [Collection Abstract Bases Classes](https://docs.python.org/3/library/collections.abc.html). Dict\n",
    "implements MutableMapping and Log implements Sequence. Queue maps closely to the Queue class in Python. Every *parkit*\n",
    "collection is an Object, so all of the info from the previous section is relevant. Hopefully the usage of the collection\n",
    "classes is largely self-explanatory. The motivation for the collection classes is to provide Python-like data structures \n",
    "usable in a multiprocessing environment.\n",
    "\n",
    "Note that when performing multiple operations on a collection, performance improves dramatically if all of the operations\n",
    "are wrapped in a single, explicit transaction.\n",
    "\n",
    "By default, pickle is used to store the data in a collection. It's possible to provide other encoding and decoding methods\n",
    "by sub-classing the relevant collection."
   ]
  },
  {
   "cell_type": "markdown",
   "id": "0f0a6276",
   "metadata": {},
   "source": [
    "## Dict"
   ]
  },
  {
   "cell_type": "code",
   "execution_count": 17,
   "id": "5e2519d7",
   "metadata": {},
   "outputs": [],
   "source": [
    "from parkit import Dict"
   ]
  },
  {
   "cell_type": "code",
   "execution_count": 18,
   "id": "95b35487",
   "metadata": {},
   "outputs": [],
   "source": [
    "# All the goodness of a Python dict, the main difference is that Dicts are \n",
    "# named objects and the data is persistent and accessible from multiple\n",
    "# processes.\n",
    "d = Dict('example/mydict')"
   ]
  },
  {
   "cell_type": "code",
   "execution_count": 19,
   "id": "6a547fc3",
   "metadata": {},
   "outputs": [
    {
     "data": {
      "text/plain": [
       "['key1', 'key2']"
      ]
     },
     "execution_count": 19,
     "metadata": {},
     "output_type": "execute_result"
    }
   ],
   "source": [
    "d['key1'] = 'value1'\n",
    "d['key2'] = 'value2'\n",
    "list(d.keys())"
   ]
  },
  {
   "cell_type": "markdown",
   "id": "e61f2717",
   "metadata": {},
   "source": [
    "## Log"
   ]
  },
  {
   "cell_type": "code",
   "execution_count": 20,
   "id": "319ba6c2",
   "metadata": {},
   "outputs": [],
   "source": [
    "from parkit import Log"
   ]
  },
  {
   "cell_type": "code",
   "execution_count": 21,
   "id": "eec8c3c7",
   "metadata": {},
   "outputs": [
    {
     "data": {
      "text/plain": [
       "[1, 2, 3]"
      ]
     },
     "execution_count": 21,
     "metadata": {},
     "output_type": "execute_result"
    }
   ],
   "source": [
    "# A Log is an append-only list. Very useful for streaming large\n",
    "# numbers of objects into a persistent collection.\n",
    "log = Log('example/mylog')\n",
    "log.clear()\n",
    "log.append(1)\n",
    "log.append(2)\n",
    "log.append(3)\n",
    "list(log)"
   ]
  },
  {
   "cell_type": "code",
   "execution_count": 22,
   "id": "52aef0a8",
   "metadata": {},
   "outputs": [
    {
     "data": {
      "text/plain": [
       "[1, 2]"
      ]
     },
     "execution_count": 22,
     "metadata": {},
     "output_type": "execute_result"
    }
   ],
   "source": [
    "list(log[0:2])"
   ]
  },
  {
   "cell_type": "markdown",
   "id": "3c7d9618",
   "metadata": {},
   "source": [
    "## Queue"
   ]
  },
  {
   "cell_type": "code",
   "execution_count": 23,
   "id": "3d507c11",
   "metadata": {},
   "outputs": [],
   "source": [
    "from parkit import Queue"
   ]
  },
  {
   "cell_type": "code",
   "execution_count": 24,
   "id": "44bc3ab0",
   "metadata": {},
   "outputs": [
    {
     "name": "stdout",
     "output_type": "stream",
     "text": [
      "1\n",
      "2\n"
     ]
    }
   ],
   "source": [
    "# Queue is also available\n",
    "queue = Queue('example/myqueue')\n",
    "queue.clear()\n",
    "queue.put_nowait(1)\n",
    "queue.put_nowait(2)\n",
    "for _ in range(len(queue)):\n",
    "    print(queue.get_nowait())"
   ]
  },
  {
   "cell_type": "code",
   "execution_count": null,
   "id": "c6c87cb4",
   "metadata": {},
   "outputs": [],
   "source": []
  }
 ],
 "metadata": {
  "kernelspec": {
   "display_name": "Python 3",
   "language": "python",
   "name": "python3"
  },
  "language_info": {
   "codemirror_mode": {
    "name": "ipython",
    "version": 3
   },
   "file_extension": ".py",
   "mimetype": "text/x-python",
   "name": "python",
   "nbconvert_exporter": "python",
   "pygments_lexer": "ipython3",
   "version": "3.8.3"
  }
 },
 "nbformat": 4,
 "nbformat_minor": 5
}
