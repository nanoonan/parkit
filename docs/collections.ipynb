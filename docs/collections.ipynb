{
 "cells": [
  {
   "cell_type": "markdown",
   "id": "9328a19c",
   "metadata": {},
   "source": [
    "Here are some basic examples with the Collection classes. The classes available are Dict, Log, and Queue."
   ]
  },
  {
   "cell_type": "code",
   "execution_count": 20,
   "id": "5e2519d7",
   "metadata": {},
   "outputs": [],
   "source": [
    "from parkit import (\n",
    "    Dict,\n",
    "    Log,\n",
    "    namespaces,\n",
    "    objects,\n",
    "    Queue,\n",
    "    transaction,\n",
    "    snapshot\n",
    ")"
   ]
  },
  {
   "cell_type": "code",
   "execution_count": 30,
   "id": "95b35487",
   "metadata": {},
   "outputs": [],
   "source": [
    "# Create a Dict (implements standard Python Dict interface).\n",
    "# The path is examples/mydict. The namespace is examples\n",
    "# and the name is mydict1 for the object.\n",
    "d1 = Dict('examples/mydict1')"
   ]
  },
  {
   "cell_type": "code",
   "execution_count": 31,
   "id": "813e9ed1",
   "metadata": {},
   "outputs": [
    {
     "data": {
      "text/plain": [
       "('examples', 'mydict1')"
      ]
     },
     "execution_count": 31,
     "metadata": {},
     "output_type": "execute_result"
    }
   ],
   "source": [
    "d1.namespace, d1.name"
   ]
  },
  {
   "cell_type": "code",
   "execution_count": 32,
   "id": "6a547fc3",
   "metadata": {},
   "outputs": [
    {
     "data": {
      "text/plain": [
       "['key1', 'key2']"
      ]
     },
     "execution_count": 32,
     "metadata": {},
     "output_type": "execute_result"
    }
   ],
   "source": [
    "d1['key1'] = 'value1'\n",
    "d1['key2'] = 'value2'\n",
    "list(d1.keys())"
   ]
  },
  {
   "cell_type": "code",
   "execution_count": 33,
   "id": "6a630ae2",
   "metadata": {},
   "outputs": [
    {
     "data": {
      "text/plain": [
       "('new value', 'value1')"
      ]
     },
     "execution_count": 33,
     "metadata": {},
     "output_type": "execute_result"
    }
   ],
   "source": [
    "# Multiple objects in the same namespace can be modified in\n",
    "# a single transaction.\n",
    "d2 = Dict('examples/mydict2')\n",
    "with transaction(d1):\n",
    "    d2['key1'] = d1['key1']\n",
    "    d1['key1'] = 'new value'\n",
    "d1['key1'], d2['key1']"
   ]
  },
  {
   "cell_type": "code",
   "execution_count": 34,
   "id": "1210aeb7",
   "metadata": {},
   "outputs": [
    {
     "data": {
      "text/plain": [
       "(True, 3)"
      ]
     },
     "execution_count": 34,
     "metadata": {},
     "output_type": "execute_result"
    }
   ],
   "source": [
    "# Objects can be versioned.\n",
    "d1.versioned, d1.version"
   ]
  },
  {
   "cell_type": "code",
   "execution_count": 36,
   "id": "68d1971e",
   "metadata": {},
   "outputs": [
    {
     "data": {
      "text/plain": [
       "4"
      ]
     },
     "execution_count": 36,
     "metadata": {},
     "output_type": "execute_result"
    }
   ],
   "source": [
    "# All changes within a transaction count as a single version.\n",
    "with transaction(d1):\n",
    "    d1['key1'] = True\n",
    "    d2['key2'] = False\n",
    "d1.version"
   ]
  },
  {
   "cell_type": "code",
   "execution_count": 37,
   "id": "15dfd2b9",
   "metadata": {},
   "outputs": [
    {
     "name": "stdout",
     "output_type": "stream",
     "text": [
      "True value1\n"
     ]
    }
   ],
   "source": [
    "# Read-only transactions are also supported.\n",
    "with snapshot(d1):\n",
    "    print(d1['key1'], d2['key1'])"
   ]
  },
  {
   "cell_type": "code",
   "execution_count": 29,
   "id": "7f26496e",
   "metadata": {},
   "outputs": [
    {
     "data": {
      "text/plain": [
       "['examples']"
      ]
     },
     "execution_count": 29,
     "metadata": {},
     "output_type": "execute_result"
    }
   ],
   "source": [
    "# List all namespaces\n",
    "list(namespaces())"
   ]
  },
  {
   "cell_type": "code",
   "execution_count": 38,
   "id": "025f9f66",
   "metadata": {},
   "outputs": [
    {
     "data": {
      "text/plain": [
       "[('examples/mydict1',\n",
       "  {'databases': [['51dd203c7527e09e4ea0b5d92101a64160aeb1c2', {}]],\n",
       "   'versioned': True,\n",
       "   'created': '2021-05-22T17:59:35.167536',\n",
       "   'type': 'parkit.adapters.dict.Dict',\n",
       "   'custom': {}}),\n",
       " ('examples/mydict2',\n",
       "  {'databases': [['13ce98ec9358fdbc761b61448ce9353d33b682e5', {}]],\n",
       "   'versioned': True,\n",
       "   'created': '2021-05-22T17:59:39.422523',\n",
       "   'type': 'parkit.adapters.dict.Dict',\n",
       "   'custom': {}})]"
      ]
     },
     "execution_count": 38,
     "metadata": {},
     "output_type": "execute_result"
    }
   ],
   "source": [
    "# list all objects in a namespace. Returns (path, descriptor) tuple\n",
    "list(objects('examples'))"
   ]
  },
  {
   "cell_type": "code",
   "execution_count": 39,
   "id": "1dec3c32",
   "metadata": {},
   "outputs": [
    {
     "data": {
      "text/plain": [
       "[('examples/mydict2',\n",
       "  {'databases': [['13ce98ec9358fdbc761b61448ce9353d33b682e5', {}]],\n",
       "   'versioned': True,\n",
       "   'created': '2021-05-22T17:59:39.422523',\n",
       "   'type': 'parkit.adapters.dict.Dict',\n",
       "   'custom': {}})]"
      ]
     },
     "execution_count": 39,
     "metadata": {},
     "output_type": "execute_result"
    }
   ],
   "source": [
    "# Delete an object\n",
    "d1.drop()\n",
    "list(objects('examples'))"
   ]
  },
  {
   "cell_type": "code",
   "execution_count": 40,
   "id": "eec8c3c7",
   "metadata": {},
   "outputs": [
    {
     "data": {
      "text/plain": [
       "[1, 2, 3]"
      ]
     },
     "execution_count": 40,
     "metadata": {},
     "output_type": "execute_result"
    }
   ],
   "source": [
    "# A Log is an append-only list\n",
    "log = Log('examples/mylog')\n",
    "log.clear()\n",
    "log.append(1)\n",
    "log.append(2)\n",
    "log.append(3)\n",
    "list(log)"
   ]
  },
  {
   "cell_type": "code",
   "execution_count": 41,
   "id": "52aef0a8",
   "metadata": {},
   "outputs": [
    {
     "data": {
      "text/plain": [
       "[1, 2]"
      ]
     },
     "execution_count": 41,
     "metadata": {},
     "output_type": "execute_result"
    }
   ],
   "source": [
    "list(log[0:2])"
   ]
  },
  {
   "cell_type": "code",
   "execution_count": 42,
   "id": "44bc3ab0",
   "metadata": {},
   "outputs": [
    {
     "name": "stdout",
     "output_type": "stream",
     "text": [
      "1\n",
      "2\n"
     ]
    }
   ],
   "source": [
    "# Queue is also available\n",
    "queue = Queue('examples/myqueue')\n",
    "queue.clear()\n",
    "queue.put_nowait(1)\n",
    "queue.put_nowait(2)\n",
    "for _ in range(len(queue)):\n",
    "    print(queue.get_nowait())"
   ]
  }
 ],
 "metadata": {
  "kernelspec": {
   "display_name": "Python 3",
   "language": "python",
   "name": "python3"
  },
  "language_info": {
   "codemirror_mode": {
    "name": "ipython",
    "version": 3
   },
   "file_extension": ".py",
   "mimetype": "text/x-python",
   "name": "python",
   "nbconvert_exporter": "python",
   "pygments_lexer": "ipython3",
   "version": "3.8.3"
  }
 },
 "nbformat": 4,
 "nbformat_minor": 5
}
