{
 "cells": [
  {
   "cell_type": "markdown",
   "id": "c19bd90b",
   "metadata": {},
   "source": [
    "## Collections"
   ]
  },
  {
   "cell_type": "code",
   "execution_count": 1,
   "id": "b1e1986b",
   "metadata": {},
   "outputs": [],
   "source": [
    "%reload_ext autoreload\n",
    "%autoreload 2"
   ]
  },
  {
   "cell_type": "code",
   "execution_count": 2,
   "id": "e63f70fa",
   "metadata": {},
   "outputs": [],
   "source": [
    "import os\n",
    "import sys\n",
    "os.environ['PARKIT_STORAGE_PATH'] = 'C:\\\\Users\\\\rdpuser\\\\Desktop\\\\test'\n",
    "os.environ['PYTHONPATH'] = os.environ['PYTHONPATH'] + 'C:\\\\Users\\\\rdpuser\\\\Documents\\\\Github\\\\parkit;'\n",
    "sys.path.append('C:\\\\Users\\\\rdpuser\\\\Documents\\\\Github\\\\parkit')"
   ]
  },
  {
   "cell_type": "code",
   "execution_count": 3,
   "id": "7177ebb5",
   "metadata": {},
   "outputs": [],
   "source": [
    "import parkit as pk"
   ]
  },
  {
   "cell_type": "code",
   "execution_count": 4,
   "id": "51317022",
   "metadata": {},
   "outputs": [],
   "source": [
    "# First need to set a path for storing the data\n",
    "pk.set_storage_path('C:\\\\Users\\\\rdpuser\\\\Desktop\\\\test')"
   ]
  },
  {
   "cell_type": "code",
   "execution_count": 5,
   "id": "d4de35af",
   "metadata": {},
   "outputs": [
    {
     "data": {
      "text/plain": [
       "'C:\\\\Users\\\\rdpuser\\\\Desktop\\\\test'"
      ]
     },
     "execution_count": 5,
     "metadata": {},
     "output_type": "execute_result"
    }
   ],
   "source": [
    "pk.get_storage_path()"
   ]
  },
  {
   "cell_type": "code",
   "execution_count": 6,
   "id": "d5f63012",
   "metadata": {},
   "outputs": [
    {
     "data": {
      "text/plain": [
       "[('key1', 1), ('key2', 2)]"
      ]
     },
     "execution_count": 6,
     "metadata": {},
     "output_type": "execute_result"
    }
   ],
   "source": [
    "# Create a persistent dictionary.\n",
    "d = pk.Dict('some/namespace/mydict')\n",
    "d.update(dict(key1 = 1, key2 = 2))\n",
    "list(d.items())"
   ]
  },
  {
   "cell_type": "code",
   "execution_count": 7,
   "id": "6eae45a3",
   "metadata": {},
   "outputs": [
    {
     "data": {
      "text/plain": [
       "[('key1', 1), ('key2', 2)]"
      ]
     },
     "execution_count": 7,
     "metadata": {},
     "output_type": "execute_result"
    }
   ],
   "source": [
    "d = None\n",
    "# Object can be referenced on any process using its path\n",
    "d = pk.Dict('some/namespace/mydict')\n",
    "list(d.items())"
   ]
  },
  {
   "cell_type": "code",
   "execution_count": 8,
   "id": "65727971",
   "metadata": {},
   "outputs": [
    {
     "data": {
      "text/plain": [
       "10"
      ]
     },
     "execution_count": 8,
     "metadata": {},
     "output_type": "execute_result"
    }
   ],
   "source": [
    "# Array class, basically an append-only list\n",
    "a = pk.Array('myarray')\n",
    "a.extend([3, 2, 1, 4])\n",
    "sum(a)"
   ]
  },
  {
   "cell_type": "code",
   "execution_count": 9,
   "id": "626e7bd1",
   "metadata": {},
   "outputs": [
    {
     "data": {
      "text/plain": [
       "[1, 2, 3, 4]"
      ]
     },
     "execution_count": 9,
     "metadata": {},
     "output_type": "execute_result"
    }
   ],
   "source": [
    "sorted(a)"
   ]
  },
  {
   "cell_type": "code",
   "execution_count": 10,
   "id": "77aef3e5",
   "metadata": {},
   "outputs": [
    {
     "data": {
      "text/plain": [
       "1"
      ]
     },
     "execution_count": 10,
     "metadata": {},
     "output_type": "execute_result"
    }
   ],
   "source": [
    "# Queue class follows standard Queue interface\n",
    "q = pk.Queue('myqueue')\n",
    "q.put(1)\n",
    "q.get()"
   ]
  },
  {
   "cell_type": "code",
   "execution_count": 11,
   "id": "72601f33",
   "metadata": {},
   "outputs": [
    {
     "name": "stdout",
     "output_type": "stream",
     "text": [
      "some/namespace/mydict mydict True 1 True {}\n"
     ]
    }
   ],
   "source": [
    "# Properties of persistent objects\n",
    "print(d.path, d.name, d.versioned, d.version, d.exists, d.metadata)"
   ]
  },
  {
   "cell_type": "code",
   "execution_count": 12,
   "id": "ee2415f1",
   "metadata": {},
   "outputs": [
    {
     "data": {
      "text/plain": [
       "False"
      ]
     },
     "execution_count": 12,
     "metadata": {},
     "output_type": "execute_result"
    }
   ],
   "source": [
    "# Delete the object\n",
    "d.drop()\n",
    "d.exists"
   ]
  },
  {
   "cell_type": "markdown",
   "id": "1aee0e18",
   "metadata": {},
   "source": [
    "## Transactions"
   ]
  },
  {
   "cell_type": "code",
   "execution_count": 13,
   "id": "f96cdf51",
   "metadata": {},
   "outputs": [
    {
     "name": "stdout",
     "output_type": "stream",
     "text": [
      "a1 value from when snapshot opened 1\n",
      "a2 is in different namespace, returns current value -1\n",
      "New values -1 -1\n"
     ]
    }
   ],
   "source": [
    "a1 = pk.Array('namespace1/a1')\n",
    "a1.extend([1, 2, 3, 4])\n",
    "a2 = pk.Array('namespace2/a2')\n",
    "a2.extend([5, 6, 7, 8])\n",
    "\n",
    "with pk.snapshot(a1.namespace):\n",
    "    a1[0] = -1\n",
    "    a2[0] = -1\n",
    "    print('a1 value from when snapshot opened', a1[0])\n",
    "    print('a2 is in different namespace, returns current value', a2[0])\n",
    "    \n",
    "print('New values', a1[0], a2[0])"
   ]
  },
  {
   "cell_type": "code",
   "execution_count": 14,
   "id": "579c461d",
   "metadata": {},
   "outputs": [
    {
     "data": {
      "text/plain": [
       "([-1, 2, 3, 4], [1])"
      ]
     },
     "execution_count": 14,
     "metadata": {},
     "output_type": "execute_result"
    }
   ],
   "source": [
    "# Operations grouped in transaction commit as single change\n",
    "a3 = pk.Array('namespace1/a3')\n",
    "with pk.transaction(a1.namespace):\n",
    "    a1[0] = -1\n",
    "    a3.append(1)\n",
    "    \n",
    "list(a1[:]), list(a3[:])"
   ]
  },
  {
   "cell_type": "markdown",
   "id": "38cc1898",
   "metadata": {},
   "source": [
    "## Tasks"
   ]
  },
  {
   "cell_type": "code",
   "execution_count": 15,
   "id": "a1cba81d",
   "metadata": {},
   "outputs": [],
   "source": [
    "import logging\n",
    "logger = logging.getLogger(__name__)"
   ]
  },
  {
   "cell_type": "code",
   "execution_count": 16,
   "id": "f189b8a3",
   "metadata": {},
   "outputs": [],
   "source": [
    "@pk.task\n",
    "def cumsum(input: pk.Array, output: pk.Array):\n",
    "    sum = 0\n",
    "    for x in input:\n",
    "        sum += x\n",
    "        # This bug is deliberate\n",
    "        output.append(summation)\n",
    "    logger.info('finished cumsum run')\n",
    "    return True"
   ]
  },
  {
   "cell_type": "code",
   "execution_count": 17,
   "id": "3a872c69",
   "metadata": {},
   "outputs": [
    {
     "data": {
      "text/plain": [
       "<parkit.adapters.task.Task at 0x1cb4c26ec10>"
      ]
     },
     "execution_count": 17,
     "metadata": {},
     "output_type": "execute_result"
    }
   ],
   "source": [
    "cumsum"
   ]
  },
  {
   "cell_type": "code",
   "execution_count": 18,
   "id": "cad112fc",
   "metadata": {},
   "outputs": [],
   "source": [
    "pool = pk.Pool()"
   ]
  },
  {
   "cell_type": "code",
   "execution_count": 19,
   "id": "d0505c1a",
   "metadata": {},
   "outputs": [],
   "source": [
    "# Start a process pool for remote task execution. The pool runs independently of the\n",
    "# current process and will stay running even if this process is terminated.\n",
    "pool.start()"
   ]
  },
  {
   "cell_type": "code",
   "execution_count": 20,
   "id": "a34eaba9",
   "metadata": {},
   "outputs": [
    {
     "data": {
      "text/plain": [
       "4"
      ]
     },
     "execution_count": 20,
     "metadata": {},
     "output_type": "execute_result"
    }
   ],
   "source": [
    "pool.size"
   ]
  },
  {
   "cell_type": "code",
   "execution_count": 21,
   "id": "a96480ea",
   "metadata": {},
   "outputs": [
    {
     "data": {
      "text/plain": [
       "[]"
      ]
     },
     "execution_count": 21,
     "metadata": {},
     "output_type": "execute_result"
    }
   ],
   "source": [
    "input = pk.Array()\n",
    "output = pk.Array()\n",
    "input.extend([1, 2, 3, 4, 5])\n",
    "trace = cumsum(input, output)\n",
    "pk.wait_until(lambda: trace.done)\n",
    "list(output[:])"
   ]
  },
  {
   "cell_type": "code",
   "execution_count": 22,
   "id": "de55dc9a",
   "metadata": {},
   "outputs": [
    {
     "name": "stdout",
     "output_type": "stream",
     "text": [
      "AsyncTrace\n",
      "task: task/cumsum\n",
      "status: failed\n",
      "pid: 5736\n",
      "start: 2021-06-04 12:57:19.967522\n",
      "end: 2021-06-04 12:57:20.046532\n"
     ]
    }
   ],
   "source": [
    "print(trace)"
   ]
  },
  {
   "cell_type": "code",
   "execution_count": 23,
   "id": "a3eede1a",
   "metadata": {},
   "outputs": [
    {
     "data": {
      "text/plain": [
       "NameError(\"name 'summation' is not defined\")"
      ]
     },
     "execution_count": 23,
     "metadata": {},
     "output_type": "execute_result"
    }
   ],
   "source": [
    "trace.error"
   ]
  },
  {
   "cell_type": "code",
   "execution_count": 24,
   "id": "eef08fe3",
   "metadata": {},
   "outputs": [],
   "source": [
    "@pk.task\n",
    "def cumsum(input: pk.Array, output: pk.Array):\n",
    "    sum = 0\n",
    "    for x in input:\n",
    "        sum += x\n",
    "        # Bug fix in place\n",
    "        output.append(sum)\n",
    "    logger.info('finished cumsum run')\n",
    "    return True"
   ]
  },
  {
   "cell_type": "code",
   "execution_count": 25,
   "id": "b15c0b31",
   "metadata": {},
   "outputs": [
    {
     "data": {
      "text/plain": [
       "[1, 3, 6, 10, 15]"
      ]
     },
     "execution_count": 25,
     "metadata": {},
     "output_type": "execute_result"
    }
   ],
   "source": [
    "input = pk.Array()\n",
    "output = pk.Array()\n",
    "input.extend([1, 2, 3, 4, 5])\n",
    "trace = cumsum(input, output)\n",
    "pk.wait_until(lambda: trace.done)\n",
    "list(output[:])"
   ]
  },
  {
   "cell_type": "code",
   "execution_count": 26,
   "id": "285f1edf",
   "metadata": {},
   "outputs": [
    {
     "name": "stdout",
     "output_type": "stream",
     "text": [
      "AsyncTrace\n",
      "task: task/cumsum\n",
      "status: finished\n",
      "pid: 5736\n",
      "start: 2021-06-04 12:57:27.107555\n",
      "end: 2021-06-04 12:57:27.153512\n"
     ]
    }
   ],
   "source": [
    "print(trace)"
   ]
  },
  {
   "cell_type": "code",
   "execution_count": 27,
   "id": "8aebad9c",
   "metadata": {},
   "outputs": [
    {
     "data": {
      "text/plain": [
       "[1, 3, 6, 10, 15]"
      ]
     },
     "execution_count": 27,
     "metadata": {},
     "output_type": "execute_result"
    }
   ],
   "source": [
    "input = pk.Array()\n",
    "output = pk.Array()\n",
    "input.extend([1, 2, 3, 4, 5])\n",
    "\n",
    "# It's also possible to run synchronously in current process\n",
    "cumsum(input, output, sync = True)\n",
    "list(output[:])"
   ]
  },
  {
   "cell_type": "markdown",
   "id": "df90f715",
   "metadata": {},
   "source": [
    "## Task Scheduling"
   ]
  },
  {
   "cell_type": "code",
   "execution_count": 28,
   "id": "35d9c758",
   "metadata": {},
   "outputs": [],
   "source": [
    "scheduler = pk.Periodic(\n",
    "    start = 'now',\n",
    "    frequency = pk.Frequency.Second,\n",
    "    period = 1,\n",
    "    max_times = 3\n",
    ")"
   ]
  },
  {
   "cell_type": "code",
   "execution_count": 29,
   "id": "4d654e7e",
   "metadata": {},
   "outputs": [
    {
     "data": {
      "text/plain": [
       "True"
      ]
     },
     "execution_count": 29,
     "metadata": {},
     "output_type": "execute_result"
    }
   ],
   "source": [
    "input = pk.Array()\n",
    "output = pk.Array()\n",
    "input.extend([1, 2, 3, 4, 5])\n",
    "\n",
    "cumsum.schedule(scheduler, input, output)"
   ]
  },
  {
   "cell_type": "code",
   "execution_count": 30,
   "id": "f1f05fe8",
   "metadata": {},
   "outputs": [
    {
     "data": {
      "text/plain": [
       "[1, 3, 6, 10, 15, 1, 3, 6, 10, 15, 1, 3, 6, 10, 15]"
      ]
     },
     "execution_count": 30,
     "metadata": {},
     "output_type": "execute_result"
    }
   ],
   "source": [
    "list(output[:])"
   ]
  },
  {
   "cell_type": "code",
   "execution_count": 31,
   "id": "862b8e05",
   "metadata": {},
   "outputs": [
    {
     "data": {
      "text/plain": [
       "['2021-06-04 12:57:40,020 INFO@__main__ : finished cumsum run',\n",
       " '2021-06-04 12:57:41,003 INFO@__main__ : finished cumsum run',\n",
       " '2021-06-04 12:57:42,006 INFO@__main__ : finished cumsum run']"
      ]
     },
     "execution_count": 31,
     "metadata": {},
     "output_type": "execute_result"
    }
   ],
   "source": [
    "# syslog captures the logger output\n",
    "syslog = pk.SysLog()\n",
    "list(syslog[-3:])"
   ]
  },
  {
   "cell_type": "markdown",
   "id": "9511e586",
   "metadata": {},
   "source": [
    "## Namespaces"
   ]
  },
  {
   "cell_type": "code",
   "execution_count": 32,
   "id": "c7bad780",
   "metadata": {},
   "outputs": [
    {
     "data": {
      "text/plain": [
       "['default', 'namespace1', 'namespace2', 'some', 'some/namespace', 'task']"
      ]
     },
     "execution_count": 32,
     "metadata": {},
     "output_type": "execute_result"
    }
   ],
   "source": [
    "# namespace iterator\n",
    "[path.path for path in pk.namespaces()]"
   ]
  },
  {
   "cell_type": "code",
   "execution_count": 33,
   "id": "f615071c",
   "metadata": {},
   "outputs": [
    {
     "data": {
      "text/plain": [
       "['namespace1/a1', 'namespace1/a3']"
      ]
     },
     "execution_count": 33,
     "metadata": {},
     "output_type": "execute_result"
    }
   ],
   "source": [
    "# object iterator\n",
    "[obj.path for obj in pk.Namespace('namespace1')]"
   ]
  },
  {
   "cell_type": "code",
   "execution_count": null,
   "id": "0542a2d5",
   "metadata": {},
   "outputs": [],
   "source": []
  }
 ],
 "metadata": {
  "kernelspec": {
   "display_name": "Python 3",
   "language": "python",
   "name": "python3"
  },
  "language_info": {
   "codemirror_mode": {
    "name": "ipython",
    "version": 3
   },
   "file_extension": ".py",
   "mimetype": "text/x-python",
   "name": "python",
   "nbconvert_exporter": "python",
   "pygments_lexer": "ipython3",
   "version": "3.8.3"
  }
 },
 "nbformat": 4,
 "nbformat_minor": 5
}
