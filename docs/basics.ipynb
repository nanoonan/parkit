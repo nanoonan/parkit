{
 "cells": [
  {
   "cell_type": "markdown",
   "id": "240d7d37",
   "metadata": {},
   "source": [
    "## Basics\n",
    "Here are some basic examples with the Collection classes."
   ]
  },
  {
   "cell_type": "code",
   "execution_count": 1,
   "id": "4d74d7a0",
   "metadata": {},
   "outputs": [],
   "source": [
    "# Set the storage path to tmp\n",
    "import os\n",
    "os.environ['PARKIT_STORAGE_PATH'] = 'C:\\\\tmp'"
   ]
  },
  {
   "cell_type": "code",
   "execution_count": 2,
   "id": "fe3d3175",
   "metadata": {},
   "outputs": [],
   "source": [
    "from parkit import (\n",
    "    Dict,\n",
    "    Log,\n",
    "    namespaces,\n",
    "    objects,\n",
    "    Queue,\n",
    "    transaction,\n",
    "    snapshot\n",
    ")"
   ]
  },
  {
   "cell_type": "code",
   "execution_count": 3,
   "id": "45988a8d",
   "metadata": {},
   "outputs": [],
   "source": [
    "# Create a Dict (implements standard Python Dict interface).\n",
    "# The path is examples/mydict. The namespace is examples\n",
    "# and the name is mydict1 for the object.\n",
    "d1 = Dict('examples/mydict1')"
   ]
  },
  {
   "cell_type": "code",
   "execution_count": 5,
   "id": "001897ac",
   "metadata": {},
   "outputs": [
    {
     "data": {
      "text/plain": [
       "('examples', 'mydict1')"
      ]
     },
     "execution_count": 5,
     "metadata": {},
     "output_type": "execute_result"
    }
   ],
   "source": [
    "d1.namespace, d1.name"
   ]
  },
  {
   "cell_type": "code",
   "execution_count": 6,
   "id": "d09afc5c",
   "metadata": {},
   "outputs": [
    {
     "data": {
      "text/plain": [
       "(True, 0)"
      ]
     },
     "execution_count": 6,
     "metadata": {},
     "output_type": "execute_result"
    }
   ],
   "source": [
    "# Objects can be versioned.\n",
    "d1.versioned, d1.version"
   ]
  },
  {
   "cell_type": "code",
   "execution_count": 7,
   "id": "19ba8c10",
   "metadata": {},
   "outputs": [
    {
     "data": {
      "text/plain": [
       "1"
      ]
     },
     "execution_count": 7,
     "metadata": {},
     "output_type": "execute_result"
    }
   ],
   "source": [
    "d1['key'] = 'value'\n",
    "d1.version"
   ]
  },
  {
   "cell_type": "code",
   "execution_count": 8,
   "id": "25f01450",
   "metadata": {},
   "outputs": [
    {
     "data": {
      "text/plain": [
       "('new value', 'value')"
      ]
     },
     "execution_count": 8,
     "metadata": {},
     "output_type": "execute_result"
    }
   ],
   "source": [
    "# Multiple objects in the same namespace can be modified in\n",
    "# a single transaction.\n",
    "d2 = Dict('examples/mydict2')\n",
    "with transaction(d1):\n",
    "    d2['key'] = d1['key']\n",
    "    d1['key'] = 'new value'\n",
    "d1['key'], d2['key']"
   ]
  },
  {
   "cell_type": "code",
   "execution_count": 9,
   "id": "a5090591",
   "metadata": {},
   "outputs": [
    {
     "name": "stdout",
     "output_type": "stream",
     "text": [
      "new value value\n"
     ]
    }
   ],
   "source": [
    "# Read-only transactions are also supported.\n",
    "with snapshot(d1):\n",
    "    print(d1['key'], d2['key'])"
   ]
  },
  {
   "cell_type": "code",
   "execution_count": 10,
   "id": "46c8b833",
   "metadata": {},
   "outputs": [
    {
     "data": {
      "text/plain": [
       "['examples']"
      ]
     },
     "execution_count": 10,
     "metadata": {},
     "output_type": "execute_result"
    }
   ],
   "source": [
    "# List all namespaces\n",
    "list(namespaces())"
   ]
  },
  {
   "cell_type": "code",
   "execution_count": 17,
   "id": "b648630e",
   "metadata": {},
   "outputs": [
    {
     "data": {
      "text/plain": [
       "[('examples/mydict1',\n",
       "  {'databases': [['7975c4a25d20f97d1cc8bc1029e0bc52335cdc11', {}]],\n",
       "   'versioned': True,\n",
       "   'created': '2021-05-22T15:06:48.803499',\n",
       "   'type': 'parkit.adapters.dict.Dict',\n",
       "   'custom': {}}),\n",
       " ('examples/mydict2',\n",
       "  {'databases': [['bd30b1119c5a1776067a11aa1df86e9715ab449e', {}]],\n",
       "   'versioned': True,\n",
       "   'created': '2021-05-22T14:03:14.567382',\n",
       "   'type': 'parkit.adapters.dict.Dict',\n",
       "   'custom': {}})]"
      ]
     },
     "execution_count": 17,
     "metadata": {},
     "output_type": "execute_result"
    }
   ],
   "source": [
    "# list all objects in a namespace. Returns (path, descriptor) tuple\n",
    "list(objects('examples'))"
   ]
  },
  {
   "cell_type": "code",
   "execution_count": 18,
   "id": "a7f95646",
   "metadata": {},
   "outputs": [
    {
     "data": {
      "text/plain": [
       "[('examples/mydict2',\n",
       "  {'databases': [['bd30b1119c5a1776067a11aa1df86e9715ab449e', {}]],\n",
       "   'versioned': True,\n",
       "   'created': '2021-05-22T14:03:14.567382',\n",
       "   'type': 'parkit.adapters.dict.Dict',\n",
       "   'custom': {}})]"
      ]
     },
     "execution_count": 18,
     "metadata": {},
     "output_type": "execute_result"
    }
   ],
   "source": [
    "# Delete an object\n",
    "d1.drop()\n",
    "list(objects('examples'))"
   ]
  },
  {
   "cell_type": "code",
   "execution_count": 12,
   "id": "a1c081fc",
   "metadata": {},
   "outputs": [
    {
     "data": {
      "text/plain": [
       "[1, 2, 3]"
      ]
     },
     "execution_count": 12,
     "metadata": {},
     "output_type": "execute_result"
    }
   ],
   "source": [
    "# A Log is an append-only list\n",
    "log = Log('examples/mylog')\n",
    "log.clear()\n",
    "log.append(1)\n",
    "log.append(2)\n",
    "log.append(3)\n",
    "list(log)"
   ]
  },
  {
   "cell_type": "code",
   "execution_count": 13,
   "id": "2e2c1f2b",
   "metadata": {},
   "outputs": [
    {
     "data": {
      "text/plain": [
       "[1, 2]"
      ]
     },
     "execution_count": 13,
     "metadata": {},
     "output_type": "execute_result"
    }
   ],
   "source": [
    "list(log[0:2])"
   ]
  },
  {
   "cell_type": "code",
   "execution_count": 15,
   "id": "a07cd911",
   "metadata": {},
   "outputs": [
    {
     "name": "stdout",
     "output_type": "stream",
     "text": [
      "1\n",
      "2\n"
     ]
    }
   ],
   "source": [
    "# Queue is also available\n",
    "queue = Queue('examples/myqueue')\n",
    "queue.clear()\n",
    "queue.put_nowait(1)\n",
    "queue.put_nowait(2)\n",
    "for _ in range(len(queue)):\n",
    "    print(queue.get_nowait())"
   ]
  }
 ],
 "metadata": {
  "kernelspec": {
   "display_name": "Python 3",
   "language": "python",
   "name": "python3"
  },
  "language_info": {
   "codemirror_mode": {
    "name": "ipython",
    "version": 3
   },
   "file_extension": ".py",
   "mimetype": "text/x-python",
   "name": "python",
   "nbconvert_exporter": "python",
   "pygments_lexer": "ipython3",
   "version": "3.8.3"
  }
 },
 "nbformat": 4,
 "nbformat_minor": 5
}
