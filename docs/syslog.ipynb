{
 "cells": [
  {
   "cell_type": "markdown",
   "id": "0add9e99",
   "metadata": {},
   "source": [
    "# Syslog\n",
    "\n",
    "The installed logger writes log entries to a system log. The log is accessible through the *syslog* variable. \n",
    "A utility program, *parkit.tools.tailsyslog*, can be run from the command line to tail the entries written to\n",
    "*syslog*."
   ]
  },
  {
   "cell_type": "code",
   "execution_count": 4,
   "id": "eff218a7",
   "metadata": {},
   "outputs": [],
   "source": [
    "from parkit import syslog"
   ]
  },
  {
   "cell_type": "code",
   "execution_count": 5,
   "id": "fd90713f",
   "metadata": {},
   "outputs": [
    {
     "data": {
      "text/plain": [
       "128373"
      ]
     },
     "execution_count": 5,
     "metadata": {},
     "output_type": "execute_result"
    }
   ],
   "source": [
    "len(syslog)"
   ]
  },
  {
   "cell_type": "code",
   "execution_count": 6,
   "id": "31eaa6c5",
   "metadata": {},
   "outputs": [
    {
     "data": {
      "text/plain": [
       "['2021-05-25 14:55:42,646 ERROR@parkit.adapters.process : process run',\n",
       " '2021-05-25 14:55:42,648 INFO@__main__ : called do_something with hello']"
      ]
     },
     "execution_count": 6,
     "metadata": {},
     "output_type": "execute_result"
    }
   ],
   "source": [
    "list(syslog[-2:])"
   ]
  },
  {
   "cell_type": "markdown",
   "id": "46c9750a",
   "metadata": {},
   "source": [
    "Generate entries in the *syslog* by instantiating a logger and calling the appropriate logging method."
   ]
  },
  {
   "cell_type": "code",
   "execution_count": 8,
   "id": "6e16299c",
   "metadata": {},
   "outputs": [
    {
     "data": {
      "text/plain": [
       "'2021-05-25 15:06:48,634 INFO@__main__ : Generated entry in syslog'"
      ]
     },
     "execution_count": 8,
     "metadata": {},
     "output_type": "execute_result"
    }
   ],
   "source": [
    "import logging\n",
    "\n",
    "logger = logging.getLogger(__name__)\n",
    "\n",
    "logger.info('Generated entry in syslog')\n",
    "syslog[-1]"
   ]
  },
  {
   "cell_type": "code",
   "execution_count": null,
   "id": "2e29d0a9",
   "metadata": {},
   "outputs": [],
   "source": []
  }
 ],
 "metadata": {
  "kernelspec": {
   "display_name": "Python 3",
   "language": "python",
   "name": "python3"
  },
  "language_info": {
   "codemirror_mode": {
    "name": "ipython",
    "version": 3
   },
   "file_extension": ".py",
   "mimetype": "text/x-python",
   "name": "python",
   "nbconvert_exporter": "python",
   "pygments_lexer": "ipython3",
   "version": "3.8.3"
  }
 },
 "nbformat": 4,
 "nbformat_minor": 5
}
