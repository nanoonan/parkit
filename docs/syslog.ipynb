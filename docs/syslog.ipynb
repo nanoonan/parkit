{
 "cells": [
  {
   "cell_type": "markdown",
   "id": "0add9e99",
   "metadata": {},
   "source": [
    "# Syslog\n",
    "The installed logger writes log entries to a system log. The log is accessible through the *syslog* variable. \n",
    "A utility program, parkit.tools.tailsyslog, can be run from the command line to tail the entries written to\n",
    "*syslog*."
   ]
  },
  {
   "cell_type": "code",
   "execution_count": 1,
   "id": "eff218a7",
   "metadata": {},
   "outputs": [],
   "source": [
    "from parkit import syslog"
   ]
  },
  {
   "cell_type": "code",
   "execution_count": 2,
   "id": "fd90713f",
   "metadata": {},
   "outputs": [
    {
     "data": {
      "text/plain": [
       "128226"
      ]
     },
     "execution_count": 2,
     "metadata": {},
     "output_type": "execute_result"
    }
   ],
   "source": [
    "len(syslog)"
   ]
  },
  {
   "cell_type": "code",
   "execution_count": 4,
   "id": "31eaa6c5",
   "metadata": {},
   "outputs": [
    {
     "data": {
      "text/plain": [
       "['2021-05-23 11:03:17,007 ERROR@__main__ : Task daemon caught user error\\nTraceback (most recent call last):\\n  File \"c:\\\\users\\\\rdpuser\\\\appdata\\\\local\\\\programs\\\\python\\\\python38\\\\lib\\\\site-packages\\\\parkit\\\\pool\\\\taskdaemon.py\", line 70, in <module>\\n    result = process.run()\\n  File \"<ipython-input-2-170c5ea4e1e0>\", line 6, in run\\n  File \"c:\\\\users\\\\rdpuser\\\\appdata\\\\local\\\\programs\\\\python\\\\python38\\\\lib\\\\site-packages\\\\parkit\\\\adapters\\\\dict.py\", line 135, in __getitem__\\n    raise KeyError()\\nKeyError',\n",
       " '2021-05-23 11:03:17,017 ERROR@__main__ : Task daemon caught user error\\nTraceback (most recent call last):\\n  File \"c:\\\\users\\\\rdpuser\\\\appdata\\\\local\\\\programs\\\\python\\\\python38\\\\lib\\\\site-packages\\\\parkit\\\\pool\\\\taskdaemon.py\", line 70, in <module>\\n    result = process.run()\\n  File \"<ipython-input-2-170c5ea4e1e0>\", line 6, in run\\n  File \"c:\\\\users\\\\rdpuser\\\\appdata\\\\local\\\\programs\\\\python\\\\python38\\\\lib\\\\site-packages\\\\parkit\\\\adapters\\\\dict.py\", line 135, in __getitem__\\n    raise KeyError()\\nKeyError',\n",
       " '2021-05-23 11:03:17,026 ERROR@__main__ : Task daemon caught user error\\nTraceback (most recent call last):\\n  File \"c:\\\\users\\\\rdpuser\\\\appdata\\\\local\\\\programs\\\\python\\\\python38\\\\lib\\\\site-packages\\\\parkit\\\\pool\\\\taskdaemon.py\", line 70, in <module>\\n    result = process.run()\\n  File \"<ipython-input-2-170c5ea4e1e0>\", line 6, in run\\n  File \"c:\\\\users\\\\rdpuser\\\\appdata\\\\local\\\\programs\\\\python\\\\python38\\\\lib\\\\site-packages\\\\parkit\\\\adapters\\\\dict.py\", line 135, in __getitem__\\n    raise KeyError()\\nKeyError',\n",
       " '2021-05-23 11:03:17,035 ERROR@__main__ : Task daemon caught user error\\nTraceback (most recent call last):\\n  File \"c:\\\\users\\\\rdpuser\\\\appdata\\\\local\\\\programs\\\\python\\\\python38\\\\lib\\\\site-packages\\\\parkit\\\\pool\\\\taskdaemon.py\", line 70, in <module>\\n    result = process.run()\\n  File \"<ipython-input-2-170c5ea4e1e0>\", line 6, in run\\n  File \"c:\\\\users\\\\rdpuser\\\\appdata\\\\local\\\\programs\\\\python\\\\python38\\\\lib\\\\site-packages\\\\parkit\\\\adapters\\\\dict.py\", line 135, in __getitem__\\n    raise KeyError()\\nKeyError',\n",
       " '2021-05-23 11:03:17,043 ERROR@__main__ : Task daemon caught user error\\nTraceback (most recent call last):\\n  File \"c:\\\\users\\\\rdpuser\\\\appdata\\\\local\\\\programs\\\\python\\\\python38\\\\lib\\\\site-packages\\\\parkit\\\\pool\\\\taskdaemon.py\", line 70, in <module>\\n    result = process.run()\\n  File \"<ipython-input-2-170c5ea4e1e0>\", line 6, in run\\n  File \"c:\\\\users\\\\rdpuser\\\\appdata\\\\local\\\\programs\\\\python\\\\python38\\\\lib\\\\site-packages\\\\parkit\\\\adapters\\\\dict.py\", line 135, in __getitem__\\n    raise KeyError()\\nKeyError']"
      ]
     },
     "execution_count": 4,
     "metadata": {},
     "output_type": "execute_result"
    }
   ],
   "source": [
    "list(syslog[-5:])"
   ]
  },
  {
   "cell_type": "code",
   "execution_count": 7,
   "id": "6e16299c",
   "metadata": {},
   "outputs": [
    {
     "data": {
      "text/plain": [
       "'2021-05-23 12:27:38,031 INFO@__main__ : Generated entry in syslog'"
      ]
     },
     "execution_count": 7,
     "metadata": {},
     "output_type": "execute_result"
    }
   ],
   "source": [
    "import logging\n",
    "logger = logging.getLogger(__name__)\n",
    "logger.info('Generated entry in syslog')\n",
    "syslog[-1]"
   ]
  }
 ],
 "metadata": {
  "kernelspec": {
   "display_name": "Python 3",
   "language": "python",
   "name": "python3"
  },
  "language_info": {
   "codemirror_mode": {
    "name": "ipython",
    "version": 3
   },
   "file_extension": ".py",
   "mimetype": "text/x-python",
   "name": "python",
   "nbconvert_exporter": "python",
   "pygments_lexer": "ipython3",
   "version": "3.8.3"
  }
 },
 "nbformat": 4,
 "nbformat_minor": 5
}
