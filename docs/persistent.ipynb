{
 "cells": [
  {
   "cell_type": "markdown",
   "id": "f9402e0a",
   "metadata": {},
   "source": [
    "You can create custom classes that automatically persist their attributes.\n",
    "\n",
    "In this example, the lifetime of the 'local' attribute is the same as the object instance. The rule is that any attribute declared in the class definition is not persistent. The 'persistent' attribute is a transactional attribute and you can access it from multiple processes. "
   ]
  },
  {
   "cell_type": "code",
   "execution_count": 10,
   "id": "f14391df",
   "metadata": {},
   "outputs": [],
   "source": [
    "from parkit import (\n",
    "    Dict,\n",
    "    Object\n",
    ")"
   ]
  },
  {
   "cell_type": "code",
   "execution_count": 11,
   "id": "e5be996c",
   "metadata": {},
   "outputs": [],
   "source": [
    "# Subclass Object to create a custom class with peristent, transactional attributes\n",
    "class MyClass(Object):\n",
    "\n",
    "    # This is not persistent\n",
    "    local = 1\n",
    "\n",
    "    def __init__(self, path):\n",
    "        # Call the super __init__ first\n",
    "        super().__init__(path)\n",
    "        # Add a new persistent attribute if it doesn't exist. If we don't have this test\n",
    "        # each new instance will overwrite the value of the persistent attribute.\n",
    "        if 'persistent' not in self.attributes():\n",
    "            self.persistent = 'foo'\n",
    "        \n",
    "    def hello(self):\n",
    "        print('hello', self.persistent, self.local)"
   ]
  },
  {
   "cell_type": "code",
   "execution_count": 12,
   "id": "a59e01f2",
   "metadata": {},
   "outputs": [],
   "source": [
    "# Create two named instances\n",
    "x1 = MyClass('examples/foo1')\n",
    "x2 = MyClass('examples/foo2')"
   ]
  },
  {
   "cell_type": "code",
   "execution_count": 13,
   "id": "63692a87",
   "metadata": {},
   "outputs": [
    {
     "data": {
      "text/plain": [
       "(['persistent'], ['persistent'])"
      ]
     },
     "execution_count": 13,
     "metadata": {},
     "output_type": "execute_result"
    }
   ],
   "source": [
    "list(x1.attributes()), list(x2.attributes())"
   ]
  },
  {
   "cell_type": "code",
   "execution_count": 14,
   "id": "22b033d7",
   "metadata": {},
   "outputs": [
    {
     "name": "stdout",
     "output_type": "stream",
     "text": [
      "hello bar 2\n",
      "hello foo 1\n"
     ]
    }
   ],
   "source": [
    "# Change the attribute values for x1\n",
    "x1.local = 2\n",
    "x1.persistent = 'bar'\n",
    "x1.hello()\n",
    "x2.hello()"
   ]
  },
  {
   "cell_type": "code",
   "execution_count": 15,
   "id": "841f094e",
   "metadata": {},
   "outputs": [
    {
     "name": "stdout",
     "output_type": "stream",
     "text": [
      "hello bar 1\n",
      "hello foo 1\n"
     ]
    }
   ],
   "source": [
    "# Create a new instance of x1. Note the local attribute is reset.\n",
    "x1 = MyClass('examples/foo1')\n",
    "x1.hello()\n",
    "x2.hello()"
   ]
  },
  {
   "cell_type": "code",
   "execution_count": 16,
   "id": "146268d2",
   "metadata": {},
   "outputs": [],
   "source": [
    "# References to other parkit objects are valid.\n",
    "d = Dict('examples/mydict')\n",
    "d['key'] = 'value'\n",
    "x1.mydict = d"
   ]
  },
  {
   "cell_type": "code",
   "execution_count": 17,
   "id": "a435737f",
   "metadata": {},
   "outputs": [
    {
     "data": {
      "text/plain": [
       "'value'"
      ]
     },
     "execution_count": 17,
     "metadata": {},
     "output_type": "execute_result"
    }
   ],
   "source": [
    "x1 = MyClass('examples/foo1')\n",
    "x1.mydict['key']"
   ]
  },
  {
   "cell_type": "code",
   "execution_count": 18,
   "id": "b31730ae",
   "metadata": {},
   "outputs": [],
   "source": [
    "x1.drop()\n",
    "x2.drop()"
   ]
  },
  {
   "cell_type": "code",
   "execution_count": null,
   "id": "38ba00d9",
   "metadata": {},
   "outputs": [],
   "source": []
  }
 ],
 "metadata": {
  "kernelspec": {
   "display_name": "Python 3",
   "language": "python",
   "name": "python3"
  },
  "language_info": {
   "codemirror_mode": {
    "name": "ipython",
    "version": 3
   },
   "file_extension": ".py",
   "mimetype": "text/x-python",
   "name": "python",
   "nbconvert_exporter": "python",
   "pygments_lexer": "ipython3",
   "version": "3.8.3"
  }
 },
 "nbformat": 4,
 "nbformat_minor": 5
}
