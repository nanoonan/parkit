{
 "cells": [
  {
   "cell_type": "markdown",
   "id": "1f82bc81",
   "metadata": {},
   "source": [
    "## Processes\n",
    "\n",
    "*parkit* provides a Process class with a similiar interface to the Python Process class in the *multiprocessing* package. One key difference is that the *parkit* process is like a Unix daemon process and will stay running even if the parent process that launched it terminates."
   ]
  },
  {
   "cell_type": "code",
   "execution_count": 1,
   "id": "b935f5fd",
   "metadata": {},
   "outputs": [],
   "source": [
    "from parkit import (\n",
    "    Log,\n",
    "    Process\n",
    ")"
   ]
  },
  {
   "cell_type": "code",
   "execution_count": 2,
   "id": "76cb28c5",
   "metadata": {},
   "outputs": [],
   "source": [
    "# Define a new Process class\n",
    "class MyProcess(Process):\n",
    "    \n",
    "    def run(self):\n",
    "        log = self['results']\n",
    "        for i in range(5):\n",
    "            log.append(('iteration', i))\n",
    "        return True"
   ]
  },
  {
   "cell_type": "code",
   "execution_count": 3,
   "id": "43a17209",
   "metadata": {},
   "outputs": [],
   "source": [
    "# We'll create a log to hold the results of our process\n",
    "log = Log('examples/log')\n",
    "log.clear()"
   ]
  },
  {
   "cell_type": "code",
   "execution_count": 4,
   "id": "4c25bfb7",
   "metadata": {},
   "outputs": [
    {
     "data": {
      "text/plain": [
       "'56e86c4d-c56c-418f-ba53-8b9e353d6869'"
      ]
     },
     "execution_count": 4,
     "metadata": {},
     "output_type": "execute_result"
    }
   ],
   "source": [
    "# Create a new process instance\n",
    "p = MyProcess('process1')\n",
    "p.uuid"
   ]
  },
  {
   "cell_type": "code",
   "execution_count": 5,
   "id": "f00a4101",
   "metadata": {},
   "outputs": [],
   "source": [
    "# Every Process object is a Dict, so we can share data with the process through the Dict \n",
    "# interface. We'll assign the log object with the key 'results'.\n",
    "p['results'] = log\n",
    "# Start running the process in the background\n",
    "p.start()"
   ]
  },
  {
   "cell_type": "code",
   "execution_count": 6,
   "id": "c17477aa",
   "metadata": {},
   "outputs": [
    {
     "data": {
      "text/plain": [
       "5"
      ]
     },
     "execution_count": 6,
     "metadata": {},
     "output_type": "execute_result"
    }
   ],
   "source": [
    "# Check that the log received some data\n",
    "len(log)"
   ]
  },
  {
   "cell_type": "code",
   "execution_count": 7,
   "id": "9660215b",
   "metadata": {},
   "outputs": [
    {
     "data": {
      "text/plain": [
       "[('iteration', 0),\n",
       " ('iteration', 1),\n",
       " ('iteration', 2),\n",
       " ('iteration', 3),\n",
       " ('iteration', 4)]"
      ]
     },
     "execution_count": 7,
     "metadata": {},
     "output_type": "execute_result"
    }
   ],
   "source": [
    "# Print the results\n",
    "list(log)"
   ]
  },
  {
   "cell_type": "code",
   "execution_count": 8,
   "id": "b8461df4",
   "metadata": {},
   "outputs": [
    {
     "data": {
      "text/plain": [
       "'finished'"
      ]
     },
     "execution_count": 8,
     "metadata": {},
     "output_type": "execute_result"
    }
   ],
   "source": [
    "# Get the status of our process\n",
    "p.status"
   ]
  },
  {
   "cell_type": "code",
   "execution_count": 9,
   "id": "7a7f8e4d",
   "metadata": {},
   "outputs": [
    {
     "data": {
      "text/plain": [
       "True"
      ]
     },
     "execution_count": 9,
     "metadata": {},
     "output_type": "execute_result"
    }
   ],
   "source": [
    "# Get the result returned by our process.\n",
    "p.result"
   ]
  },
  {
   "cell_type": "code",
   "execution_count": 10,
   "id": "0f0a2b23",
   "metadata": {},
   "outputs": [
    {
     "name": "stdout",
     "output_type": "stream",
     "text": [
      "process1 finished True\n"
     ]
    }
   ],
   "source": [
    "# List all the processes \n",
    "for process in Process.dir(None):\n",
    "    print(process.name, process.status, process.result)"
   ]
  },
  {
   "cell_type": "code",
   "execution_count": 11,
   "id": "f7ad357e",
   "metadata": {},
   "outputs": [],
   "source": [
    "# Delete any process with status of 'finished', 'crashed', or 'failed'\n",
    "Process.clean()"
   ]
  },
  {
   "cell_type": "code",
   "execution_count": null,
   "id": "1b7125fb",
   "metadata": {},
   "outputs": [],
   "source": []
  }
 ],
 "metadata": {
  "kernelspec": {
   "display_name": "Python 3",
   "language": "python",
   "name": "python3"
  },
  "language_info": {
   "codemirror_mode": {
    "name": "ipython",
    "version": 3
   },
   "file_extension": ".py",
   "mimetype": "text/x-python",
   "name": "python",
   "nbconvert_exporter": "python",
   "pygments_lexer": "ipython3",
   "version": "3.8.3"
  }
 },
 "nbformat": 4,
 "nbformat_minor": 5
}
