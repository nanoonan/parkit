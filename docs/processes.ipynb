{
 "cells": [
  {
   "cell_type": "markdown",
   "id": "3613caff",
   "metadata": {},
   "source": [
    "*parkit* provides a Process class with a similiar interface to the Python Process class in the *multiprocessing* package. One key difference is that the *parkit* process is Unix-like daemon process and will stay running even if the parent process that launched it terminates."
   ]
  },
  {
   "cell_type": "code",
   "execution_count": 12,
   "id": "cde548c0",
   "metadata": {},
   "outputs": [],
   "source": [
    "from parkit import (\n",
    "    Log,\n",
    "    Process\n",
    ")"
   ]
  },
  {
   "cell_type": "code",
   "execution_count": 13,
   "id": "4b40f485",
   "metadata": {},
   "outputs": [],
   "source": [
    "# Define a new Process class\n",
    "class MyProcess(Process):\n",
    "    \n",
    "    def run(self):\n",
    "        log = self['results']\n",
    "        for i in range(5):\n",
    "            log.append(('iteration', i))\n",
    "        return True"
   ]
  },
  {
   "cell_type": "code",
   "execution_count": 14,
   "id": "d4d49c28",
   "metadata": {},
   "outputs": [],
   "source": [
    "# We'll create a log to hold the results of our process\n",
    "log = Log('examples/log')\n",
    "log.clear()"
   ]
  },
  {
   "cell_type": "code",
   "execution_count": 15,
   "id": "88882b46",
   "metadata": {},
   "outputs": [
    {
     "data": {
      "text/plain": [
       "'498baf61-37b8-4862-9cfe-5f84e5837a55'"
      ]
     },
     "execution_count": 15,
     "metadata": {},
     "output_type": "execute_result"
    }
   ],
   "source": [
    "# Create a new process instance\n",
    "p = MyProcess('process1')\n",
    "p.uuid"
   ]
  },
  {
   "cell_type": "code",
   "execution_count": 16,
   "id": "3060a30c",
   "metadata": {},
   "outputs": [],
   "source": [
    "# Every Process object is a Dict, so we can share data with the process through the Dict \n",
    "# interface. We'll assign the log object with the key 'results'.\n",
    "p['results'] = log\n",
    "# Start running the process in the background\n",
    "p.start()"
   ]
  },
  {
   "cell_type": "code",
   "execution_count": 17,
   "id": "21608967",
   "metadata": {},
   "outputs": [
    {
     "data": {
      "text/plain": [
       "5"
      ]
     },
     "execution_count": 17,
     "metadata": {},
     "output_type": "execute_result"
    }
   ],
   "source": [
    "# Check that the log received some data\n",
    "len(log)"
   ]
  },
  {
   "cell_type": "code",
   "execution_count": 18,
   "id": "4143786c",
   "metadata": {},
   "outputs": [
    {
     "data": {
      "text/plain": [
       "[('iteration', 0),\n",
       " ('iteration', 1),\n",
       " ('iteration', 2),\n",
       " ('iteration', 3),\n",
       " ('iteration', 4)]"
      ]
     },
     "execution_count": 18,
     "metadata": {},
     "output_type": "execute_result"
    }
   ],
   "source": [
    "# Print the results\n",
    "list(log)"
   ]
  },
  {
   "cell_type": "code",
   "execution_count": 19,
   "id": "5b3f5533",
   "metadata": {},
   "outputs": [
    {
     "data": {
      "text/plain": [
       "'finished'"
      ]
     },
     "execution_count": 19,
     "metadata": {},
     "output_type": "execute_result"
    }
   ],
   "source": [
    "# Get the status of our process\n",
    "p.status"
   ]
  },
  {
   "cell_type": "code",
   "execution_count": 20,
   "id": "dc03fa10",
   "metadata": {},
   "outputs": [
    {
     "data": {
      "text/plain": [
       "True"
      ]
     },
     "execution_count": 20,
     "metadata": {},
     "output_type": "execute_result"
    }
   ],
   "source": [
    "# Get the result returned by our process.\n",
    "p.result"
   ]
  },
  {
   "cell_type": "code",
   "execution_count": 21,
   "id": "552d4997",
   "metadata": {},
   "outputs": [
    {
     "name": "stdout",
     "output_type": "stream",
     "text": [
      "process1 finished True\n"
     ]
    }
   ],
   "source": [
    "# List all the processes \n",
    "for process in Process.dir(None):\n",
    "    print(process.name, process.status, process.result)"
   ]
  },
  {
   "cell_type": "code",
   "execution_count": 22,
   "id": "7c000e89",
   "metadata": {},
   "outputs": [],
   "source": [
    "# Delete any process with status of 'finished', 'crashed', or 'failed'\n",
    "Process.clean()"
   ]
  },
  {
   "cell_type": "code",
   "execution_count": null,
   "id": "b496ae44",
   "metadata": {},
   "outputs": [],
   "source": []
  }
 ],
 "metadata": {
  "kernelspec": {
   "display_name": "Python 3",
   "language": "python",
   "name": "python3"
  },
  "language_info": {
   "codemirror_mode": {
    "name": "ipython",
    "version": 3
   },
   "file_extension": ".py",
   "mimetype": "text/x-python",
   "name": "python",
   "nbconvert_exporter": "python",
   "pygments_lexer": "ipython3",
   "version": "3.8.3"
  }
 },
 "nbformat": 4,
 "nbformat_minor": 5
}
