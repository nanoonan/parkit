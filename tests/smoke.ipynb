{
 "cells": [
  {
   "cell_type": "code",
   "execution_count": 1,
   "id": "95e2f7ac",
   "metadata": {},
   "outputs": [],
   "source": [
    "%reload_ext autoreload\n",
    "%autoreload 2"
   ]
  },
  {
   "cell_type": "code",
   "execution_count": 2,
   "id": "46d1d30d",
   "metadata": {},
   "outputs": [],
   "source": [
    "import os\n",
    "import sys\n",
    "os.environ['PARKIT_STORAGE_PATH'] = 'C:\\\\Users\\\\rdpuser\\\\Desktop\\\\test'\n",
    "os.environ['PYTHONPATH'] = os.environ['PYTHONPATH'] + 'C:\\\\Users\\\\rdpuser\\\\Documents\\\\Github\\\\parkit;'\n",
    "sys.path.append('C:\\\\Users\\\\rdpuser\\\\Documents\\\\Github\\\\parkit')"
   ]
  },
  {
   "cell_type": "code",
   "execution_count": 3,
   "id": "4296b75d",
   "metadata": {},
   "outputs": [],
   "source": [
    "import random\n",
    "\n",
    "import parkit as pk\n",
    "\n",
    "pk.import_site('C:\\\\Users\\\\rdpuser\\\\Desktop\\\\test')"
   ]
  },
  {
   "cell_type": "code",
   "execution_count": 4,
   "id": "2e09a25f",
   "metadata": {},
   "outputs": [],
   "source": [
    "s = pk.Stream('s1')"
   ]
  },
  {
   "cell_type": "code",
   "execution_count": 22,
   "id": "06e72e01",
   "metadata": {},
   "outputs": [
    {
     "data": {
      "text/plain": [
       "<parkit.adapters.dict.Dict at 0x2853a696220>"
      ]
     },
     "execution_count": 22,
     "metadata": {},
     "output_type": "execute_result"
    }
   ],
   "source": [
    "pk.Dict()"
   ]
  },
  {
   "cell_type": "code",
   "execution_count": 6,
   "id": "124d9dcd",
   "metadata": {},
   "outputs": [
    {
     "name": "stdout",
     "output_type": "stream",
     "text": [
      "3\n",
      "3\n"
     ]
    }
   ],
   "source": [
    "for item in s:\n",
    "    print(item)"
   ]
  },
  {
   "cell_type": "code",
   "execution_count": 15,
   "id": "8bd8812a",
   "metadata": {},
   "outputs": [
    {
     "data": {
      "text/plain": [
       "['default']"
      ]
     },
     "execution_count": 15,
     "metadata": {},
     "output_type": "execute_result"
    }
   ],
   "source": [
    "[d.path for d in pk.directories()]"
   ]
  },
  {
   "cell_type": "code",
   "execution_count": 25,
   "id": "f96b9085",
   "metadata": {},
   "outputs": [
    {
     "data": {
      "text/plain": [
       "['default/__8036b115-b2b5-4fcf-9236-925570ba2b93__', 'default/s1']"
      ]
     },
     "execution_count": 25,
     "metadata": {},
     "output_type": "execute_result"
    }
   ],
   "source": [
    "[o.path for o in pk.directory().objects(include_hidden = True)]"
   ]
  },
  {
   "cell_type": "code",
   "execution_count": 20,
   "id": "7abe8316",
   "metadata": {},
   "outputs": [
    {
     "data": {
      "text/plain": [
       "4"
      ]
     },
     "execution_count": 20,
     "metadata": {},
     "output_type": "execute_result"
    }
   ],
   "source": [
    "pk.pool().size"
   ]
  },
  {
   "cell_type": "code",
   "execution_count": 12,
   "id": "42ea761a",
   "metadata": {},
   "outputs": [
    {
     "data": {
      "text/plain": [
       "{'databases': [['378b76d3385a9c1f472d5427dc378c8e972369bd',\n",
       "   {'integerkey': True}],\n",
       "  ['b9649fdff198a853c6c227c2b6cde956e5d3e142', {'integerkey': True}]],\n",
       " 'origin': 'a20ff8ad-7cee-468b-96e8-fb8baec7e014',\n",
       " 'uuid': '15a1b53d-ccb5-409b-a0fb-25fd1b883b9c',\n",
       " 'anonymous': False,\n",
       " 'versioned': True,\n",
       " 'created': '2021-06-09 07:47:56.909081',\n",
       " 'type': 'parkit.adapters.stream.Stream',\n",
       " 'metadata': {}}"
      ]
     },
     "execution_count": 12,
     "metadata": {},
     "output_type": "execute_result"
    }
   ],
   "source": [
    "s.descriptor"
   ]
  },
  {
   "cell_type": "code",
   "execution_count": null,
   "id": "2048fcd6",
   "metadata": {},
   "outputs": [],
   "source": [
    "d1 = pk.Dict('1/1')\n",
    "d2 = pk.Dict('1/2')"
   ]
  },
  {
   "cell_type": "code",
   "execution_count": null,
   "id": "2ee79927",
   "metadata": {},
   "outputs": [],
   "source": [
    "d1[1] = 1"
   ]
  },
  {
   "cell_type": "code",
   "execution_count": null,
   "id": "9b3f1150",
   "metadata": {},
   "outputs": [],
   "source": [
    "from pynng import Pair0\n",
    "\n",
    "s1 = Pair0()\n",
    "s1.listen('tcp://127.0.0.1:54321')\n",
    "s2 = Pair0()\n",
    "s2.dial('tcp://127.0.0.1:54321')\n",
    "s1.send(b'Well hello there')\n",
    "print(s2.recv())\n",
    "s1.close()\n",
    "s2.close()"
   ]
  },
  {
   "cell_type": "code",
   "execution_count": null,
   "id": "f9d34c1a",
   "metadata": {},
   "outputs": [],
   "source": [
    "from pynng import Pub0\n",
    "\n",
    "s1 = Pub0()\n",
    "s1.listen('tcp://127.0.0.1:54321')\n",
    "try:\n",
    "    for _ in pk.polling_loop(1):\n",
    "        s1.send(b'puppy: that is a cute dog')\n",
    "finally:\n",
    "    s1.close()"
   ]
  },
  {
   "cell_type": "code",
   "execution_count": null,
   "id": "dcc6616c",
   "metadata": {},
   "outputs": [],
   "source": [
    "class CustomDict(pk.Dict):\n",
    "    \n",
    "    def get_metadata(self, value):\n",
    "        return value\n",
    "    \n",
    "    def decode_value(self, value, meta):\n",
    "        value = super().decode_value(value)\n",
    "        assert meta == value\n",
    "        return value\n",
    "    \n",
    "class CustomArray(pk.Array):\n",
    "    \n",
    "    def get_metadata(self, value):\n",
    "        return value\n",
    "    \n",
    "    def decode_value(self, value, meta):\n",
    "        value = super().decode_value(value)\n",
    "        assert meta == value\n",
    "        return value"
   ]
  },
  {
   "cell_type": "code",
   "execution_count": null,
   "id": "c146f82e",
   "metadata": {},
   "outputs": [],
   "source": [
    "class Test():\n",
    "    \n",
    "    def random_operation(self):\n",
    "        if len(self._obj1) > 1e6:\n",
    "            self._obj1.clear()\n",
    "            self._obj2.clear()\n",
    "        random.choice(self._ops)()\n",
    "        \n",
    "    def random_value(self):\n",
    "        return random.randint(0, 1e6)\n",
    "    \n",
    "    def compare(self):\n",
    "        assert len(self._obj1) == len(self._obj2)"
   ]
  },
  {
   "cell_type": "code",
   "execution_count": null,
   "id": "73c5b807",
   "metadata": {},
   "outputs": [],
   "source": [
    "class MutableSequenceTest(Test):\n",
    "    \n",
    "    def __init__(self, obj):\n",
    "        self._limit = 1e2\n",
    "        self._obj1 = []\n",
    "        self._obj2 = obj\n",
    "        self._ops = [\n",
    "            self.set, self.extend,\n",
    "            self.append, self.get, self.contains,\n",
    "            self.maybe_contains, self.count, self.len,\n",
    "            self.index, self.iterate\n",
    "        ]\n",
    "            \n",
    "    def compare(self):\n",
    "        super().compare()\n",
    "        for i, _ in enumerate(self._obj1):\n",
    "            assert self._obj2[i] == self._obj1[i]\n",
    "        print(len(self._obj1), len(self._obj2))\n",
    "        \n",
    "    def get(self):\n",
    "        if len(self._obj1):\n",
    "            i = random.randrange(0, len(self._obj1))\n",
    "            assert self._obj1[i] == self._obj2[i]\n",
    "            \n",
    "    def maybe_contains(self):\n",
    "        value = self.random_value()\n",
    "        assert (value in self._obj1) == (value in self._obj2)\n",
    "        \n",
    "    def iterate(self):\n",
    "        if len(self._obj1):\n",
    "            a = random.randrange(-len(self._obj1), len(self._obj1))\n",
    "            b = random.randrange(-len(self._obj1), len(self._obj1))\n",
    "            s1 = self._obj1[a:b]\n",
    "            s2 = list(self._obj2[a:b])\n",
    "            assert len(s1) == len(s2)\n",
    "            for i in range(len(s1)):\n",
    "                assert s1[i] == s2[i]\n",
    "            \n",
    "    def contains(self):\n",
    "        if len(self._obj1):\n",
    "            value = random.choice(self._obj1)\n",
    "            assert value in self._obj2\n",
    "    \n",
    "    def index(self):\n",
    "        if len(self._obj1):\n",
    "            value = random.choice(self._obj1)\n",
    "            assert self._obj1.index(value) == self._obj2.index(value)\n",
    "        \n",
    "    def count(self):\n",
    "        if len(self._obj1):\n",
    "            value = random.choice(self._obj1)\n",
    "            assert self._obj1.count(value) == self._obj2.count(value)\n",
    "        \n",
    "    def len(self):\n",
    "        assert len(self._obj1) == len(self._obj2)\n",
    "        \n",
    "    def append(self):\n",
    "        value = self.random_value()\n",
    "        self._obj1.append(value)\n",
    "        self._obj2.append(value)\n",
    "        \n",
    "    def extend(self):\n",
    "        values = [self.random_value() for _ in range(random.randint(0, self._limit))]\n",
    "        self._obj1.extend(values)\n",
    "        self._obj2.extend(values)\n",
    "        \n",
    "    def set(self):\n",
    "        if len(self._obj1):\n",
    "            i = random.randrange(0, len(self._obj1))\n",
    "            value = self.random_value()\n",
    "            self._obj1[i] = value\n",
    "            self._obj2[i] = value\n",
    "    \n",
    "    def clear(self):\n",
    "        self._obj1.clear()\n",
    "        self._obj2.clear()"
   ]
  },
  {
   "cell_type": "code",
   "execution_count": null,
   "id": "ebeb3dbf",
   "metadata": {},
   "outputs": [],
   "source": [
    "#a = pk.Array()\n",
    "a = CustomArray()\n",
    "test = MutableSequenceTest(a)"
   ]
  },
  {
   "cell_type": "code",
   "execution_count": null,
   "id": "fa2c0ac3",
   "metadata": {},
   "outputs": [],
   "source": [
    "for i in range(100):\n",
    "    test.random_operation()"
   ]
  },
  {
   "cell_type": "code",
   "execution_count": null,
   "id": "ede3bafe",
   "metadata": {},
   "outputs": [],
   "source": [
    "test.compare()"
   ]
  },
  {
   "cell_type": "code",
   "execution_count": null,
   "id": "7c9b780a",
   "metadata": {},
   "outputs": [],
   "source": [
    "class MutableMappingTest(Test):\n",
    "    \n",
    "    def __init__(self, obj):\n",
    "        self._limit = 1e2\n",
    "        self._obj1 = dict()\n",
    "        self._obj2 = obj\n",
    "        self._ops = [\n",
    "            self.set, self.get, \n",
    "            self.pop\n",
    "        ]\n",
    "        \n",
    "    def compare(self):\n",
    "        super().compare()\n",
    "        for key in self._obj1.keys():\n",
    "            assert self._obj1[key] == self._obj2[key]\n",
    "        print(len(self._obj1), len(self._obj2))\n",
    "                \n",
    "    def pop(self):\n",
    "        if len(self._obj1):\n",
    "            key = random.choice(list(self._obj1.keys()))\n",
    "            assert self._obj1.pop(key) == self._obj2.pop(key)\n",
    "            \n",
    "    def get(self):\n",
    "        if len(self._obj1):\n",
    "            key = random.choice(list(self._obj1.keys()))\n",
    "            assert self._obj1[key] == self._obj2[key]\n",
    "        \n",
    "    def set(self):\n",
    "        key = self.random_value()\n",
    "        value = self.random_value()\n",
    "        self._obj1[key] = value\n",
    "        self._obj2[key] = value\n",
    "    \n",
    "    def clear(self):\n",
    "        self._obj1.clear()\n",
    "        self._obj2.clear()"
   ]
  },
  {
   "cell_type": "code",
   "execution_count": null,
   "id": "32b2f272",
   "metadata": {},
   "outputs": [],
   "source": [
    "#a = pk.Dict()\n",
    "a = CustomDict()\n",
    "test = MutableMappingTest(a)"
   ]
  },
  {
   "cell_type": "code",
   "execution_count": null,
   "id": "81a6688a",
   "metadata": {},
   "outputs": [],
   "source": [
    "for i in range(1000):\n",
    "    test.random_operation()"
   ]
  },
  {
   "cell_type": "code",
   "execution_count": null,
   "id": "1843c144",
   "metadata": {},
   "outputs": [],
   "source": [
    "test.compare()"
   ]
  },
  {
   "cell_type": "code",
   "execution_count": null,
   "id": "0cbd76c5",
   "metadata": {},
   "outputs": [],
   "source": [
    "class MutableQueueTest():\n",
    "    pass"
   ]
  }
 ],
 "metadata": {
  "kernelspec": {
   "display_name": "Python 3",
   "language": "python",
   "name": "python3"
  },
  "language_info": {
   "codemirror_mode": {
    "name": "ipython",
    "version": 3
   },
   "file_extension": ".py",
   "mimetype": "text/x-python",
   "name": "python",
   "nbconvert_exporter": "python",
   "pygments_lexer": "ipython3",
   "version": "3.8.3"
  }
 },
 "nbformat": 4,
 "nbformat_minor": 5
}
