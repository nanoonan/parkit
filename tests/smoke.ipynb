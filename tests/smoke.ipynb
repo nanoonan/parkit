{
 "cells": [
  {
   "cell_type": "code",
   "execution_count": 1,
   "id": "3e97a3ab",
   "metadata": {},
   "outputs": [],
   "source": [
    "%reload_ext autoreload\n",
    "%autoreload 2"
   ]
  },
  {
   "cell_type": "code",
   "execution_count": 2,
   "id": "fa09bbec",
   "metadata": {},
   "outputs": [],
   "source": [
    "import os\n",
    "import sys\n",
    "os.environ['PARKIT_STORAGE_PATH'] = 'C:\\\\Users\\\\rdpuser\\\\Desktop\\\\test'\n",
    "os.environ['PYTHONPATH'] = os.environ['PYTHONPATH'] + 'C:\\\\Users\\\\rdpuser\\\\Documents\\\\Github\\\\parkit;'\n",
    "sys.path.append('C:\\\\Users\\\\rdpuser\\\\Documents\\\\Github\\\\parkit')"
   ]
  },
  {
   "cell_type": "code",
   "execution_count": 3,
   "id": "3c82d75e",
   "metadata": {},
   "outputs": [],
   "source": [
    "import random\n",
    "\n",
    "import parkit as pk\n",
    "\n",
    "pk.import_site('C:\\\\Users\\\\rdpuser\\\\Desktop\\\\test')"
   ]
  },
  {
   "cell_type": "code",
   "execution_count": null,
   "id": "cde802d8",
   "metadata": {},
   "outputs": [],
   "source": [
    "class CustomDict(pk.Dict):\n",
    "    \n",
    "    def get_metadata(self, value):\n",
    "        return value\n",
    "    \n",
    "    def decode_value(self, value, meta):\n",
    "        value = super().decode_value(value)\n",
    "        assert meta == value\n",
    "        return value\n",
    "    \n",
    "class CustomArray(pk.Array):\n",
    "    \n",
    "    def get_metadata(self, value):\n",
    "        return value\n",
    "    \n",
    "    def decode_value(self, value, meta):\n",
    "        value = super().decode_value(value)\n",
    "        assert meta == value\n",
    "        return value"
   ]
  },
  {
   "cell_type": "code",
   "execution_count": null,
   "id": "2a8ec205",
   "metadata": {},
   "outputs": [],
   "source": [
    "class Test():\n",
    "    \n",
    "    def random_operation(self):\n",
    "        if len(self._obj1) > 1e6:\n",
    "            self._obj1.clear()\n",
    "            self._obj2.clear()\n",
    "        random.choice(self._ops)()\n",
    "        \n",
    "    def random_value(self):\n",
    "        return random.randint(0, 1e6)\n",
    "    \n",
    "    def compare(self):\n",
    "        assert len(self._obj1) == len(self._obj2)"
   ]
  },
  {
   "cell_type": "code",
   "execution_count": null,
   "id": "366a7ed2",
   "metadata": {},
   "outputs": [],
   "source": [
    "class MutableSequenceTest(Test):\n",
    "    \n",
    "    def __init__(self, obj):\n",
    "        self._limit = 1e2\n",
    "        self._obj1 = []\n",
    "        self._obj2 = obj\n",
    "        self._ops = [\n",
    "            self.set, self.extend,\n",
    "            self.append, self.get, self.contains,\n",
    "            self.maybe_contains, self.count, self.len,\n",
    "            self.index, self.iterate\n",
    "        ]\n",
    "            \n",
    "    def compare(self):\n",
    "        super().compare()\n",
    "        for i, _ in enumerate(self._obj1):\n",
    "            assert self._obj2[i] == self._obj1[i]\n",
    "        print(len(self._obj1), len(self._obj2))\n",
    "        \n",
    "    def get(self):\n",
    "        if len(self._obj1):\n",
    "            i = random.randrange(0, len(self._obj1))\n",
    "            assert self._obj1[i] == self._obj2[i]\n",
    "            \n",
    "    def maybe_contains(self):\n",
    "        value = self.random_value()\n",
    "        assert (value in self._obj1) == (value in self._obj2)\n",
    "        \n",
    "    def iterate(self):\n",
    "        if len(self._obj1):\n",
    "            a = random.randrange(-len(self._obj1), len(self._obj1))\n",
    "            b = random.randrange(-len(self._obj1), len(self._obj1))\n",
    "            s1 = self._obj1[a:b]\n",
    "            s2 = list(self._obj2[a:b])\n",
    "            assert len(s1) == len(s2)\n",
    "            for i in range(len(s1)):\n",
    "                assert s1[i] == s2[i]\n",
    "            \n",
    "    def contains(self):\n",
    "        if len(self._obj1):\n",
    "            value = random.choice(self._obj1)\n",
    "            assert value in self._obj2\n",
    "    \n",
    "    def index(self):\n",
    "        if len(self._obj1):\n",
    "            value = random.choice(self._obj1)\n",
    "            assert self._obj1.index(value) == self._obj2.index(value)\n",
    "        \n",
    "    def count(self):\n",
    "        if len(self._obj1):\n",
    "            value = random.choice(self._obj1)\n",
    "            assert self._obj1.count(value) == self._obj2.count(value)\n",
    "        \n",
    "    def len(self):\n",
    "        assert len(self._obj1) == len(self._obj2)\n",
    "        \n",
    "    def append(self):\n",
    "        value = self.random_value()\n",
    "        self._obj1.append(value)\n",
    "        self._obj2.append(value)\n",
    "        \n",
    "    def extend(self):\n",
    "        values = [self.random_value() for _ in range(random.randint(0, self._limit))]\n",
    "        self._obj1.extend(values)\n",
    "        self._obj2.extend(values)\n",
    "        \n",
    "    def set(self):\n",
    "        if len(self._obj1):\n",
    "            i = random.randrange(0, len(self._obj1))\n",
    "            value = self.random_value()\n",
    "            self._obj1[i] = value\n",
    "            self._obj2[i] = value\n",
    "    \n",
    "    def clear(self):\n",
    "        self._obj1.clear()\n",
    "        self._obj2.clear()"
   ]
  },
  {
   "cell_type": "code",
   "execution_count": null,
   "id": "b2148296",
   "metadata": {},
   "outputs": [],
   "source": [
    "#a = pk.Array()\n",
    "a = CustomArray()\n",
    "test = MutableSequenceTest(a)"
   ]
  },
  {
   "cell_type": "code",
   "execution_count": null,
   "id": "5c0002fc",
   "metadata": {},
   "outputs": [],
   "source": [
    "for i in range(100):\n",
    "    test.random_operation()"
   ]
  },
  {
   "cell_type": "code",
   "execution_count": null,
   "id": "a0ad9cd8",
   "metadata": {},
   "outputs": [],
   "source": [
    "test.compare()"
   ]
  },
  {
   "cell_type": "code",
   "execution_count": null,
   "id": "9835b93a",
   "metadata": {},
   "outputs": [],
   "source": [
    "class MutableMappingTest(Test):\n",
    "    \n",
    "    def __init__(self, obj):\n",
    "        self._limit = 1e2\n",
    "        self._obj1 = dict()\n",
    "        self._obj2 = obj\n",
    "        self._ops = [\n",
    "            self.set, self.get, \n",
    "            self.pop\n",
    "        ]\n",
    "        \n",
    "    def compare(self):\n",
    "        super().compare()\n",
    "        for key in self._obj1.keys():\n",
    "            assert self._obj1[key] == self._obj2[key]\n",
    "        print(len(self._obj1), len(self._obj2))\n",
    "                \n",
    "    def pop(self):\n",
    "        if len(self._obj1):\n",
    "            key = random.choice(list(self._obj1.keys()))\n",
    "            assert self._obj1.pop(key) == self._obj2.pop(key)\n",
    "            \n",
    "    def get(self):\n",
    "        if len(self._obj1):\n",
    "            key = random.choice(list(self._obj1.keys()))\n",
    "            assert self._obj1[key] == self._obj2[key]\n",
    "        \n",
    "    def set(self):\n",
    "        key = self.random_value()\n",
    "        value = self.random_value()\n",
    "        self._obj1[key] = value\n",
    "        self._obj2[key] = value\n",
    "    \n",
    "    def clear(self):\n",
    "        self._obj1.clear()\n",
    "        self._obj2.clear()"
   ]
  },
  {
   "cell_type": "code",
   "execution_count": null,
   "id": "687b117c",
   "metadata": {},
   "outputs": [],
   "source": [
    "#a = pk.Dict()\n",
    "a = CustomDict()\n",
    "test = MutableMappingTest(a)"
   ]
  },
  {
   "cell_type": "code",
   "execution_count": null,
   "id": "c6361713",
   "metadata": {},
   "outputs": [],
   "source": [
    "for i in range(1000):\n",
    "    test.random_operation()"
   ]
  },
  {
   "cell_type": "code",
   "execution_count": null,
   "id": "026d9044",
   "metadata": {},
   "outputs": [],
   "source": [
    "test.compare()"
   ]
  },
  {
   "cell_type": "code",
   "execution_count": null,
   "id": "5dae1af6",
   "metadata": {},
   "outputs": [],
   "source": [
    "class MutableQueueTest():\n",
    "    pass"
   ]
  }
 ],
 "metadata": {
  "kernelspec": {
   "display_name": "Python 3",
   "language": "python",
   "name": "python3"
  },
  "language_info": {
   "codemirror_mode": {
    "name": "ipython",
    "version": 3
   },
   "file_extension": ".py",
   "mimetype": "text/x-python",
   "name": "python",
   "nbconvert_exporter": "python",
   "pygments_lexer": "ipython3",
   "version": "3.8.3"
  }
 },
 "nbformat": 4,
 "nbformat_minor": 5
}
