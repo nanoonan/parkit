{
 "cells": [
  {
   "cell_type": "code",
   "execution_count": 1,
   "id": "dc801b51",
   "metadata": {},
   "outputs": [],
   "source": [
    "%reload_ext autoreload\n",
    "%autoreload 2"
   ]
  },
  {
   "cell_type": "code",
   "execution_count": 2,
   "id": "69b79c45",
   "metadata": {},
   "outputs": [],
   "source": [
    "import os\n",
    "import sys\n",
    "os.environ['PYTHONPATH'] = os.environ['PYTHONPATH'] + 'C:\\\\Users\\\\rdpuser\\\\Documents\\\\Github\\\\parkit;'\n",
    "sys.path.append('C:\\\\Users\\\\rdpuser\\\\Documents\\\\Github\\\\parkit')"
   ]
  },
  {
   "cell_type": "code",
   "execution_count": 3,
   "id": "4459f2be",
   "metadata": {},
   "outputs": [],
   "source": [
    "import parkit as pk\n",
    "\n",
    "pk.import_site('C:\\\\Users\\\\rdpuser\\\\Desktop\\\\test')"
   ]
  },
  {
   "cell_type": "code",
   "execution_count": 4,
   "id": "47d04cce",
   "metadata": {},
   "outputs": [],
   "source": [
    "# Smoke Tests"
   ]
  },
  {
   "cell_type": "code",
   "execution_count": 5,
   "id": "b2d193e4",
   "metadata": {},
   "outputs": [],
   "source": [
    "smoke_tests = pk.bind_task('smoke_tests')"
   ]
  },
  {
   "cell_type": "code",
   "execution_count": 6,
   "id": "df8b78f7",
   "metadata": {},
   "outputs": [],
   "source": [
    "pk.pool().start()"
   ]
  },
  {
   "cell_type": "code",
   "execution_count": null,
   "id": "a7f70727",
   "metadata": {},
   "outputs": [],
   "source": [
    "trace = smoke_tests(1000)\n",
    "pk.wait(trace, lambda: trace.done)\n",
    "print(trace)"
   ]
  },
  {
   "cell_type": "code",
   "execution_count": null,
   "id": "bead7248",
   "metadata": {},
   "outputs": [],
   "source": [
    "pk.pool().stop()"
   ]
  },
  {
   "cell_type": "code",
   "execution_count": null,
   "id": "7bbdc732",
   "metadata": {},
   "outputs": [],
   "source": [
    "# File Tests"
   ]
  },
  {
   "cell_type": "code",
   "execution_count": null,
   "id": "238b52b2",
   "metadata": {},
   "outputs": [],
   "source": [
    "import numpy as np\n",
    "import pandas as pd"
   ]
  },
  {
   "cell_type": "code",
   "execution_count": null,
   "id": "feb41c48",
   "metadata": {},
   "outputs": [],
   "source": [
    "rows = []\n",
    "for i in range(10000):\n",
    "    rows.append(dict(a = i, b = i))\n",
    "df = pd.DataFrame(rows)"
   ]
  },
  {
   "cell_type": "code",
   "execution_count": null,
   "id": "989f63c1",
   "metadata": {},
   "outputs": [],
   "source": [
    "f = pk.File(mode = 'wb')"
   ]
  },
  {
   "cell_type": "code",
   "execution_count": null,
   "id": "00c773e7",
   "metadata": {},
   "outputs": [],
   "source": [
    "with f:\n",
    "    df.to_feather(f)"
   ]
  },
  {
   "cell_type": "code",
   "execution_count": null,
   "id": "e4e2dabf",
   "metadata": {},
   "outputs": [],
   "source": [
    "f.mode = 'rb'\n",
    "with f:\n",
    "    assert df.equals(pd.read_feather(f))"
   ]
  },
  {
   "cell_type": "code",
   "execution_count": null,
   "id": "45c0881f",
   "metadata": {},
   "outputs": [],
   "source": [
    "a = np.zeros((100,100))"
   ]
  },
  {
   "cell_type": "code",
   "execution_count": null,
   "id": "5d4d3bc1",
   "metadata": {},
   "outputs": [],
   "source": [
    "f = pk.File(mode = 'wb+')\n",
    "with f:\n",
    "    np.save(f, a)"
   ]
  },
  {
   "cell_type": "code",
   "execution_count": null,
   "id": "a879819d",
   "metadata": {},
   "outputs": [],
   "source": [
    "f.mode = 'rb+'\n",
    "with f:\n",
    "    assert np.array_equal(a, np.load(f))"
   ]
  },
  {
   "cell_type": "code",
   "execution_count": null,
   "id": "935b9cb8",
   "metadata": {},
   "outputs": [],
   "source": []
  }
 ],
 "metadata": {
  "kernelspec": {
   "display_name": "Python 3",
   "language": "python",
   "name": "python3"
  },
  "language_info": {
   "codemirror_mode": {
    "name": "ipython",
    "version": 3
   },
   "file_extension": ".py",
   "mimetype": "text/x-python",
   "name": "python",
   "nbconvert_exporter": "python",
   "pygments_lexer": "ipython3",
   "version": "3.8.3"
  }
 },
 "nbformat": 4,
 "nbformat_minor": 5
}
