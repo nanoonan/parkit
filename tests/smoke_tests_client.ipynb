{
 "cells": [
  {
   "cell_type": "code",
   "execution_count": null,
   "id": "f88fd3ae",
   "metadata": {},
   "outputs": [],
   "source": [
    "%reload_ext autoreload\n",
    "%autoreload 2"
   ]
  },
  {
   "cell_type": "code",
   "execution_count": null,
   "id": "ef82a3ad",
   "metadata": {},
   "outputs": [],
   "source": [
    "import os\n",
    "import sys\n",
    "os.environ['PYTHONPATH'] = os.environ['PYTHONPATH'] + 'C:\\\\Users\\\\rdpuser\\\\Documents\\\\Github\\\\parkit;'\n",
    "sys.path.append('C:\\\\Users\\\\rdpuser\\\\Documents\\\\Github\\\\parkit')"
   ]
  },
  {
   "cell_type": "code",
   "execution_count": null,
   "id": "dd920aad",
   "metadata": {},
   "outputs": [],
   "source": [
    "import parkit as pk\n",
    "\n",
    "pk.import_site('C:\\\\Users\\\\rdpuser\\\\Desktop\\\\test')"
   ]
  },
  {
   "cell_type": "code",
   "execution_count": null,
   "id": "05c15e89",
   "metadata": {},
   "outputs": [],
   "source": [
    "# Smoke Tests"
   ]
  },
  {
   "cell_type": "code",
   "execution_count": null,
   "id": "0ac3de77",
   "metadata": {},
   "outputs": [],
   "source": [
    "collection_tests = pk.bind_task('collection_tests')"
   ]
  },
  {
   "cell_type": "code",
   "execution_count": null,
   "id": "bfb9a8fa",
   "metadata": {},
   "outputs": [],
   "source": [
    "collection_tests(1000, sync = True)"
   ]
  },
  {
   "cell_type": "code",
   "execution_count": null,
   "id": "d2d8b62d",
   "metadata": {},
   "outputs": [],
   "source": [
    "pk.enable_tasks()"
   ]
  },
  {
   "cell_type": "code",
   "execution_count": null,
   "id": "96f55ff7",
   "metadata": {},
   "outputs": [],
   "source": [
    "collection_tests(1000)"
   ]
  },
  {
   "cell_type": "code",
   "execution_count": null,
   "id": "bc60c23d",
   "metadata": {},
   "outputs": [],
   "source": [
    "executions = []\n",
    "for i in range(16):\n",
    "    executions.append(collection_tests(1000))"
   ]
  },
  {
   "cell_type": "code",
   "execution_count": null,
   "id": "e08214f0",
   "metadata": {},
   "outputs": [],
   "source": [
    "pk.wait(lambda: all(e.done for e in executions))\n",
    "assert all(e.result for e in executions)"
   ]
  },
  {
   "cell_type": "code",
   "execution_count": null,
   "id": "5c6a65cc",
   "metadata": {},
   "outputs": [],
   "source": [
    "pk.disable_tasks()"
   ]
  },
  {
   "cell_type": "code",
   "execution_count": null,
   "id": "5ebea052",
   "metadata": {},
   "outputs": [],
   "source": [
    "# File Tests"
   ]
  },
  {
   "cell_type": "code",
   "execution_count": null,
   "id": "7f9c04b7",
   "metadata": {},
   "outputs": [],
   "source": [
    "import numpy as np\n",
    "import pandas as pd"
   ]
  },
  {
   "cell_type": "code",
   "execution_count": null,
   "id": "fe6ef52f",
   "metadata": {},
   "outputs": [],
   "source": [
    "rows = []\n",
    "for i in range(1000000):\n",
    "    rows.append(dict(a = i, b = i))\n",
    "df = pd.DataFrame(rows)"
   ]
  },
  {
   "cell_type": "code",
   "execution_count": null,
   "id": "06c316c3",
   "metadata": {},
   "outputs": [],
   "source": [
    "f = pk.File(mode = 'wb')"
   ]
  },
  {
   "cell_type": "code",
   "execution_count": null,
   "id": "9d4ad23c",
   "metadata": {},
   "outputs": [],
   "source": [
    "with f:\n",
    "    df.to_feather(f)"
   ]
  },
  {
   "cell_type": "code",
   "execution_count": null,
   "id": "cf874801",
   "metadata": {},
   "outputs": [],
   "source": [
    "f.mode = 'rb'\n",
    "with f:\n",
    "    assert df.equals(pd.read_feather(f))"
   ]
  },
  {
   "cell_type": "code",
   "execution_count": null,
   "id": "437fd581",
   "metadata": {},
   "outputs": [],
   "source": [
    "a = np.zeros((100,100))"
   ]
  },
  {
   "cell_type": "code",
   "execution_count": null,
   "id": "bb0cf11e",
   "metadata": {},
   "outputs": [],
   "source": [
    "f = pk.File(mode = 'wb+')\n",
    "with f:\n",
    "    np.save(f, a)"
   ]
  },
  {
   "cell_type": "code",
   "execution_count": null,
   "id": "27f0235b",
   "metadata": {},
   "outputs": [],
   "source": [
    "f.mode = 'rb+'\n",
    "with f:\n",
    "    assert np.array_equal(a, np.load(f))"
   ]
  },
  {
   "cell_type": "code",
   "execution_count": null,
   "id": "4afa1504",
   "metadata": {},
   "outputs": [],
   "source": [
    "pk.gc()"
   ]
  }
 ],
 "metadata": {
  "kernelspec": {
   "display_name": "Python 3",
   "language": "python",
   "name": "python3"
  },
  "language_info": {
   "codemirror_mode": {
    "name": "ipython",
    "version": 3
   },
   "file_extension": ".py",
   "mimetype": "text/x-python",
   "name": "python",
   "nbconvert_exporter": "python",
   "pygments_lexer": "ipython3",
   "version": "3.8.3"
  }
 },
 "nbformat": 4,
 "nbformat_minor": 5
}
