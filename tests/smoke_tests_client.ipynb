{
 "cells": [
  {
   "cell_type": "code",
   "execution_count": 4,
   "id": "f88fd3ae",
   "metadata": {},
   "outputs": [],
   "source": [
    "%reload_ext autoreload\n",
    "%autoreload 2"
   ]
  },
  {
   "cell_type": "code",
   "execution_count": 5,
   "id": "ef82a3ad",
   "metadata": {},
   "outputs": [],
   "source": [
    "import os\n",
    "import sys\n",
    "os.environ['PYTHONPATH'] = os.environ['PYTHONPATH'] + 'C:\\\\Users\\\\rdpuser\\\\Documents\\\\Github\\\\parkit;'\n",
    "sys.path.append('C:\\\\Users\\\\rdpuser\\\\Documents\\\\Github\\\\parkit')"
   ]
  },
  {
   "cell_type": "code",
   "execution_count": 6,
   "id": "953bf649",
   "metadata": {},
   "outputs": [],
   "source": [
    "import logging\n",
    "import parkit.api as pk\n",
    "logger = logging.getLogger(__name__)"
   ]
  },
  {
   "cell_type": "code",
   "execution_count": 7,
   "id": "56c83e9f",
   "metadata": {},
   "outputs": [],
   "source": [
    "pk.set_default_site('C:\\\\Users\\\\rdpuser\\\\Desktop\\\\test', create = True)"
   ]
  },
  {
   "cell_type": "code",
   "execution_count": 8,
   "id": "05c15e89",
   "metadata": {},
   "outputs": [],
   "source": [
    "# Collection Tests"
   ]
  },
  {
   "cell_type": "code",
   "execution_count": 9,
   "id": "b8827564",
   "metadata": {},
   "outputs": [
    {
     "data": {
      "text/plain": [
       "('C:\\\\Users\\\\rdpuser\\\\Desktop\\\\test', '3da7cdfc-aca9-468b-a8c6-e1bc2b1c92d1')"
      ]
     },
     "execution_count": 9,
     "metadata": {},
     "output_type": "execute_result"
    }
   ],
   "source": [
    "pk.get_default_site()"
   ]
  },
  {
   "cell_type": "code",
   "execution_count": 10,
   "id": "aebdf367",
   "metadata": {},
   "outputs": [
    {
     "data": {
      "text/plain": [
       "['collection_tests']"
      ]
     },
     "execution_count": 10,
     "metadata": {},
     "output_type": "execute_result"
    }
   ],
   "source": [
    "pk.bind_symbols('module')"
   ]
  },
  {
   "cell_type": "code",
   "execution_count": 12,
   "id": "bb46f3bb",
   "metadata": {},
   "outputs": [
    {
     "data": {
      "text/plain": [
       "True"
      ]
     },
     "execution_count": 12,
     "metadata": {},
     "output_type": "execute_result"
    }
   ],
   "source": [
    "collection_tests(1000, sync = True)"
   ]
  },
  {
   "cell_type": "code",
   "execution_count": 13,
   "id": "d2d8b62d",
   "metadata": {},
   "outputs": [],
   "source": [
    "pk.disable_tasks()\n",
    "pk.compactify()\n",
    "assert len([e for e in pk.task_executions()]) == 0"
   ]
  },
  {
   "cell_type": "code",
   "execution_count": 14,
   "id": "bdb2612f",
   "metadata": {},
   "outputs": [
    {
     "data": {
      "text/plain": [
       "[]"
      ]
     },
     "execution_count": 14,
     "metadata": {},
     "output_type": "execute_result"
    }
   ],
   "source": [
    "list(pk.task_executions())"
   ]
  },
  {
   "cell_type": "code",
   "execution_count": 15,
   "id": "82536790",
   "metadata": {},
   "outputs": [],
   "source": [
    "pk.enable_tasks()"
   ]
  },
  {
   "cell_type": "code",
   "execution_count": 16,
   "id": "0a9b5476",
   "metadata": {},
   "outputs": [],
   "source": [
    "pk.set_concurrency(4)"
   ]
  },
  {
   "cell_type": "code",
   "execution_count": 17,
   "id": "bc60c23d",
   "metadata": {},
   "outputs": [],
   "source": [
    "import random\n",
    "\n",
    "executions = []\n",
    "for i in range(16):\n",
    "    executions.append(collection_tests(1000))\n",
    "while True:\n",
    "    assert len(executions) == 16\n",
    "    if all(e.status in ['crashed', 'failed', 'finished'] for e in executions):\n",
    "        break\n",
    "    choice = random.choice([1, 2])\n",
    "    if choice == 1:\n",
    "        pk.set_concurrency(random.randint(1, 10))\n",
    "    elif choice == 2:\n",
    "        pk.enable_tasks()\n",
    "assert all(e.result for e in executions)\n",
    "assert all(e.status == 'finished' for e in executions)\n",
    "assert all(e.error is None for e in executions)"
   ]
  },
  {
   "cell_type": "code",
   "execution_count": 18,
   "id": "9df66fe6",
   "metadata": {},
   "outputs": [
    {
     "data": {
      "text/plain": [
       "['finished',\n",
       " 'finished',\n",
       " 'finished',\n",
       " 'finished',\n",
       " 'finished',\n",
       " 'finished',\n",
       " 'finished',\n",
       " 'finished',\n",
       " 'finished',\n",
       " 'finished',\n",
       " 'finished',\n",
       " 'finished',\n",
       " 'finished',\n",
       " 'finished',\n",
       " 'finished',\n",
       " 'finished']"
      ]
     },
     "execution_count": 18,
     "metadata": {},
     "output_type": "execute_result"
    }
   ],
   "source": [
    "[e.status for e in executions]"
   ]
  },
  {
   "cell_type": "code",
   "execution_count": 19,
   "id": "f93a1e7a",
   "metadata": {},
   "outputs": [
    {
     "data": {
      "text/plain": [
       "10"
      ]
     },
     "execution_count": 19,
     "metadata": {},
     "output_type": "execute_result"
    }
   ],
   "source": [
    "pk.get_concurrency()"
   ]
  },
  {
   "cell_type": "code",
   "execution_count": 20,
   "id": "5c6a65cc",
   "metadata": {},
   "outputs": [],
   "source": [
    "pk.disable_tasks()"
   ]
  },
  {
   "cell_type": "code",
   "execution_count": 21,
   "id": "74735db1",
   "metadata": {},
   "outputs": [
    {
     "data": {
      "text/plain": [
       "['finished',\n",
       " 'finished',\n",
       " 'finished',\n",
       " 'finished',\n",
       " 'finished',\n",
       " 'finished',\n",
       " 'finished',\n",
       " 'finished',\n",
       " 'finished',\n",
       " 'finished',\n",
       " 'finished',\n",
       " 'finished',\n",
       " 'finished',\n",
       " 'finished',\n",
       " 'finished',\n",
       " 'finished']"
      ]
     },
     "execution_count": 21,
     "metadata": {},
     "output_type": "execute_result"
    }
   ],
   "source": [
    "[e.status for e in pk.task_executions()]"
   ]
  },
  {
   "cell_type": "code",
   "execution_count": 58,
   "id": "78128e3d",
   "metadata": {},
   "outputs": [],
   "source": [
    "# Scheduler Tests"
   ]
  },
  {
   "cell_type": "code",
   "execution_count": 52,
   "id": "bcd59251",
   "metadata": {},
   "outputs": [],
   "source": [
    "@pk.task\n",
    "def foo():\n",
    "    logger.info('foo')"
   ]
  },
  {
   "cell_type": "code",
   "execution_count": 56,
   "id": "7fc4f14e",
   "metadata": {},
   "outputs": [],
   "source": [
    "pk.enable_tasks()"
   ]
  },
  {
   "cell_type": "code",
   "execution_count": 55,
   "id": "e35786f1",
   "metadata": {},
   "outputs": [
    {
     "data": {
      "text/plain": [
       "<parkit.adapters.scheduler.Periodic at 0x1fced29e860>"
      ]
     },
     "execution_count": 55,
     "metadata": {},
     "output_type": "execute_result"
    }
   ],
   "source": [
    "pk.schedule(foo, frequency = pk.Frequency.Second, period = 1, max_times = 10, start = 'now')"
   ]
  },
  {
   "cell_type": "code",
   "execution_count": 57,
   "id": "e4eec84f",
   "metadata": {},
   "outputs": [
    {
     "data": {
      "text/plain": [
       "[None]"
      ]
     },
     "execution_count": 57,
     "metadata": {},
     "output_type": "execute_result"
    }
   ],
   "source": [
    "[s.cancel() for s in pk.schedulers()]"
   ]
  },
  {
   "cell_type": "code",
   "execution_count": 59,
   "id": "47951437",
   "metadata": {},
   "outputs": [],
   "source": [
    "pk.compactify()"
   ]
  },
  {
   "cell_type": "code",
   "execution_count": null,
   "id": "5ebea052",
   "metadata": {},
   "outputs": [],
   "source": [
    "# File Tests"
   ]
  },
  {
   "cell_type": "code",
   "execution_count": 23,
   "id": "a8fdfd88",
   "metadata": {},
   "outputs": [],
   "source": [
    "f = pk.File()"
   ]
  },
  {
   "cell_type": "code",
   "execution_count": 24,
   "id": "7ff865e7",
   "metadata": {},
   "outputs": [],
   "source": [
    "f.set_content('hello')"
   ]
  },
  {
   "cell_type": "code",
   "execution_count": 25,
   "id": "3dc7ec28",
   "metadata": {},
   "outputs": [],
   "source": [
    "assert len(f.get_content()) == 5"
   ]
  },
  {
   "cell_type": "code",
   "execution_count": 26,
   "id": "d2533233",
   "metadata": {},
   "outputs": [],
   "source": [
    "assert f.get_content() == 'hello'"
   ]
  },
  {
   "cell_type": "code",
   "execution_count": 27,
   "id": "8185856b",
   "metadata": {},
   "outputs": [],
   "source": [
    "assert f.encoding == 'utf-8'"
   ]
  },
  {
   "cell_type": "code",
   "execution_count": 28,
   "id": "11789ac7",
   "metadata": {},
   "outputs": [],
   "source": [
    "assert f.metadata['content-type'] == 'text/plain'"
   ]
  },
  {
   "cell_type": "code",
   "execution_count": 29,
   "id": "a511c6a9",
   "metadata": {},
   "outputs": [],
   "source": [
    "f.set_content(b'hello')"
   ]
  },
  {
   "cell_type": "code",
   "execution_count": 30,
   "id": "1b83b91a",
   "metadata": {},
   "outputs": [],
   "source": [
    "assert f.get_content() == b'hello'"
   ]
  },
  {
   "cell_type": "code",
   "execution_count": 31,
   "id": "fdecbf04",
   "metadata": {},
   "outputs": [],
   "source": [
    "assert isinstance(f.get_content(), bytearray)"
   ]
  },
  {
   "cell_type": "code",
   "execution_count": 32,
   "id": "f700b4ef",
   "metadata": {},
   "outputs": [],
   "source": [
    "with pk.snapshot(f):\n",
    "    assert isinstance(f.get_content(zero_copy = True), memoryview)"
   ]
  },
  {
   "cell_type": "code",
   "execution_count": 33,
   "id": "6b1eb586",
   "metadata": {},
   "outputs": [],
   "source": [
    "assert f.metadata['content-type'] == 'application/octet-stream'"
   ]
  },
  {
   "cell_type": "code",
   "execution_count": 34,
   "id": "102d44ef",
   "metadata": {},
   "outputs": [],
   "source": [
    "f.set_content([1, 2, 3])"
   ]
  },
  {
   "cell_type": "code",
   "execution_count": 35,
   "id": "5e41ed8a",
   "metadata": {},
   "outputs": [],
   "source": [
    "assert f.get_content() == [1, 2, 3]"
   ]
  },
  {
   "cell_type": "code",
   "execution_count": 36,
   "id": "aaeeb68e",
   "metadata": {},
   "outputs": [],
   "source": [
    "assert f.metadata['content-type'] == 'application/python-pickle'"
   ]
  },
  {
   "cell_type": "code",
   "execution_count": 37,
   "id": "7f9c04b7",
   "metadata": {},
   "outputs": [],
   "source": [
    "import numpy as np\n",
    "import pandas as pd"
   ]
  },
  {
   "cell_type": "code",
   "execution_count": 38,
   "id": "fe6ef52f",
   "metadata": {},
   "outputs": [],
   "source": [
    "rows = []\n",
    "for i in range(1000000):\n",
    "    rows.append(dict(a = i, b = i))\n",
    "df = pd.DataFrame(rows)"
   ]
  },
  {
   "cell_type": "code",
   "execution_count": 39,
   "id": "06c316c3",
   "metadata": {},
   "outputs": [],
   "source": [
    "f = pk.File(mode = 'wb')"
   ]
  },
  {
   "cell_type": "code",
   "execution_count": 40,
   "id": "b632a7e5",
   "metadata": {},
   "outputs": [],
   "source": [
    "assert f.size == 0"
   ]
  },
  {
   "cell_type": "code",
   "execution_count": 41,
   "id": "50a8bb74",
   "metadata": {},
   "outputs": [],
   "source": [
    "f.set_content(df)"
   ]
  },
  {
   "cell_type": "code",
   "execution_count": 42,
   "id": "a940bb2c",
   "metadata": {},
   "outputs": [],
   "source": [
    "assert df.equals(f.get_content())"
   ]
  },
  {
   "cell_type": "code",
   "execution_count": 43,
   "id": "437fd581",
   "metadata": {},
   "outputs": [],
   "source": [
    "a = np.random.rand(100,100)"
   ]
  },
  {
   "cell_type": "code",
   "execution_count": 45,
   "id": "bb0cf11e",
   "metadata": {},
   "outputs": [],
   "source": [
    "f = pk.File('test', mode = 'wb+')\n",
    "with f:\n",
    "    np.save(f, a)"
   ]
  },
  {
   "cell_type": "code",
   "execution_count": 46,
   "id": "27f0235b",
   "metadata": {},
   "outputs": [],
   "source": [
    "f.mode = 'rb+'\n",
    "with f:\n",
    "    assert np.array_equal(a, np.load(f))"
   ]
  },
  {
   "cell_type": "code",
   "execution_count": 48,
   "id": "9a7a1254",
   "metadata": {},
   "outputs": [],
   "source": [
    "f = pk.File('test', mode = 'w+')\n",
    "with f:\n",
    "    np.savetxt(f, a)"
   ]
  },
  {
   "cell_type": "code",
   "execution_count": 49,
   "id": "69112155",
   "metadata": {},
   "outputs": [],
   "source": [
    "f.mode = 'r+'\n",
    "with f:\n",
    "    assert np.array_equal(a, np.loadtxt(f))"
   ]
  },
  {
   "cell_type": "code",
   "execution_count": 50,
   "id": "9eb0e1e8",
   "metadata": {},
   "outputs": [
    {
     "name": "stdout",
     "output_type": "stream",
     "text": [
      "__exec__/__cluster_state_dict__\n",
      "__exec__/__node_termination_queue__\n",
      "__exec__/__running_dict__\n",
      "__exec__/__submit_queue__\n"
     ]
    }
   ],
   "source": [
    "for obj in pk.directory('__exec__', include_hidden = True):\n",
    "    print(obj.path)"
   ]
  },
  {
   "cell_type": "code",
   "execution_count": null,
   "id": "1651e28e",
   "metadata": {},
   "outputs": [],
   "source": []
  }
 ],
 "metadata": {
  "kernelspec": {
   "display_name": "Python 3",
   "language": "python",
   "name": "python3"
  },
  "language_info": {
   "codemirror_mode": {
    "name": "ipython",
    "version": 3
   },
   "file_extension": ".py",
   "mimetype": "text/x-python",
   "name": "python",
   "nbconvert_exporter": "python",
   "pygments_lexer": "ipython3",
   "version": "3.8.3"
  }
 },
 "nbformat": 4,
 "nbformat_minor": 5
}
