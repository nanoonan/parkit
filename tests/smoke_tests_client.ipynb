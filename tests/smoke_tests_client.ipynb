{
 "cells": [
  {
   "cell_type": "code",
   "execution_count": 1,
   "id": "f88fd3ae",
   "metadata": {},
   "outputs": [],
   "source": [
    "%reload_ext autoreload\n",
    "%autoreload 2"
   ]
  },
  {
   "cell_type": "code",
   "execution_count": 2,
   "id": "ef82a3ad",
   "metadata": {},
   "outputs": [],
   "source": [
    "import os\n",
    "import sys\n",
    "os.environ['PYTHONPATH'] = os.environ['PYTHONPATH'] + 'C:\\\\Users\\\\rdpuser\\\\Documents\\\\Github\\\\parkit;'\n",
    "sys.path.append('C:\\\\Users\\\\rdpuser\\\\Documents\\\\Github\\\\parkit')"
   ]
  },
  {
   "cell_type": "code",
   "execution_count": 3,
   "id": "953bf649",
   "metadata": {},
   "outputs": [],
   "source": [
    "import logging\n",
    "from parkit import *\n",
    "logger = logging.getLogger(__name__)"
   ]
  },
  {
   "cell_type": "code",
   "execution_count": 4,
   "id": "56c83e9f",
   "metadata": {},
   "outputs": [],
   "source": [
    "set_default_site('C:\\\\Users\\\\rdpuser\\\\Desktop\\\\test', create = True)"
   ]
  },
  {
   "cell_type": "code",
   "execution_count": null,
   "id": "05c15e89",
   "metadata": {},
   "outputs": [],
   "source": [
    "# Collection Tests"
   ]
  },
  {
   "cell_type": "code",
   "execution_count": null,
   "id": "b8827564",
   "metadata": {},
   "outputs": [],
   "source": [
    "get_default_site()"
   ]
  },
  {
   "cell_type": "code",
   "execution_count": null,
   "id": "aebdf367",
   "metadata": {},
   "outputs": [],
   "source": [
    "bind_symbols('module')"
   ]
  },
  {
   "cell_type": "code",
   "execution_count": null,
   "id": "bb46f3bb",
   "metadata": {},
   "outputs": [],
   "source": [
    "collection_tests(1000, sync = True)"
   ]
  },
  {
   "cell_type": "code",
   "execution_count": 5,
   "id": "d2d8b62d",
   "metadata": {},
   "outputs": [],
   "source": [
    "disable_tasks()\n",
    "compactify()\n",
    "assert len([e for e in task_executions()]) == 0"
   ]
  },
  {
   "cell_type": "code",
   "execution_count": null,
   "id": "cb541c48",
   "metadata": {},
   "outputs": [],
   "source": [
    "list(task_executions())"
   ]
  },
  {
   "cell_type": "code",
   "execution_count": null,
   "id": "09c4019a",
   "metadata": {},
   "outputs": [],
   "source": [
    "pidtable.get_snapshot()"
   ]
  },
  {
   "cell_type": "code",
   "execution_count": null,
   "id": "82536790",
   "metadata": {},
   "outputs": [],
   "source": [
    "enable_tasks()"
   ]
  },
  {
   "cell_type": "code",
   "execution_count": null,
   "id": "0a9b5476",
   "metadata": {},
   "outputs": [],
   "source": [
    "set_concurrency(4)"
   ]
  },
  {
   "cell_type": "code",
   "execution_count": null,
   "id": "bc60c23d",
   "metadata": {},
   "outputs": [],
   "source": [
    "import random\n",
    "\n",
    "executions = []\n",
    "for i in range(16):\n",
    "    executions.append(collection_tests(1000))\n",
    "while True:\n",
    "    assert len(executions) == 16\n",
    "    if all(e.status in ['crashed', 'failed', 'finished'] for e in executions):\n",
    "        break\n",
    "    choice = random.choice([1, 2])\n",
    "    if choice == 1:\n",
    "        set_concurrency(random.randint(1, 10))\n",
    "    elif choice == 2:\n",
    "        enable_tasks()\n",
    "assert all(e.result for e in executions)\n",
    "assert all(e.status == 'finished' for e in executions)\n",
    "assert all(e.error is None for e in executions)"
   ]
  },
  {
   "cell_type": "code",
   "execution_count": null,
   "id": "9df66fe6",
   "metadata": {},
   "outputs": [],
   "source": [
    "[e.status for e in executions]"
   ]
  },
  {
   "cell_type": "code",
   "execution_count": null,
   "id": "f93a1e7a",
   "metadata": {},
   "outputs": [],
   "source": [
    "get_concurrency()"
   ]
  },
  {
   "cell_type": "code",
   "execution_count": null,
   "id": "5c6a65cc",
   "metadata": {},
   "outputs": [],
   "source": [
    "disable_tasks()"
   ]
  },
  {
   "cell_type": "code",
   "execution_count": null,
   "id": "74735db1",
   "metadata": {},
   "outputs": [],
   "source": [
    "[e.status for e in task_executions()]"
   ]
  },
  {
   "cell_type": "code",
   "execution_count": null,
   "id": "e024209e",
   "metadata": {},
   "outputs": [],
   "source": [
    "# Scheduler Tests"
   ]
  },
  {
   "cell_type": "code",
   "execution_count": null,
   "id": "5a965dde",
   "metadata": {},
   "outputs": [],
   "source": [
    "@task\n",
    "def foo():\n",
    "    logger.info('foo')"
   ]
  },
  {
   "cell_type": "code",
   "execution_count": null,
   "id": "93c9dd9a",
   "metadata": {},
   "outputs": [],
   "source": [
    "enable_tasks()"
   ]
  },
  {
   "cell_type": "code",
   "execution_count": null,
   "id": "1af7fb3b",
   "metadata": {},
   "outputs": [],
   "source": [
    "schedule(foo, frequency = Frequency.SECOND, period = 1, max_times = 10, start = 'now')"
   ]
  },
  {
   "cell_type": "code",
   "execution_count": null,
   "id": "6d473c90",
   "metadata": {},
   "outputs": [],
   "source": [
    "[s.cancel() for s in schedulers()]"
   ]
  },
  {
   "cell_type": "code",
   "execution_count": null,
   "id": "47951437",
   "metadata": {},
   "outputs": [],
   "source": [
    "compactify()"
   ]
  },
  {
   "cell_type": "code",
   "execution_count": null,
   "id": "5ebea052",
   "metadata": {},
   "outputs": [],
   "source": [
    "# File Tests"
   ]
  },
  {
   "cell_type": "code",
   "execution_count": null,
   "id": "1029cdd2",
   "metadata": {},
   "outputs": [],
   "source": [
    "f = File()"
   ]
  },
  {
   "cell_type": "code",
   "execution_count": null,
   "id": "7ff865e7",
   "metadata": {},
   "outputs": [],
   "source": [
    "f.set_content('hello')"
   ]
  },
  {
   "cell_type": "code",
   "execution_count": null,
   "id": "3dc7ec28",
   "metadata": {},
   "outputs": [],
   "source": [
    "assert len(f.get_content()) == 5"
   ]
  },
  {
   "cell_type": "code",
   "execution_count": null,
   "id": "d2533233",
   "metadata": {},
   "outputs": [],
   "source": [
    "assert f.get_content() == 'hello'"
   ]
  },
  {
   "cell_type": "code",
   "execution_count": null,
   "id": "8185856b",
   "metadata": {},
   "outputs": [],
   "source": [
    "assert f.encoding == 'utf-8'"
   ]
  },
  {
   "cell_type": "code",
   "execution_count": null,
   "id": "11789ac7",
   "metadata": {},
   "outputs": [],
   "source": [
    "assert f.metadata['content-type'] == 'text/plain'"
   ]
  },
  {
   "cell_type": "code",
   "execution_count": null,
   "id": "a511c6a9",
   "metadata": {},
   "outputs": [],
   "source": [
    "f.set_content(b'hello')"
   ]
  },
  {
   "cell_type": "code",
   "execution_count": null,
   "id": "1b83b91a",
   "metadata": {},
   "outputs": [],
   "source": [
    "assert f.get_content() == b'hello'"
   ]
  },
  {
   "cell_type": "code",
   "execution_count": null,
   "id": "fdecbf04",
   "metadata": {},
   "outputs": [],
   "source": [
    "assert isinstance(f.get_content(), bytearray)"
   ]
  },
  {
   "cell_type": "code",
   "execution_count": null,
   "id": "f700b4ef",
   "metadata": {},
   "outputs": [],
   "source": [
    "with snapshot(f):\n",
    "    assert isinstance(f.get_content(zero_copy = True), memoryview)"
   ]
  },
  {
   "cell_type": "code",
   "execution_count": null,
   "id": "6b1eb586",
   "metadata": {},
   "outputs": [],
   "source": [
    "assert f.metadata['content-type'] == 'application/octet-stream'"
   ]
  },
  {
   "cell_type": "code",
   "execution_count": null,
   "id": "102d44ef",
   "metadata": {},
   "outputs": [],
   "source": [
    "f.set_content([1, 2, 3])"
   ]
  },
  {
   "cell_type": "code",
   "execution_count": null,
   "id": "5e41ed8a",
   "metadata": {},
   "outputs": [],
   "source": [
    "assert f.get_content() == [1, 2, 3]"
   ]
  },
  {
   "cell_type": "code",
   "execution_count": null,
   "id": "aaeeb68e",
   "metadata": {},
   "outputs": [],
   "source": [
    "assert f.metadata['content-type'] == 'application/python-pickle'"
   ]
  },
  {
   "cell_type": "code",
   "execution_count": null,
   "id": "7f9c04b7",
   "metadata": {},
   "outputs": [],
   "source": [
    "import numpy as np\n",
    "import pandas as pd"
   ]
  },
  {
   "cell_type": "code",
   "execution_count": null,
   "id": "fe6ef52f",
   "metadata": {},
   "outputs": [],
   "source": [
    "rows = []\n",
    "for i in range(1000000):\n",
    "    rows.append(dict(a = i, b = i))\n",
    "df = pd.DataFrame(rows)"
   ]
  },
  {
   "cell_type": "code",
   "execution_count": null,
   "id": "06c316c3",
   "metadata": {},
   "outputs": [],
   "source": [
    "f = File(mode = 'wb')"
   ]
  },
  {
   "cell_type": "code",
   "execution_count": null,
   "id": "b632a7e5",
   "metadata": {},
   "outputs": [],
   "source": [
    "assert f.size == 0"
   ]
  },
  {
   "cell_type": "code",
   "execution_count": null,
   "id": "50a8bb74",
   "metadata": {},
   "outputs": [],
   "source": [
    "f.set_content(df)"
   ]
  },
  {
   "cell_type": "code",
   "execution_count": null,
   "id": "a940bb2c",
   "metadata": {},
   "outputs": [],
   "source": [
    "assert df.equals(f.get_content())"
   ]
  },
  {
   "cell_type": "code",
   "execution_count": null,
   "id": "437fd581",
   "metadata": {},
   "outputs": [],
   "source": [
    "a = np.random.rand(100,100)"
   ]
  },
  {
   "cell_type": "code",
   "execution_count": null,
   "id": "bb0cf11e",
   "metadata": {},
   "outputs": [],
   "source": [
    "f = File('test', mode = 'wb+')\n",
    "with f:\n",
    "    np.save(f, a)"
   ]
  },
  {
   "cell_type": "code",
   "execution_count": null,
   "id": "27f0235b",
   "metadata": {},
   "outputs": [],
   "source": [
    "f.mode = 'rb+'\n",
    "with f:\n",
    "    assert np.array_equal(a, np.load(f))"
   ]
  },
  {
   "cell_type": "code",
   "execution_count": null,
   "id": "9a7a1254",
   "metadata": {},
   "outputs": [],
   "source": [
    "f = File('test', mode = 'w+')\n",
    "with f:\n",
    "    np.savetxt(f, a)"
   ]
  },
  {
   "cell_type": "code",
   "execution_count": null,
   "id": "69112155",
   "metadata": {},
   "outputs": [],
   "source": [
    "f.mode = 'r+'\n",
    "with f:\n",
    "    assert np.array_equal(a, np.loadtxt(f))"
   ]
  },
  {
   "cell_type": "code",
   "execution_count": null,
   "id": "9eb0e1e8",
   "metadata": {},
   "outputs": [],
   "source": [
    "for obj in directory('__exec__', include_hidden = True):\n",
    "    print(obj.path)"
   ]
  },
  {
   "cell_type": "code",
   "execution_count": null,
   "id": "1651e28e",
   "metadata": {},
   "outputs": [],
   "source": []
  }
 ],
 "metadata": {
  "kernelspec": {
   "display_name": "Python 3",
   "language": "python",
   "name": "python3"
  },
  "language_info": {
   "codemirror_mode": {
    "name": "ipython",
    "version": 3
   },
   "file_extension": ".py",
   "mimetype": "text/x-python",
   "name": "python",
   "nbconvert_exporter": "python",
   "pygments_lexer": "ipython3",
   "version": "3.8.3"
  }
 },
 "nbformat": 4,
 "nbformat_minor": 5
}
