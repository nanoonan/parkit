{
 "cells": [
  {
   "cell_type": "code",
   "execution_count": 7,
   "id": "49117919",
   "metadata": {},
   "outputs": [],
   "source": [
    "%reload_ext autoreload\n",
    "%autoreload 2"
   ]
  },
  {
   "cell_type": "code",
   "execution_count": 8,
   "id": "017b0ac9",
   "metadata": {},
   "outputs": [],
   "source": [
    "import os\n",
    "import sys\n",
    "os.environ['PYTHONPATH'] = os.environ['PYTHONPATH'] + 'C:\\\\Users\\\\rdpuser\\\\Documents\\\\Github\\\\parkit;'\n",
    "sys.path.append('C:\\\\Users\\\\rdpuser\\\\Documents\\\\Github\\\\parkit')"
   ]
  },
  {
   "cell_type": "code",
   "execution_count": 9,
   "id": "f943b04f",
   "metadata": {},
   "outputs": [],
   "source": [
    "import parkit as pk\n",
    "\n",
    "pk.import_site('C:\\\\Users\\\\rdpuser\\\\Desktop\\\\test')"
   ]
  },
  {
   "cell_type": "code",
   "execution_count": 10,
   "id": "2cd817b3",
   "metadata": {},
   "outputs": [],
   "source": [
    "# Smoke Tests"
   ]
  },
  {
   "cell_type": "code",
   "execution_count": 11,
   "id": "509ee16e",
   "metadata": {},
   "outputs": [],
   "source": [
    "smoke_tests = pk.bind_task('smoke_tests')"
   ]
  },
  {
   "cell_type": "code",
   "execution_count": 16,
   "id": "90b4cabe",
   "metadata": {},
   "outputs": [],
   "source": [
    "pk.pool().start()"
   ]
  },
  {
   "cell_type": "code",
   "execution_count": 19,
   "id": "36439383",
   "metadata": {},
   "outputs": [],
   "source": [
    "traces = []\n",
    "for i in range(16):\n",
    "    traces.append(smoke_tests(1000))"
   ]
  },
  {
   "cell_type": "code",
   "execution_count": 20,
   "id": "3663a103",
   "metadata": {},
   "outputs": [],
   "source": [
    "pk.wait(*traces, lambda: all(trace.done for trace in traces))\n",
    "assert all(trace.result for trace in traces)"
   ]
  },
  {
   "cell_type": "code",
   "execution_count": 21,
   "id": "c4c7be4f",
   "metadata": {},
   "outputs": [],
   "source": [
    "pk.pool().stop()"
   ]
  },
  {
   "cell_type": "code",
   "execution_count": null,
   "id": "40989c61",
   "metadata": {},
   "outputs": [],
   "source": [
    "# File Tests"
   ]
  },
  {
   "cell_type": "code",
   "execution_count": 22,
   "id": "4555c537",
   "metadata": {},
   "outputs": [],
   "source": [
    "import numpy as np\n",
    "import pandas as pd"
   ]
  },
  {
   "cell_type": "code",
   "execution_count": 23,
   "id": "ee079154",
   "metadata": {},
   "outputs": [],
   "source": [
    "rows = []\n",
    "for i in range(10000):\n",
    "    rows.append(dict(a = i, b = i))\n",
    "df = pd.DataFrame(rows)"
   ]
  },
  {
   "cell_type": "code",
   "execution_count": 24,
   "id": "7380ed1c",
   "metadata": {},
   "outputs": [],
   "source": [
    "f = pk.File(mode = 'wb')"
   ]
  },
  {
   "cell_type": "code",
   "execution_count": 25,
   "id": "e8b6a992",
   "metadata": {},
   "outputs": [],
   "source": [
    "with f:\n",
    "    df.to_feather(f)"
   ]
  },
  {
   "cell_type": "code",
   "execution_count": 26,
   "id": "3c2f951c",
   "metadata": {},
   "outputs": [],
   "source": [
    "f.mode = 'rb'\n",
    "with f:\n",
    "    assert df.equals(pd.read_feather(f))"
   ]
  },
  {
   "cell_type": "code",
   "execution_count": 27,
   "id": "9cf8c895",
   "metadata": {},
   "outputs": [],
   "source": [
    "a = np.zeros((100,100))"
   ]
  },
  {
   "cell_type": "code",
   "execution_count": 28,
   "id": "227c600c",
   "metadata": {},
   "outputs": [],
   "source": [
    "f = pk.File(mode = 'wb+')\n",
    "with f:\n",
    "    np.save(f, a)"
   ]
  },
  {
   "cell_type": "code",
   "execution_count": 29,
   "id": "09835e63",
   "metadata": {},
   "outputs": [],
   "source": [
    "f.mode = 'rb+'\n",
    "with f:\n",
    "    assert np.array_equal(a, np.load(f))"
   ]
  },
  {
   "cell_type": "code",
   "execution_count": null,
   "id": "240dfa42",
   "metadata": {},
   "outputs": [],
   "source": []
  }
 ],
 "metadata": {
  "kernelspec": {
   "display_name": "Python 3",
   "language": "python",
   "name": "python3"
  },
  "language_info": {
   "codemirror_mode": {
    "name": "ipython",
    "version": 3
   },
   "file_extension": ".py",
   "mimetype": "text/x-python",
   "name": "python",
   "nbconvert_exporter": "python",
   "pygments_lexer": "ipython3",
   "version": "3.8.3"
  }
 },
 "nbformat": 4,
 "nbformat_minor": 5
}
