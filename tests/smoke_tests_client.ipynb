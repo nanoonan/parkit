{
 "cells": [
  {
   "cell_type": "code",
   "execution_count": 1,
   "id": "f88fd3ae",
   "metadata": {},
   "outputs": [],
   "source": [
    "%reload_ext autoreload\n",
    "%autoreload 2"
   ]
  },
  {
   "cell_type": "code",
   "execution_count": 2,
   "id": "ef82a3ad",
   "metadata": {},
   "outputs": [],
   "source": [
    "import os\n",
    "import sys\n",
    "os.environ['PYTHONPATH'] = os.environ['PYTHONPATH'] + 'C:\\\\Users\\\\rdpuser\\\\Documents\\\\Github\\\\parkit;'\n",
    "sys.path.append('C:\\\\Users\\\\rdpuser\\\\Documents\\\\Github\\\\parkit')"
   ]
  },
  {
   "cell_type": "code",
   "execution_count": 3,
   "id": "953bf649",
   "metadata": {},
   "outputs": [],
   "source": [
    "import logging\n",
    "from parkit import *\n",
    "logger = logging.getLogger(__name__)"
   ]
  },
  {
   "cell_type": "code",
   "execution_count": 4,
   "id": "56c83e9f",
   "metadata": {},
   "outputs": [],
   "source": [
    "set_default_site('C:\\\\Users\\\\rdpuser\\\\Desktop\\\\test', create = True)"
   ]
  },
  {
   "cell_type": "code",
   "execution_count": 5,
   "id": "05c15e89",
   "metadata": {},
   "outputs": [],
   "source": [
    "# Collection Tests"
   ]
  },
  {
   "cell_type": "code",
   "execution_count": 6,
   "id": "b8827564",
   "metadata": {},
   "outputs": [
    {
     "data": {
      "text/plain": [
       "('C:\\\\Users\\\\rdpuser\\\\Desktop\\\\test', 'a15e6c7e-d992-47a2-bd7a-a3798eabcff8')"
      ]
     },
     "execution_count": 6,
     "metadata": {},
     "output_type": "execute_result"
    }
   ],
   "source": [
    "get_default_site()"
   ]
  },
  {
   "cell_type": "code",
   "execution_count": 7,
   "id": "aebdf367",
   "metadata": {},
   "outputs": [
    {
     "data": {
      "text/plain": [
       "['collection_tests']"
      ]
     },
     "execution_count": 7,
     "metadata": {},
     "output_type": "execute_result"
    }
   ],
   "source": [
    "bind_symbols('module')"
   ]
  },
  {
   "cell_type": "code",
   "execution_count": 9,
   "id": "bb46f3bb",
   "metadata": {},
   "outputs": [
    {
     "data": {
      "text/plain": [
       "True"
      ]
     },
     "execution_count": 9,
     "metadata": {},
     "output_type": "execute_result"
    }
   ],
   "source": [
    "collection_tests(1000, sync = True)"
   ]
  },
  {
   "cell_type": "code",
   "execution_count": 10,
   "id": "d2d8b62d",
   "metadata": {},
   "outputs": [],
   "source": [
    "disable_tasks()\n",
    "compactify()\n",
    "assert len([task for task in tasks()]) == 0"
   ]
  },
  {
   "cell_type": "code",
   "execution_count": 11,
   "id": "cb541c48",
   "metadata": {},
   "outputs": [
    {
     "data": {
      "text/plain": [
       "[]"
      ]
     },
     "execution_count": 11,
     "metadata": {},
     "output_type": "execute_result"
    }
   ],
   "source": [
    "list(tasks())"
   ]
  },
  {
   "cell_type": "code",
   "execution_count": 12,
   "id": "09c4019a",
   "metadata": {},
   "outputs": [
    {
     "data": {
      "text/plain": [
       "{6208: {'create_time': 1624706315.4986243,\n",
       "  'process_uid': '17ea1276-7fc4-4285-ac1d-803815365b25',\n",
       "  'node_uid': None,\n",
       "  'cluster_uid': None},\n",
       " 11220: {'create_time': 1624706367.6278,\n",
       "  'process_uid': '160a939a-5ba0-481d-a534-51d1b28618ba',\n",
       "  'node_uid': None,\n",
       "  'cluster_uid': None},\n",
       " 9968: {'create_time': 1624706265.2370863,\n",
       "  'process_uid': '795376f3-d072-4823-9e6e-cc36547161ea',\n",
       "  'node_uid': None,\n",
       "  'cluster_uid': None}}"
      ]
     },
     "execution_count": 12,
     "metadata": {},
     "output_type": "execute_result"
    }
   ],
   "source": [
    "pidtable.get_snapshot()"
   ]
  },
  {
   "cell_type": "code",
   "execution_count": 13,
   "id": "82536790",
   "metadata": {},
   "outputs": [
    {
     "data": {
      "text/plain": [
       "True"
      ]
     },
     "execution_count": 13,
     "metadata": {},
     "output_type": "execute_result"
    }
   ],
   "source": [
    "enable_tasks()"
   ]
  },
  {
   "cell_type": "code",
   "execution_count": 14,
   "id": "0a9b5476",
   "metadata": {},
   "outputs": [],
   "source": [
    "set_concurrency(4)"
   ]
  },
  {
   "cell_type": "code",
   "execution_count": 15,
   "id": "bc60c23d",
   "metadata": {},
   "outputs": [],
   "source": [
    "import random\n",
    "\n",
    "tasks = []\n",
    "for i in range(16):\n",
    "    tasks.append(collection_tests(1000))\n",
    "while True:\n",
    "    assert len(tasks) == 16\n",
    "    if all(task.status in ['crashed', 'failed', 'finished'] for task in tasks):\n",
    "        break\n",
    "    choice = random.choice([1, 2])\n",
    "    if choice == 1:\n",
    "        set_concurrency(random.randint(1, 10))\n",
    "    elif choice == 2:\n",
    "        enable_tasks()\n",
    "assert all(task.result for task in tasks)\n",
    "assert all(task.status == 'finished' for task in tasks)\n",
    "assert all(task.error is None for task in tasks)"
   ]
  },
  {
   "cell_type": "code",
   "execution_count": 25,
   "id": "9df66fe6",
   "metadata": {},
   "outputs": [
    {
     "ename": "ObjectNotFoundError",
     "evalue": "",
     "output_type": "error",
     "traceback": [
      "\u001b[1;31m---------------------------------------------------------------------------\u001b[0m",
      "\u001b[1;31mObjectNotFoundError\u001b[0m                       Traceback (most recent call last)",
      "\u001b[1;32m<ipython-input-25-3ad1512bbb9b>\u001b[0m in \u001b[0;36m<module>\u001b[1;34m\u001b[0m\n\u001b[1;32m----> 1\u001b[1;33m \u001b[1;33m[\u001b[0m\u001b[0mtask\u001b[0m\u001b[1;33m.\u001b[0m\u001b[0mstatus\u001b[0m \u001b[1;32mfor\u001b[0m \u001b[0mtask\u001b[0m \u001b[1;32min\u001b[0m \u001b[0mtasks\u001b[0m\u001b[1;33m]\u001b[0m\u001b[1;33m\u001b[0m\u001b[1;33m\u001b[0m\u001b[0m\n\u001b[0m",
      "\u001b[1;32m<ipython-input-25-3ad1512bbb9b>\u001b[0m in \u001b[0;36m<listcomp>\u001b[1;34m(.0)\u001b[0m\n\u001b[1;32m----> 1\u001b[1;33m \u001b[1;33m[\u001b[0m\u001b[0mtask\u001b[0m\u001b[1;33m.\u001b[0m\u001b[0mstatus\u001b[0m \u001b[1;32mfor\u001b[0m \u001b[0mtask\u001b[0m \u001b[1;32min\u001b[0m \u001b[0mtasks\u001b[0m\u001b[1;33m]\u001b[0m\u001b[1;33m\u001b[0m\u001b[1;33m\u001b[0m\u001b[0m\n\u001b[0m",
      "\u001b[1;32m~\\Documents\\Github\\parkit\\parkit\\adapters\\task.py\u001b[0m in \u001b[0;36mstatus\u001b[1;34m(self)\u001b[0m\n\u001b[0;32m    146\u001b[0m     \u001b[1;32mdef\u001b[0m \u001b[0mstatus\u001b[0m\u001b[1;33m(\u001b[0m\u001b[0mself\u001b[0m\u001b[1;33m)\u001b[0m \u001b[1;33m->\u001b[0m \u001b[0mstr\u001b[0m\u001b[1;33m:\u001b[0m\u001b[1;33m\u001b[0m\u001b[1;33m\u001b[0m\u001b[0m\n\u001b[0;32m    147\u001b[0m         \u001b[1;32mwith\u001b[0m \u001b[0mtransaction_context\u001b[0m\u001b[1;33m(\u001b[0m\u001b[0mself\u001b[0m\u001b[1;33m.\u001b[0m\u001b[0m_env\u001b[0m\u001b[1;33m,\u001b[0m \u001b[0mwrite\u001b[0m \u001b[1;33m=\u001b[0m \u001b[1;32mFalse\u001b[0m\u001b[1;33m)\u001b[0m\u001b[1;33m:\u001b[0m\u001b[1;33m\u001b[0m\u001b[1;33m\u001b[0m\u001b[0m\n\u001b[1;32m--> 148\u001b[1;33m             \u001b[0mstatus\u001b[0m \u001b[1;33m=\u001b[0m \u001b[0mself\u001b[0m\u001b[1;33m.\u001b[0m\u001b[0m_status\u001b[0m\u001b[1;33m\u001b[0m\u001b[1;33m\u001b[0m\u001b[0m\n\u001b[0m\u001b[0;32m    149\u001b[0m             \u001b[1;32mif\u001b[0m \u001b[0mstatus\u001b[0m \u001b[1;33m==\u001b[0m \u001b[1;34m'running'\u001b[0m\u001b[1;33m:\u001b[0m\u001b[1;33m\u001b[0m\u001b[1;33m\u001b[0m\u001b[0m\n\u001b[0;32m    150\u001b[0m                 \u001b[0mnode_uid\u001b[0m \u001b[1;33m=\u001b[0m \u001b[0mself\u001b[0m\u001b[1;33m.\u001b[0m\u001b[0m_node_uid\u001b[0m\u001b[1;33m\u001b[0m\u001b[1;33m\u001b[0m\u001b[0m\n",
      "\u001b[1;32m~\\Documents\\Github\\parkit\\parkit\\adapters\\object.py\u001b[0m in \u001b[0;36m__getattr__\u001b[1;34m(self, key)\u001b[0m\n\u001b[0;32m     77\u001b[0m         \u001b[1;32mif\u001b[0m \u001b[0mresult\u001b[0m \u001b[1;32mis\u001b[0m \u001b[1;32mNone\u001b[0m\u001b[1;33m:\u001b[0m\u001b[1;33m\u001b[0m\u001b[1;33m\u001b[0m\u001b[0m\n\u001b[0;32m     78\u001b[0m             \u001b[1;32mif\u001b[0m \u001b[1;32mnot\u001b[0m \u001b[0mself\u001b[0m\u001b[1;33m.\u001b[0m\u001b[0mexists\u001b[0m\u001b[1;33m:\u001b[0m\u001b[1;33m\u001b[0m\u001b[1;33m\u001b[0m\u001b[0m\n\u001b[1;32m---> 79\u001b[1;33m                 \u001b[1;32mraise\u001b[0m \u001b[0mObjectNotFoundError\u001b[0m\u001b[1;33m(\u001b[0m\u001b[1;33m)\u001b[0m\u001b[1;33m\u001b[0m\u001b[1;33m\u001b[0m\u001b[0m\n\u001b[0m\u001b[0;32m     80\u001b[0m             \u001b[1;32mraise\u001b[0m \u001b[0mAttributeError\u001b[0m\u001b[1;33m(\u001b[0m\u001b[1;33m)\u001b[0m\u001b[1;33m\u001b[0m\u001b[1;33m\u001b[0m\u001b[0m\n\u001b[0;32m     81\u001b[0m         \u001b[1;32mreturn\u001b[0m \u001b[0mself\u001b[0m\u001b[1;33m.\u001b[0m\u001b[0mdecode_attr_value\u001b[0m\u001b[1;33m(\u001b[0m\u001b[0mresult\u001b[0m\u001b[1;33m)\u001b[0m \u001b[1;32mif\u001b[0m \u001b[0mself\u001b[0m\u001b[1;33m.\u001b[0m\u001b[0mdecode_attr_value\u001b[0m \u001b[1;32mand\u001b[0m\u001b[0;31m \u001b[0m\u001b[0;31m\\\u001b[0m\u001b[1;33m\u001b[0m\u001b[1;33m\u001b[0m\u001b[0m\n",
      "\u001b[1;31mObjectNotFoundError\u001b[0m: "
     ]
    }
   ],
   "source": [
    "[task.status for task in tasks]"
   ]
  },
  {
   "cell_type": "code",
   "execution_count": 17,
   "id": "f93a1e7a",
   "metadata": {},
   "outputs": [
    {
     "data": {
      "text/plain": [
       "4"
      ]
     },
     "execution_count": 17,
     "metadata": {},
     "output_type": "execute_result"
    }
   ],
   "source": [
    "get_concurrency()"
   ]
  },
  {
   "cell_type": "code",
   "execution_count": 18,
   "id": "5c6a65cc",
   "metadata": {},
   "outputs": [
    {
     "data": {
      "text/plain": [
       "True"
      ]
     },
     "execution_count": 18,
     "metadata": {},
     "output_type": "execute_result"
    }
   ],
   "source": [
    "disable_tasks()"
   ]
  },
  {
   "cell_type": "code",
   "execution_count": null,
   "id": "e024209e",
   "metadata": {},
   "outputs": [],
   "source": [
    "# Scheduler Tests"
   ]
  },
  {
   "cell_type": "code",
   "execution_count": 19,
   "id": "5a965dde",
   "metadata": {},
   "outputs": [],
   "source": [
    "@asyncable\n",
    "def foo():\n",
    "    logger.info('foo')"
   ]
  },
  {
   "cell_type": "code",
   "execution_count": 20,
   "id": "93c9dd9a",
   "metadata": {},
   "outputs": [
    {
     "data": {
      "text/plain": [
       "True"
      ]
     },
     "execution_count": 20,
     "metadata": {},
     "output_type": "execute_result"
    }
   ],
   "source": [
    "enable_tasks()"
   ]
  },
  {
   "cell_type": "code",
   "execution_count": 22,
   "id": "1af7fb3b",
   "metadata": {},
   "outputs": [
    {
     "data": {
      "text/plain": [
       "<parkit.adapters.scheduler.Periodic at 0x2743a38b220>"
      ]
     },
     "execution_count": 22,
     "metadata": {},
     "output_type": "execute_result"
    }
   ],
   "source": [
    "schedule(foo, frequency = Frequency.SECOND, period = 1, max_times = 10, start = 'now')"
   ]
  },
  {
   "cell_type": "code",
   "execution_count": 23,
   "id": "6d473c90",
   "metadata": {},
   "outputs": [
    {
     "data": {
      "text/plain": [
       "[None, None]"
      ]
     },
     "execution_count": 23,
     "metadata": {},
     "output_type": "execute_result"
    }
   ],
   "source": [
    "[s.cancel() for s in schedulers()]"
   ]
  },
  {
   "cell_type": "code",
   "execution_count": 24,
   "id": "47951437",
   "metadata": {},
   "outputs": [],
   "source": [
    "compactify()"
   ]
  },
  {
   "cell_type": "code",
   "execution_count": null,
   "id": "5ebea052",
   "metadata": {},
   "outputs": [],
   "source": [
    "# File Tests"
   ]
  },
  {
   "cell_type": "code",
   "execution_count": 26,
   "id": "1029cdd2",
   "metadata": {},
   "outputs": [],
   "source": [
    "f = File()"
   ]
  },
  {
   "cell_type": "code",
   "execution_count": 27,
   "id": "7ff865e7",
   "metadata": {},
   "outputs": [],
   "source": [
    "f.set_content('hello')"
   ]
  },
  {
   "cell_type": "code",
   "execution_count": 28,
   "id": "3dc7ec28",
   "metadata": {},
   "outputs": [],
   "source": [
    "assert len(f.get_content()) == 5"
   ]
  },
  {
   "cell_type": "code",
   "execution_count": 29,
   "id": "d2533233",
   "metadata": {},
   "outputs": [],
   "source": [
    "assert f.get_content() == 'hello'"
   ]
  },
  {
   "cell_type": "code",
   "execution_count": 30,
   "id": "8185856b",
   "metadata": {},
   "outputs": [],
   "source": [
    "assert f.encoding == 'utf-8'"
   ]
  },
  {
   "cell_type": "code",
   "execution_count": 31,
   "id": "11789ac7",
   "metadata": {},
   "outputs": [],
   "source": [
    "assert f.metadata['content-type'] == 'text/plain'"
   ]
  },
  {
   "cell_type": "code",
   "execution_count": 32,
   "id": "a511c6a9",
   "metadata": {},
   "outputs": [],
   "source": [
    "f.set_content(b'hello')"
   ]
  },
  {
   "cell_type": "code",
   "execution_count": 33,
   "id": "1b83b91a",
   "metadata": {},
   "outputs": [],
   "source": [
    "assert f.get_content() == b'hello'"
   ]
  },
  {
   "cell_type": "code",
   "execution_count": 34,
   "id": "fdecbf04",
   "metadata": {},
   "outputs": [],
   "source": [
    "assert isinstance(f.get_content(), bytearray)"
   ]
  },
  {
   "cell_type": "code",
   "execution_count": 35,
   "id": "f700b4ef",
   "metadata": {},
   "outputs": [],
   "source": [
    "with snapshot(f):\n",
    "    assert isinstance(f.get_content(zero_copy = True), memoryview)"
   ]
  },
  {
   "cell_type": "code",
   "execution_count": 36,
   "id": "6b1eb586",
   "metadata": {},
   "outputs": [],
   "source": [
    "assert f.metadata['content-type'] == 'application/octet-stream'"
   ]
  },
  {
   "cell_type": "code",
   "execution_count": 37,
   "id": "102d44ef",
   "metadata": {},
   "outputs": [],
   "source": [
    "f.set_content([1, 2, 3])"
   ]
  },
  {
   "cell_type": "code",
   "execution_count": 38,
   "id": "5e41ed8a",
   "metadata": {},
   "outputs": [],
   "source": [
    "assert f.get_content() == [1, 2, 3]"
   ]
  },
  {
   "cell_type": "code",
   "execution_count": 39,
   "id": "aaeeb68e",
   "metadata": {},
   "outputs": [],
   "source": [
    "assert f.metadata['content-type'] == 'application/python-pickle'"
   ]
  },
  {
   "cell_type": "code",
   "execution_count": 40,
   "id": "7f9c04b7",
   "metadata": {},
   "outputs": [],
   "source": [
    "import numpy as np\n",
    "import pandas as pd"
   ]
  },
  {
   "cell_type": "code",
   "execution_count": 41,
   "id": "fe6ef52f",
   "metadata": {},
   "outputs": [],
   "source": [
    "rows = []\n",
    "for i in range(1000000):\n",
    "    rows.append(dict(a = i, b = i))\n",
    "df = pd.DataFrame(rows)"
   ]
  },
  {
   "cell_type": "code",
   "execution_count": 42,
   "id": "06c316c3",
   "metadata": {},
   "outputs": [],
   "source": [
    "f = File(mode = 'wb')"
   ]
  },
  {
   "cell_type": "code",
   "execution_count": 43,
   "id": "b632a7e5",
   "metadata": {},
   "outputs": [],
   "source": [
    "assert f.size == 0"
   ]
  },
  {
   "cell_type": "code",
   "execution_count": 44,
   "id": "50a8bb74",
   "metadata": {},
   "outputs": [],
   "source": [
    "f.set_content(df)"
   ]
  },
  {
   "cell_type": "code",
   "execution_count": 45,
   "id": "a940bb2c",
   "metadata": {},
   "outputs": [],
   "source": [
    "assert df.equals(f.get_content())"
   ]
  },
  {
   "cell_type": "code",
   "execution_count": 46,
   "id": "437fd581",
   "metadata": {},
   "outputs": [],
   "source": [
    "a = np.random.rand(100,100)"
   ]
  },
  {
   "cell_type": "code",
   "execution_count": 50,
   "id": "bb0cf11e",
   "metadata": {},
   "outputs": [],
   "source": [
    "f = File('test', mode = 'wb+', create = True)\n",
    "with f:\n",
    "    np.save(f, a)"
   ]
  },
  {
   "cell_type": "code",
   "execution_count": 51,
   "id": "27f0235b",
   "metadata": {},
   "outputs": [],
   "source": [
    "f.mode = 'rb+'\n",
    "with f:\n",
    "    assert np.array_equal(a, np.load(f))"
   ]
  },
  {
   "cell_type": "code",
   "execution_count": null,
   "id": "9a7a1254",
   "metadata": {},
   "outputs": [],
   "source": [
    "f = File('test', mode = 'w+')\n",
    "with f:\n",
    "    np.savetxt(f, a)"
   ]
  },
  {
   "cell_type": "code",
   "execution_count": null,
   "id": "69112155",
   "metadata": {},
   "outputs": [],
   "source": [
    "f.mode = 'r+'\n",
    "with f:\n",
    "    assert np.array_equal(a, np.loadtxt(f))"
   ]
  },
  {
   "cell_type": "code",
   "execution_count": 48,
   "id": "9eb0e1e8",
   "metadata": {},
   "outputs": [
    {
     "name": "stdout",
     "output_type": "stream",
     "text": [
      "__task__/__cluster_state_dict__\n",
      "__task__/__node_termination_queue__\n",
      "__task__/__submit_queue__\n"
     ]
    }
   ],
   "source": [
    "for obj in directory('__task__', include_hidden = True):\n",
    "    print(obj.path)"
   ]
  },
  {
   "cell_type": "code",
   "execution_count": null,
   "id": "1651e28e",
   "metadata": {},
   "outputs": [],
   "source": []
  }
 ],
 "metadata": {
  "kernelspec": {
   "display_name": "Python 3",
   "language": "python",
   "name": "python3"
  },
  "language_info": {
   "codemirror_mode": {
    "name": "ipython",
    "version": 3
   },
   "file_extension": ".py",
   "mimetype": "text/x-python",
   "name": "python",
   "nbconvert_exporter": "python",
   "pygments_lexer": "ipython3",
   "version": "3.8.3"
  }
 },
 "nbformat": 4,
 "nbformat_minor": 5
}
