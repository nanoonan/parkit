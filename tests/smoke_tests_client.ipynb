{
 "cells": [
  {
   "cell_type": "code",
   "execution_count": 1,
   "id": "f88fd3ae",
   "metadata": {},
   "outputs": [],
   "source": [
    "%reload_ext autoreload\n",
    "%autoreload 2"
   ]
  },
  {
   "cell_type": "code",
   "execution_count": 2,
   "id": "ef82a3ad",
   "metadata": {},
   "outputs": [],
   "source": [
    "import os\n",
    "import sys\n",
    "os.environ['PYTHONPATH'] = os.environ['PYTHONPATH'] + 'C:\\\\Users\\\\rdpuser\\\\Documents\\\\Github\\\\parkit;'\n",
    "sys.path.append('C:\\\\Users\\\\rdpuser\\\\Documents\\\\Github\\\\parkit')"
   ]
  },
  {
   "cell_type": "code",
   "execution_count": 3,
   "id": "dd920aad",
   "metadata": {},
   "outputs": [],
   "source": [
    "import parkit as pk\n",
    "\n",
    "pk.import_site('C:\\\\Users\\\\rdpuser\\\\Desktop\\\\test')"
   ]
  },
  {
   "cell_type": "code",
   "execution_count": 4,
   "id": "05c15e89",
   "metadata": {},
   "outputs": [],
   "source": [
    "# Smoke Tests"
   ]
  },
  {
   "cell_type": "code",
   "execution_count": 5,
   "id": "0ac3de77",
   "metadata": {},
   "outputs": [],
   "source": [
    "collection_tests = pk.bind_task('collection_tests')"
   ]
  },
  {
   "cell_type": "code",
   "execution_count": 6,
   "id": "d2d8b62d",
   "metadata": {},
   "outputs": [],
   "source": [
    "pk.pool().start()"
   ]
  },
  {
   "cell_type": "code",
   "execution_count": 7,
   "id": "bc60c23d",
   "metadata": {},
   "outputs": [],
   "source": [
    "traces = []\n",
    "for i in range(16):\n",
    "    traces.append(collection_tests(1000))"
   ]
  },
  {
   "cell_type": "code",
   "execution_count": 8,
   "id": "e08214f0",
   "metadata": {},
   "outputs": [],
   "source": [
    "pk.wait(*traces, lambda: all(trace.done for trace in traces))\n",
    "assert all(trace.result for trace in traces)"
   ]
  },
  {
   "cell_type": "code",
   "execution_count": 9,
   "id": "5c6a65cc",
   "metadata": {},
   "outputs": [],
   "source": [
    "pk.pool().stop()"
   ]
  },
  {
   "cell_type": "code",
   "execution_count": 10,
   "id": "5ebea052",
   "metadata": {},
   "outputs": [],
   "source": [
    "# File Tests"
   ]
  },
  {
   "cell_type": "code",
   "execution_count": 11,
   "id": "7f9c04b7",
   "metadata": {},
   "outputs": [],
   "source": [
    "import numpy as np\n",
    "import pandas as pd"
   ]
  },
  {
   "cell_type": "code",
   "execution_count": 12,
   "id": "fe6ef52f",
   "metadata": {},
   "outputs": [],
   "source": [
    "rows = []\n",
    "for i in range(10000):\n",
    "    rows.append(dict(a = i, b = i))\n",
    "df = pd.DataFrame(rows)"
   ]
  },
  {
   "cell_type": "code",
   "execution_count": 13,
   "id": "06c316c3",
   "metadata": {},
   "outputs": [],
   "source": [
    "f = pk.File(mode = 'wb')"
   ]
  },
  {
   "cell_type": "code",
   "execution_count": 14,
   "id": "9d4ad23c",
   "metadata": {},
   "outputs": [],
   "source": [
    "with f:\n",
    "    df.to_feather(f)"
   ]
  },
  {
   "cell_type": "code",
   "execution_count": 15,
   "id": "cf874801",
   "metadata": {},
   "outputs": [],
   "source": [
    "f.mode = 'rb'\n",
    "with f:\n",
    "    assert df.equals(pd.read_feather(f))"
   ]
  },
  {
   "cell_type": "code",
   "execution_count": 16,
   "id": "437fd581",
   "metadata": {},
   "outputs": [],
   "source": [
    "a = np.zeros((100,100))"
   ]
  },
  {
   "cell_type": "code",
   "execution_count": 17,
   "id": "bb0cf11e",
   "metadata": {},
   "outputs": [],
   "source": [
    "f = pk.File(mode = 'wb+')\n",
    "with f:\n",
    "    np.save(f, a)"
   ]
  },
  {
   "cell_type": "code",
   "execution_count": 18,
   "id": "27f0235b",
   "metadata": {},
   "outputs": [],
   "source": [
    "f.mode = 'rb+'\n",
    "with f:\n",
    "    assert np.array_equal(a, np.load(f))"
   ]
  },
  {
   "cell_type": "code",
   "execution_count": null,
   "id": "88ff000b",
   "metadata": {},
   "outputs": [],
   "source": []
  }
 ],
 "metadata": {
  "kernelspec": {
   "display_name": "Python 3",
   "language": "python",
   "name": "python3"
  },
  "language_info": {
   "codemirror_mode": {
    "name": "ipython",
    "version": 3
   },
   "file_extension": ".py",
   "mimetype": "text/x-python",
   "name": "python",
   "nbconvert_exporter": "python",
   "pygments_lexer": "ipython3",
   "version": "3.8.3"
  }
 },
 "nbformat": 4,
 "nbformat_minor": 5
}
