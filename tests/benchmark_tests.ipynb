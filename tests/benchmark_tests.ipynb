{
 "cells": [
  {
   "cell_type": "code",
   "execution_count": null,
   "id": "3ab14a7b",
   "metadata": {},
   "outputs": [],
   "source": [
    "%reload_ext autoreload\n",
    "%autoreload 2"
   ]
  },
  {
   "cell_type": "code",
   "execution_count": null,
   "id": "e70fa2ec",
   "metadata": {},
   "outputs": [],
   "source": [
    "import os\n",
    "import sys\n",
    "os.environ['PYTHONPATH'] = os.environ['PYTHONPATH'] + 'C:\\\\Users\\\\rdpuser\\\\Documents\\\\Github\\\\parkit;'\n",
    "sys.path.append('C:\\\\Users\\\\rdpuser\\\\Documents\\\\Github\\\\parkit')"
   ]
  },
  {
   "cell_type": "code",
   "execution_count": null,
   "id": "31867c76",
   "metadata": {},
   "outputs": [],
   "source": [
    "import logging\n",
    "import queue\n",
    "\n",
    "import parkit as pk\n",
    "\n",
    "logger = logging.getLogger(__name__)\n",
    "\n",
    "pk.import_site('C:\\\\Users\\\\rdpuser\\\\Desktop\\\\test')"
   ]
  },
  {
   "cell_type": "code",
   "execution_count": null,
   "id": "282794f9",
   "metadata": {},
   "outputs": [],
   "source": [
    "# Queue"
   ]
  },
  {
   "cell_type": "code",
   "execution_count": null,
   "id": "ebd6228f",
   "metadata": {},
   "outputs": [],
   "source": [
    "q1 = queue.Queue()\n",
    "q2 = pk.Queue()"
   ]
  },
  {
   "cell_type": "code",
   "execution_count": null,
   "id": "0606ad86",
   "metadata": {},
   "outputs": [],
   "source": [
    "%%timeit\n",
    "for i in range(1000000):\n",
    "    q1.put_nowait(i)\n",
    "for i in range(1000000):\n",
    "    q1.get_nowait()"
   ]
  },
  {
   "cell_type": "code",
   "execution_count": null,
   "id": "da5b4a71",
   "metadata": {},
   "outputs": [],
   "source": [
    "%%timeit\n",
    "with pk.transaction(q2):\n",
    "    for i in range(1000000):\n",
    "        q2.put(i)\n",
    "with pk.transaction(q2):\n",
    "    for i in range(1000000):\n",
    "        q2.get()"
   ]
  },
  {
   "cell_type": "code",
   "execution_count": null,
   "id": "05d83217",
   "metadata": {},
   "outputs": [],
   "source": [
    "# Array"
   ]
  },
  {
   "cell_type": "code",
   "execution_count": null,
   "id": "503f999f",
   "metadata": {},
   "outputs": [],
   "source": [
    "a1 = list()\n",
    "a2 = pk.Array()"
   ]
  },
  {
   "cell_type": "code",
   "execution_count": null,
   "id": "6fa67a58",
   "metadata": {},
   "outputs": [],
   "source": [
    "%%timeit\n",
    "for i in range(1000000):\n",
    "    a1.append(i)\n",
    "a1.clear()"
   ]
  },
  {
   "cell_type": "code",
   "execution_count": null,
   "id": "5a16dd7e",
   "metadata": {},
   "outputs": [],
   "source": [
    "%%timeit\n",
    "with pk.transaction(a2):\n",
    "    for i in range(1000000):\n",
    "        a2.append(i)\n",
    "a2.clear()"
   ]
  },
  {
   "cell_type": "code",
   "execution_count": null,
   "id": "3d0fa1db",
   "metadata": {},
   "outputs": [],
   "source": [
    "# Dict"
   ]
  },
  {
   "cell_type": "code",
   "execution_count": null,
   "id": "e3c40f4b",
   "metadata": {},
   "outputs": [],
   "source": [
    "d1 = dict()\n",
    "d2 = pk.Dict()"
   ]
  },
  {
   "cell_type": "code",
   "execution_count": null,
   "id": "0db9723f",
   "metadata": {},
   "outputs": [],
   "source": [
    "%%timeit\n",
    "for i in range(10000):\n",
    "    d1[i] = i\n",
    "d1.clear()"
   ]
  },
  {
   "cell_type": "code",
   "execution_count": null,
   "id": "2f704d77",
   "metadata": {},
   "outputs": [],
   "source": [
    "%%timeit\n",
    "with pk.transaction(d2):\n",
    "    for i in range(10000):\n",
    "        d2[i] = i\n",
    "d2.clear()"
   ]
  },
  {
   "cell_type": "code",
   "execution_count": null,
   "id": "68c339f7",
   "metadata": {},
   "outputs": [],
   "source": [
    "%%timeit\n",
    "for i in range(10000):\n",
    "    d2[i] = i\n",
    "d2.clear()"
   ]
  }
 ],
 "metadata": {
  "kernelspec": {
   "display_name": "Python 3",
   "language": "python",
   "name": "python3"
  },
  "language_info": {
   "codemirror_mode": {
    "name": "ipython",
    "version": 3
   },
   "file_extension": ".py",
   "mimetype": "text/x-python",
   "name": "python",
   "nbconvert_exporter": "python",
   "pygments_lexer": "ipython3",
   "version": "3.8.3"
  }
 },
 "nbformat": 4,
 "nbformat_minor": 5
}
