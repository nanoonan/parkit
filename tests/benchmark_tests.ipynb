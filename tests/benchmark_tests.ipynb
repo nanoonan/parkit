{
 "cells": [
  {
   "cell_type": "code",
   "execution_count": 1,
   "id": "2f24e921",
   "metadata": {},
   "outputs": [],
   "source": [
    "%reload_ext autoreload\n",
    "%autoreload 2"
   ]
  },
  {
   "cell_type": "code",
   "execution_count": 2,
   "id": "5dce5579",
   "metadata": {},
   "outputs": [],
   "source": [
    "import os\n",
    "import sys\n",
    "os.environ['PYTHONPATH'] = os.environ['PYTHONPATH'] + 'C:\\\\Users\\\\rdpuser\\\\Documents\\\\Github\\\\parkit;'\n",
    "sys.path.append('C:\\\\Users\\\\rdpuser\\\\Documents\\\\Github\\\\parkit')"
   ]
  },
  {
   "cell_type": "code",
   "execution_count": 3,
   "id": "37c1115e",
   "metadata": {},
   "outputs": [],
   "source": [
    "import logging\n",
    "import multiprocessing\n",
    "import queue\n",
    "\n",
    "import parkit as pk\n",
    "\n",
    "logger = logging.getLogger(__name__)\n",
    "\n",
    "pk.import_site('C:\\\\Users\\\\rdpuser\\\\Desktop\\\\test')"
   ]
  },
  {
   "cell_type": "code",
   "execution_count": null,
   "id": "a7d5d0ef",
   "metadata": {},
   "outputs": [],
   "source": [
    "# Queue"
   ]
  },
  {
   "cell_type": "code",
   "execution_count": null,
   "id": "5985ecf1",
   "metadata": {},
   "outputs": [],
   "source": [
    "q1 = queue.Queue()\n",
    "q2 = pk.Queue('memory')\n",
    "q3 = multiprocessing.Queue()\n",
    "q4 = pk.Queue()"
   ]
  },
  {
   "cell_type": "code",
   "execution_count": null,
   "id": "9e8e1efb",
   "metadata": {},
   "outputs": [],
   "source": [
    "%%timeit\n",
    "for i in range(1000):\n",
    "    q1.put_nowait(i)\n",
    "for i in range(1000):\n",
    "    q1.get_nowait()"
   ]
  },
  {
   "cell_type": "code",
   "execution_count": null,
   "id": "1678f877",
   "metadata": {},
   "outputs": [],
   "source": [
    "%%timeit\n",
    "with pk.transaction(q2):\n",
    "    for i in range(1000):\n",
    "        q2.put(i)\n",
    "    for i in range(1000):\n",
    "        q2.get()"
   ]
  },
  {
   "cell_type": "code",
   "execution_count": null,
   "id": "7db7d75f",
   "metadata": {},
   "outputs": [],
   "source": [
    "%%timeit\n",
    "for i in range(1000):\n",
    "    q2.put(i)\n",
    "for i in range(1000):\n",
    "    q2.get()"
   ]
  },
  {
   "cell_type": "code",
   "execution_count": null,
   "id": "6764f2cb",
   "metadata": {},
   "outputs": [],
   "source": [
    "%%timeit\n",
    "for i in range(1000):\n",
    "    q3.put(i)\n",
    "for i in range(1000):\n",
    "    q3.get()"
   ]
  },
  {
   "cell_type": "code",
   "execution_count": null,
   "id": "3f113c90",
   "metadata": {},
   "outputs": [],
   "source": [
    "# Array"
   ]
  },
  {
   "cell_type": "code",
   "execution_count": 4,
   "id": "c5ab3614",
   "metadata": {},
   "outputs": [],
   "source": [
    "a1 = list()\n",
    "a2 = pk.Array('memory')\n",
    "a3 = multiprocessing.Array('i', range(10000))"
   ]
  },
  {
   "cell_type": "code",
   "execution_count": null,
   "id": "51ff126b",
   "metadata": {},
   "outputs": [],
   "source": [
    "%%timeit\n",
    "for i in range(10000):\n",
    "    a1.append(i)\n",
    "a1.clear()"
   ]
  },
  {
   "cell_type": "code",
   "execution_count": 7,
   "id": "3591ff6f",
   "metadata": {},
   "outputs": [
    {
     "name": "stdout",
     "output_type": "stream",
     "text": [
      "81.3 ms ± 1.18 ms per loop (mean ± std. dev. of 7 runs, 10 loops each)\n"
     ]
    }
   ],
   "source": [
    "%%timeit\n",
    "with pk.transaction(a2):\n",
    "    for i in range(10000):\n",
    "        a2.append(i)\n",
    "a2.clear()"
   ]
  },
  {
   "cell_type": "code",
   "execution_count": null,
   "id": "42cc975a",
   "metadata": {},
   "outputs": [],
   "source": [
    "%%timeit\n",
    "for i in range(10000):\n",
    "    a3[i] = i"
   ]
  },
  {
   "cell_type": "code",
   "execution_count": null,
   "id": "58fba819",
   "metadata": {},
   "outputs": [],
   "source": [
    "# Dict"
   ]
  },
  {
   "cell_type": "code",
   "execution_count": null,
   "id": "ad11e135",
   "metadata": {},
   "outputs": [],
   "source": [
    "d1 = dict()\n",
    "d2 = pk.Dict('memory')\n",
    "d3 = multiprocessing.Manager().dict()"
   ]
  },
  {
   "cell_type": "code",
   "execution_count": null,
   "id": "89191791",
   "metadata": {},
   "outputs": [],
   "source": [
    "data = []\n",
    "for i in range(10000):\n",
    "    data.append((i, i))"
   ]
  },
  {
   "cell_type": "code",
   "execution_count": null,
   "id": "26619fe9",
   "metadata": {},
   "outputs": [],
   "source": [
    "%%timeit\n",
    "for i in range(10000):\n",
    "    d1[i] = i\n",
    "d1.clear()"
   ]
  },
  {
   "cell_type": "code",
   "execution_count": null,
   "id": "72d3fef2",
   "metadata": {},
   "outputs": [],
   "source": [
    "%%timeit\n",
    "d1.update(data)\n",
    "d1.clear()"
   ]
  },
  {
   "cell_type": "code",
   "execution_count": null,
   "id": "305643b2",
   "metadata": {},
   "outputs": [],
   "source": [
    "%%timeit\n",
    "with pk.transaction(d2):\n",
    "    for i in range(10000):\n",
    "        d2[i] = i\n",
    "    d2.clear()"
   ]
  },
  {
   "cell_type": "code",
   "execution_count": null,
   "id": "926377d2",
   "metadata": {},
   "outputs": [],
   "source": [
    "%%timeit\n",
    "d2.update(data)\n",
    "d2.clear()"
   ]
  },
  {
   "cell_type": "code",
   "execution_count": null,
   "id": "f74841c4",
   "metadata": {},
   "outputs": [],
   "source": [
    "%%timeit\n",
    "for i in range(10000):\n",
    "    d2[i] = i\n",
    "d2.clear()"
   ]
  },
  {
   "cell_type": "code",
   "execution_count": null,
   "id": "019d5024",
   "metadata": {},
   "outputs": [],
   "source": [
    "%%timeit\n",
    "for i in range(10000):\n",
    "    d3[i] = i\n",
    "d3.clear()"
   ]
  },
  {
   "cell_type": "code",
   "execution_count": null,
   "id": "15413003",
   "metadata": {},
   "outputs": [],
   "source": [
    "%%timeit\n",
    "d3.update(data)\n",
    "d3.clear()"
   ]
  },
  {
   "cell_type": "code",
   "execution_count": null,
   "id": "3e926ba9",
   "metadata": {},
   "outputs": [],
   "source": [
    "# File"
   ]
  },
  {
   "cell_type": "code",
   "execution_count": null,
   "id": "7885ca9b",
   "metadata": {},
   "outputs": [],
   "source": [
    "import pandas as pd\n",
    "import numpy as np"
   ]
  },
  {
   "cell_type": "code",
   "execution_count": null,
   "id": "2e7866bd",
   "metadata": {},
   "outputs": [],
   "source": [
    "rows = []\n",
    "for i in range(1000000):\n",
    "    rows.append(dict(a = i, b = i))\n",
    "df = pd.DataFrame(rows)"
   ]
  },
  {
   "cell_type": "code",
   "execution_count": null,
   "id": "acf33d8b",
   "metadata": {},
   "outputs": [],
   "source": [
    "%%timeit\n",
    "df.to_feather('test')"
   ]
  },
  {
   "cell_type": "code",
   "execution_count": null,
   "id": "c326445b",
   "metadata": {},
   "outputs": [],
   "source": [
    "f = pk.File('memory', mode = 'wb')"
   ]
  },
  {
   "cell_type": "code",
   "execution_count": null,
   "id": "8fd4ed80",
   "metadata": {},
   "outputs": [],
   "source": [
    "%%timeit\n",
    "with f:\n",
    "    df.to_feather(f)"
   ]
  },
  {
   "cell_type": "code",
   "execution_count": null,
   "id": "5307e4b2",
   "metadata": {},
   "outputs": [],
   "source": [
    "%%timeit\n",
    "_ = pd.read_feather('test')"
   ]
  },
  {
   "cell_type": "code",
   "execution_count": null,
   "id": "207b473f",
   "metadata": {},
   "outputs": [],
   "source": [
    "%%timeit\n",
    "f.mode = 'rb'\n",
    "with f:\n",
    "    assert df.equals(pd.read_feather(f))"
   ]
  },
  {
   "cell_type": "code",
   "execution_count": null,
   "id": "d1b803e6",
   "metadata": {},
   "outputs": [],
   "source": [
    "%%timeit\n",
    "f.mode = 'rb'\n",
    "with pk.snapshot(f):\n",
    "    assert isinstance(f.content, memoryview)"
   ]
  },
  {
   "cell_type": "code",
   "execution_count": null,
   "id": "9f01e1d1",
   "metadata": {},
   "outputs": [],
   "source": [
    "a = np.zeros((1000,1000))"
   ]
  },
  {
   "cell_type": "code",
   "execution_count": null,
   "id": "b03ad97c",
   "metadata": {},
   "outputs": [],
   "source": [
    "f = pk.File(mode = 'wb')\n",
    "with f:\n",
    "    np.save(f, a)"
   ]
  },
  {
   "cell_type": "code",
   "execution_count": null,
   "id": "6b43d750",
   "metadata": {},
   "outputs": [],
   "source": [
    "%%timeit\n",
    "f.mode = 'rb'\n",
    "with pk.snapshot(f):\n",
    "    assert isinstance(f.content, memoryview)"
   ]
  },
  {
   "cell_type": "code",
   "execution_count": null,
   "id": "ff375695",
   "metadata": {},
   "outputs": [],
   "source": []
  }
 ],
 "metadata": {
  "kernelspec": {
   "display_name": "Python 3",
   "language": "python",
   "name": "python3"
  },
  "language_info": {
   "codemirror_mode": {
    "name": "ipython",
    "version": 3
   },
   "file_extension": ".py",
   "mimetype": "text/x-python",
   "name": "python",
   "nbconvert_exporter": "python",
   "pygments_lexer": "ipython3",
   "version": "3.8.3"
  }
 },
 "nbformat": 4,
 "nbformat_minor": 5
}
