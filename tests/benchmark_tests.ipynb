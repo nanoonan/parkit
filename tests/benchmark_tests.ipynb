{
 "cells": [
  {
   "cell_type": "code",
   "execution_count": null,
   "id": "7aecc19b",
   "metadata": {},
   "outputs": [],
   "source": [
    "%reload_ext autoreload\n",
    "%autoreload 2"
   ]
  },
  {
   "cell_type": "code",
   "execution_count": null,
   "id": "da6beb2f",
   "metadata": {},
   "outputs": [],
   "source": [
    "import os\n",
    "import sys\n",
    "os.environ['PYTHONPATH'] = os.environ['PYTHONPATH'] + 'C:\\\\Users\\\\rdpuser\\\\Documents\\\\Github\\\\parkit;'\n",
    "sys.path.append('C:\\\\Users\\\\rdpuser\\\\Documents\\\\Github\\\\parkit')"
   ]
  },
  {
   "cell_type": "code",
   "execution_count": null,
   "id": "f2cf6898",
   "metadata": {},
   "outputs": [],
   "source": [
    "import logging\n",
    "import multiprocessing\n",
    "import queue\n",
    "\n",
    "import parkit as pk\n",
    "\n",
    "logger = logging.getLogger(__name__)\n",
    "\n",
    "pk.import_site('C:\\\\Users\\\\rdpuser\\\\Desktop\\\\test')"
   ]
  },
  {
   "cell_type": "code",
   "execution_count": null,
   "id": "8f7d722f",
   "metadata": {},
   "outputs": [],
   "source": [
    "# Queue"
   ]
  },
  {
   "cell_type": "code",
   "execution_count": null,
   "id": "52693b93",
   "metadata": {},
   "outputs": [],
   "source": [
    "q1 = queue.Queue()\n",
    "q2 = pk.Queue('memory')\n",
    "q3 = multiprocessing.Queue()\n",
    "q4 = pk.Queue()"
   ]
  },
  {
   "cell_type": "code",
   "execution_count": null,
   "id": "3a3effb0",
   "metadata": {},
   "outputs": [],
   "source": [
    "%%timeit\n",
    "for i in range(1000):\n",
    "    q1.put_nowait(i)\n",
    "for i in range(1000):\n",
    "    q1.get_nowait()"
   ]
  },
  {
   "cell_type": "code",
   "execution_count": null,
   "id": "0a7743d5",
   "metadata": {},
   "outputs": [],
   "source": [
    "%%timeit\n",
    "with pk.transaction(q2):\n",
    "    for i in range(1000):\n",
    "        q2.put(i)\n",
    "    for i in range(1000):\n",
    "        q2.get()"
   ]
  },
  {
   "cell_type": "code",
   "execution_count": null,
   "id": "a82caa3b",
   "metadata": {},
   "outputs": [],
   "source": [
    "%%timeit\n",
    "for i in range(1000):\n",
    "    q2.put(i)\n",
    "for i in range(1000):\n",
    "    q2.get()"
   ]
  },
  {
   "cell_type": "code",
   "execution_count": null,
   "id": "ca64e111",
   "metadata": {},
   "outputs": [],
   "source": [
    "%%timeit\n",
    "for i in range(1000):\n",
    "    q3.put(i)\n",
    "for i in range(1000):\n",
    "    q3.get()"
   ]
  },
  {
   "cell_type": "code",
   "execution_count": null,
   "id": "2df62714",
   "metadata": {},
   "outputs": [],
   "source": [
    "# Array"
   ]
  },
  {
   "cell_type": "code",
   "execution_count": null,
   "id": "0209b930",
   "metadata": {},
   "outputs": [],
   "source": [
    "a1 = list()\n",
    "a2 = pk.Array('memory')"
   ]
  },
  {
   "cell_type": "code",
   "execution_count": null,
   "id": "625b16d5",
   "metadata": {},
   "outputs": [],
   "source": [
    "%%timeit\n",
    "for i in range(10000):\n",
    "    a1.append(i)\n",
    "a1.clear()"
   ]
  },
  {
   "cell_type": "code",
   "execution_count": null,
   "id": "6106b43a",
   "metadata": {},
   "outputs": [],
   "source": [
    "%%timeit\n",
    "with pk.transaction(a2):\n",
    "    for i in range(10000):\n",
    "        a2.append(i)\n",
    "    a2.clear()"
   ]
  },
  {
   "cell_type": "code",
   "execution_count": null,
   "id": "d0f3d854",
   "metadata": {},
   "outputs": [],
   "source": [
    "%%timeit\n",
    "for i in range(10000):\n",
    "    a2.append(i)\n",
    "a2.clear()"
   ]
  },
  {
   "cell_type": "code",
   "execution_count": null,
   "id": "1b9af65f",
   "metadata": {},
   "outputs": [],
   "source": [
    "# Dict"
   ]
  },
  {
   "cell_type": "code",
   "execution_count": null,
   "id": "95060270",
   "metadata": {},
   "outputs": [],
   "source": [
    "d1 = dict()\n",
    "d2 = pk.Dict('memory')"
   ]
  },
  {
   "cell_type": "code",
   "execution_count": null,
   "id": "792fb49b",
   "metadata": {},
   "outputs": [],
   "source": [
    "%%timeit\n",
    "for i in range(10000):\n",
    "    d1[i] = i\n",
    "d1.clear()"
   ]
  },
  {
   "cell_type": "code",
   "execution_count": null,
   "id": "19f5c84c",
   "metadata": {},
   "outputs": [],
   "source": [
    "%%timeit\n",
    "with pk.transaction(d2):\n",
    "    for i in range(10000):\n",
    "        d2[i] = i\n",
    "    d2.clear()"
   ]
  },
  {
   "cell_type": "code",
   "execution_count": null,
   "id": "707ae1f6",
   "metadata": {},
   "outputs": [],
   "source": [
    "%%timeit\n",
    "for i in range(10000):\n",
    "    d2[i] = i\n",
    "d2.clear()"
   ]
  },
  {
   "cell_type": "code",
   "execution_count": null,
   "id": "82aaf931",
   "metadata": {},
   "outputs": [],
   "source": []
  }
 ],
 "metadata": {
  "kernelspec": {
   "display_name": "Python 3",
   "language": "python",
   "name": "python3"
  },
  "language_info": {
   "codemirror_mode": {
    "name": "ipython",
    "version": 3
   },
   "file_extension": ".py",
   "mimetype": "text/x-python",
   "name": "python",
   "nbconvert_exporter": "python",
   "pygments_lexer": "ipython3",
   "version": "3.8.3"
  }
 },
 "nbformat": 4,
 "nbformat_minor": 5
}
